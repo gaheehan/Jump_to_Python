{
 "cells": [
  {
   "cell_type": "markdown",
   "id": "0f878214",
   "metadata": {},
   "source": [
    "# 2.자료형\n",
    "\n",
    "1. 숫자형 자료형\n",
    "2. 문자열 자료형\n",
    "3. 리스트 자료형\n",
    "4. 튜플 자료형\n",
    "5. 딕셔너리 자료형\n",
    "6. 집합 자료형\n",
    "7. 불 자료형\n",
    "8. 변수 "
   ]
  },
  {
   "cell_type": "markdown",
   "id": "9b897486",
   "metadata": {},
   "source": [
    "## 02-1 숫자형"
   ]
  },
  {
   "cell_type": "markdown",
   "id": "09152348",
   "metadata": {},
   "source": [
    "### 정수형(Integer)"
   ]
  },
  {
   "cell_type": "code",
   "execution_count": 1,
   "id": "559d3689",
   "metadata": {},
   "outputs": [],
   "source": [
    "a = 123\n",
    "a = -178\n",
    "a = 0 "
   ]
  },
  {
   "cell_type": "markdown",
   "id": "57d14921",
   "metadata": {},
   "source": [
    "### 실수형(Floating-point) : 소수점이 포함된 숫자"
   ]
  },
  {
   "cell_type": "code",
   "execution_count": 2,
   "id": "2dba51ab",
   "metadata": {},
   "outputs": [],
   "source": [
    "a = 1.2\n",
    "a = -3.45"
   ]
  },
  {
   "cell_type": "code",
   "execution_count": 3,
   "id": "c051c36a",
   "metadata": {},
   "outputs": [],
   "source": [
    "a = 4.24E10 #컴퓨터식 지수 표현 방식 4.24*10^10 의미한다."
   ]
  },
  {
   "cell_type": "code",
   "execution_count": 4,
   "id": "cbd46b1c",
   "metadata": {},
   "outputs": [
    {
     "data": {
      "text/plain": [
       "42400000000.0"
      ]
     },
     "execution_count": 4,
     "metadata": {},
     "output_type": "execute_result"
    }
   ],
   "source": [
    "a"
   ]
  },
  {
   "cell_type": "markdown",
   "id": "ea7c243c",
   "metadata": {},
   "source": [
    "### 8진수와 16진수\n",
    "\n",
    "8 진수 (Octal) 를 만들기 위해서는 숫자가 0o 또는 0O(숫자 0 + 알파벳 소문자 o 또는 대문자 O) 로 시작하\n",
    "면 된다.\n"
   ]
  },
  {
   "cell_type": "code",
   "execution_count": 5,
   "id": "0006958b",
   "metadata": {},
   "outputs": [],
   "source": [
    "a = 0o177"
   ]
  },
  {
   "cell_type": "code",
   "execution_count": 6,
   "id": "4c8ec7d5",
   "metadata": {},
   "outputs": [
    {
     "data": {
      "text/plain": [
       "127"
      ]
     },
     "execution_count": 6,
     "metadata": {},
     "output_type": "execute_result"
    }
   ],
   "source": [
    "a"
   ]
  },
  {
   "cell_type": "markdown",
   "id": "bf6c2255",
   "metadata": {},
   "source": [
    "16 진수 (Hexadecimal) 를 만들기 위해서는 0x 로 시작하면 된다."
   ]
  },
  {
   "cell_type": "code",
   "execution_count": 7,
   "id": "45ec1042",
   "metadata": {},
   "outputs": [],
   "source": [
    "a = 0x8ff\n",
    "b = 0xABC\n"
   ]
  },
  {
   "cell_type": "code",
   "execution_count": 8,
   "id": "298dbe1b",
   "metadata": {},
   "outputs": [
    {
     "data": {
      "text/plain": [
       "2303"
      ]
     },
     "execution_count": 8,
     "metadata": {},
     "output_type": "execute_result"
    }
   ],
   "source": [
    "a"
   ]
  },
  {
   "cell_type": "code",
   "execution_count": 9,
   "id": "2b5dfa56",
   "metadata": {},
   "outputs": [
    {
     "data": {
      "text/plain": [
       "2748"
      ]
     },
     "execution_count": 9,
     "metadata": {},
     "output_type": "execute_result"
    }
   ],
   "source": [
    "b"
   ]
  },
  {
   "cell_type": "markdown",
   "id": "aacd8a6b",
   "metadata": {},
   "source": [
    "## 숫자형을 활용하기 위한 연산자"
   ]
  },
  {
   "cell_type": "markdown",
   "id": "623f026a",
   "metadata": {},
   "source": [
    "### 사칙연산"
   ]
  },
  {
   "cell_type": "code",
   "execution_count": 11,
   "id": "da58ffe6",
   "metadata": {},
   "outputs": [],
   "source": [
    "a = 3\n",
    "b = 4"
   ]
  },
  {
   "cell_type": "code",
   "execution_count": 12,
   "id": "6fbe9958",
   "metadata": {},
   "outputs": [
    {
     "data": {
      "text/plain": [
       "7"
      ]
     },
     "execution_count": 12,
     "metadata": {},
     "output_type": "execute_result"
    }
   ],
   "source": [
    "a+b"
   ]
  },
  {
   "cell_type": "code",
   "execution_count": 13,
   "id": "5a963d41",
   "metadata": {},
   "outputs": [
    {
     "data": {
      "text/plain": [
       "-1"
      ]
     },
     "execution_count": 13,
     "metadata": {},
     "output_type": "execute_result"
    }
   ],
   "source": [
    "a-b"
   ]
  },
  {
   "cell_type": "code",
   "execution_count": 14,
   "id": "63b55c3c",
   "metadata": {},
   "outputs": [
    {
     "data": {
      "text/plain": [
       "12"
      ]
     },
     "execution_count": 14,
     "metadata": {},
     "output_type": "execute_result"
    }
   ],
   "source": [
    "a*b"
   ]
  },
  {
   "cell_type": "code",
   "execution_count": 15,
   "id": "8defe05f",
   "metadata": {},
   "outputs": [
    {
     "data": {
      "text/plain": [
       "0.75"
      ]
     },
     "execution_count": 15,
     "metadata": {},
     "output_type": "execute_result"
    }
   ],
   "source": [
    "a/b"
   ]
  },
  {
   "cell_type": "markdown",
   "id": "5c1de7d6",
   "metadata": {},
   "source": [
    "#### 제곱을 나타내는 ** 연산자"
   ]
  },
  {
   "cell_type": "code",
   "execution_count": 16,
   "id": "2c03f538",
   "metadata": {},
   "outputs": [
    {
     "data": {
      "text/plain": [
       "81"
      ]
     },
     "execution_count": 16,
     "metadata": {},
     "output_type": "execute_result"
    }
   ],
   "source": [
    "a = 3\n",
    "b = 4\n",
    "a ** b"
   ]
  },
  {
   "cell_type": "markdown",
   "id": "b5c7b8f0",
   "metadata": {},
   "source": [
    "#### 나눗셈 후 나머지를 반환하는 % 연산자"
   ]
  },
  {
   "cell_type": "code",
   "execution_count": 17,
   "id": "ea5109e9",
   "metadata": {},
   "outputs": [
    {
     "data": {
      "text/plain": [
       "1"
      ]
     },
     "execution_count": 17,
     "metadata": {},
     "output_type": "execute_result"
    }
   ],
   "source": [
    "7%3"
   ]
  },
  {
   "cell_type": "markdown",
   "id": "c6529ae9",
   "metadata": {},
   "source": [
    "#### 나눗셈 후 몫을 반환하는 // 연산자"
   ]
  },
  {
   "cell_type": "code",
   "execution_count": 18,
   "id": "e1353094",
   "metadata": {},
   "outputs": [
    {
     "data": {
      "text/plain": [
       "1.75"
      ]
     },
     "execution_count": 18,
     "metadata": {},
     "output_type": "execute_result"
    }
   ],
   "source": [
    "7/4"
   ]
  },
  {
   "cell_type": "code",
   "execution_count": 19,
   "id": "a89d6a7b",
   "metadata": {},
   "outputs": [
    {
     "data": {
      "text/plain": [
       "1"
      ]
     },
     "execution_count": 19,
     "metadata": {},
     "output_type": "execute_result"
    }
   ],
   "source": [
    "7 // 4"
   ]
  },
  {
   "cell_type": "markdown",
   "id": "b0e32623",
   "metadata": {},
   "source": [
    "## 02-2 문자열 자료형\n",
    "\n",
    "\n",
    "### 문자열(String)이란?\n",
    "문자, 단어 등으로 구성된 문자들의 집합"
   ]
  },
  {
   "cell_type": "code",
   "execution_count": 20,
   "id": "95917706",
   "metadata": {},
   "outputs": [
    {
     "data": {
      "text/plain": [
       "'123'"
      ]
     },
     "execution_count": 20,
     "metadata": {},
     "output_type": "execute_result"
    }
   ],
   "source": [
    "\"Life is too short, You need Python\"\n",
    "\"a\"\n",
    "\"123\""
   ]
  },
  {
   "cell_type": "markdown",
   "id": "ee2ec870",
   "metadata": {},
   "source": [
    "### 문자열은 어떻게 만들고 사용할까?"
   ]
  },
  {
   "cell_type": "markdown",
   "id": "c133717e",
   "metadata": {},
   "source": [
    "#### 1. 큰따옴표(\")로 양쪽 둘러싸기"
   ]
  },
  {
   "cell_type": "code",
   "execution_count": 21,
   "id": "1a9d6c7e",
   "metadata": {},
   "outputs": [
    {
     "data": {
      "text/plain": [
       "'Hello World'"
      ]
     },
     "execution_count": 21,
     "metadata": {},
     "output_type": "execute_result"
    }
   ],
   "source": [
    "\"Hello World\""
   ]
  },
  {
   "cell_type": "markdown",
   "id": "036a237a",
   "metadata": {},
   "source": [
    "#### 2. 작은따옴표(')로 양쪽 둘러싸기"
   ]
  },
  {
   "cell_type": "code",
   "execution_count": 22,
   "id": "997f0e41",
   "metadata": {},
   "outputs": [
    {
     "data": {
      "text/plain": [
       "'Python is fun'"
      ]
     },
     "execution_count": 22,
     "metadata": {},
     "output_type": "execute_result"
    }
   ],
   "source": [
    "'Python is fun'"
   ]
  },
  {
   "cell_type": "markdown",
   "id": "e313aea9",
   "metadata": {},
   "source": [
    "#### 3. 큰따옴표 3개를 연속(\"\"\")으로 써서 양쪽 둘러싸기"
   ]
  },
  {
   "cell_type": "code",
   "execution_count": 23,
   "id": "81521cf5",
   "metadata": {},
   "outputs": [
    {
     "data": {
      "text/plain": [
       "'Life is too short, You need python'"
      ]
     },
     "execution_count": 23,
     "metadata": {},
     "output_type": "execute_result"
    }
   ],
   "source": [
    "\"\"\"Life is too short, You need python\"\"\""
   ]
  },
  {
   "cell_type": "markdown",
   "id": "71c69cd7",
   "metadata": {},
   "source": [
    "#### 4. 작은따옴표 3개를 연속(''')으로 써서 양쪽 둘러싸기"
   ]
  },
  {
   "cell_type": "code",
   "execution_count": 24,
   "id": "ca5989a9",
   "metadata": {},
   "outputs": [
    {
     "data": {
      "text/plain": [
       "'Life is too short, You need python'"
      ]
     },
     "execution_count": 24,
     "metadata": {},
     "output_type": "execute_result"
    }
   ],
   "source": [
    "'''Life is too short, You need python'''"
   ]
  },
  {
   "cell_type": "markdown",
   "id": "5bc2a5ec",
   "metadata": {},
   "source": [
    "#### 문자열 안에 작은따옴표나 큰따옴표를 포함시키고 싶을 때"
   ]
  },
  {
   "cell_type": "markdown",
   "id": "c1cef364",
   "metadata": {},
   "source": [
    "##### 1. 문자열에 작은따옴표 (') 포함시키기"
   ]
  },
  {
   "cell_type": "code",
   "execution_count": 25,
   "id": "229c2015",
   "metadata": {},
   "outputs": [
    {
     "data": {
      "text/plain": [
       "\"Python's favorite food is perl\""
      ]
     },
     "execution_count": 25,
     "metadata": {},
     "output_type": "execute_result"
    }
   ],
   "source": [
    "\"Python's favorite food is perl\""
   ]
  },
  {
   "cell_type": "code",
   "execution_count": 26,
   "id": "58e8a182",
   "metadata": {},
   "outputs": [],
   "source": [
    "food = \"Python's favorite food is perl\""
   ]
  },
  {
   "cell_type": "code",
   "execution_count": 27,
   "id": "a11679f7",
   "metadata": {},
   "outputs": [
    {
     "data": {
      "text/plain": [
       "\"Python's favorite food is perl\""
      ]
     },
     "execution_count": 27,
     "metadata": {},
     "output_type": "execute_result"
    }
   ],
   "source": [
    "food"
   ]
  },
  {
   "cell_type": "code",
   "execution_count": 28,
   "id": "ca81a716",
   "metadata": {},
   "outputs": [
    {
     "ename": "SyntaxError",
     "evalue": "invalid syntax (3264339671.py, line 1)",
     "output_type": "error",
     "traceback": [
      "\u001b[1;36m  Input \u001b[1;32mIn [28]\u001b[1;36m\u001b[0m\n\u001b[1;33m    food = 'Python's favorite food is perl'\u001b[0m\n\u001b[1;37m                   ^\u001b[0m\n\u001b[1;31mSyntaxError\u001b[0m\u001b[1;31m:\u001b[0m invalid syntax\n"
     ]
    }
   ],
   "source": [
    "food = 'Python's favorite food is perl'"
   ]
  },
  {
   "cell_type": "markdown",
   "id": "95ddc25a",
   "metadata": {},
   "source": [
    "##### 2. 문자열에 큰따옴표('') 포함시키기"
   ]
  },
  {
   "cell_type": "code",
   "execution_count": 29,
   "id": "ebf0b90c",
   "metadata": {},
   "outputs": [],
   "source": [
    "say = '\"Python is very easy.\"he said.'"
   ]
  },
  {
   "cell_type": "code",
   "execution_count": 30,
   "id": "eff6599e",
   "metadata": {},
   "outputs": [
    {
     "data": {
      "text/plain": [
       "'\"Python is very easy.\"he said.'"
      ]
     },
     "execution_count": 30,
     "metadata": {},
     "output_type": "execute_result"
    }
   ],
   "source": [
    "say"
   ]
  },
  {
   "cell_type": "markdown",
   "id": "8eb9f79a",
   "metadata": {},
   "source": [
    "##### 3. 백슬래시(\\)를 사용해서 작은따옴표(')와 큰따옴표(\")를 문자열에 포함시키기"
   ]
  },
  {
   "cell_type": "code",
   "execution_count": 31,
   "id": "60657070",
   "metadata": {},
   "outputs": [],
   "source": [
    "food = 'Python\\'s favorite food is perl'\n",
    "say = \"\\\"Python is very easy.\\\" he says.\""
   ]
  },
  {
   "cell_type": "code",
   "execution_count": 32,
   "id": "1477bb05",
   "metadata": {},
   "outputs": [
    {
     "data": {
      "text/plain": [
       "\"Python's favorite food is perl\""
      ]
     },
     "execution_count": 32,
     "metadata": {},
     "output_type": "execute_result"
    }
   ],
   "source": [
    "food"
   ]
  },
  {
   "cell_type": "code",
   "execution_count": 33,
   "id": "2138fcb8",
   "metadata": {},
   "outputs": [
    {
     "data": {
      "text/plain": [
       "'\"Python is very easy.\" he says.'"
      ]
     },
     "execution_count": 33,
     "metadata": {},
     "output_type": "execute_result"
    }
   ],
   "source": [
    "say"
   ]
  },
  {
   "cell_type": "markdown",
   "id": "e0599844",
   "metadata": {},
   "source": [
    "#### 여러 줄인 문자열을 변수에 대입하고 싶을 때"
   ]
  },
  {
   "cell_type": "code",
   "execution_count": 34,
   "id": "86fccc1a",
   "metadata": {},
   "outputs": [
    {
     "ename": "SyntaxError",
     "evalue": "invalid syntax (3684432950.py, line 1)",
     "output_type": "error",
     "traceback": [
      "\u001b[1;36m  Input \u001b[1;32mIn [34]\u001b[1;36m\u001b[0m\n\u001b[1;33m    LIfe is too short\u001b[0m\n\u001b[1;37m                ^\u001b[0m\n\u001b[1;31mSyntaxError\u001b[0m\u001b[1;31m:\u001b[0m invalid syntax\n"
     ]
    }
   ],
   "source": [
    "LIfe is too short\n",
    "You need python"
   ]
  },
  {
   "cell_type": "markdown",
   "id": "a8db5278",
   "metadata": {},
   "source": [
    "##### 1. 줄을 바꾸기 위한 이스케이프 코드 \\n 삽입하기"
   ]
  },
  {
   "cell_type": "code",
   "execution_count": 49,
   "id": "8b9d790e",
   "metadata": {},
   "outputs": [],
   "source": [
    " multiline = \"Life is too short\\nYou need python\""
   ]
  },
  {
   "cell_type": "code",
   "execution_count": 51,
   "id": "e09188dd",
   "metadata": {},
   "outputs": [
    {
     "name": "stdout",
     "output_type": "stream",
     "text": [
      "Life is too short\n",
      "You need python\n"
     ]
    }
   ],
   "source": [
    "print(multiline)"
   ]
  },
  {
   "cell_type": "markdown",
   "id": "a6e96346",
   "metadata": {},
   "source": [
    "##### 2. 연속된 작은따옴표 3개(''') 또는 큰 따옴표 (\"\"\") 사용하기"
   ]
  },
  {
   "cell_type": "code",
   "execution_count": 56,
   "id": "e2e114af",
   "metadata": {},
   "outputs": [],
   "source": [
    "multiline = '''Life is too short\n",
    "You need python'''"
   ]
  },
  {
   "cell_type": "code",
   "execution_count": 57,
   "id": "191cbc5d",
   "metadata": {},
   "outputs": [
    {
     "name": "stdout",
     "output_type": "stream",
     "text": [
      "Life is too short\n",
      "You need python\n"
     ]
    }
   ],
   "source": [
    "print(multiline)"
   ]
  },
  {
   "cell_type": "code",
   "execution_count": 62,
   "id": "9b96d921",
   "metadata": {},
   "outputs": [],
   "source": [
    "multiline = \"\"\"\n",
    "Life is too short\n",
    "You need python\"\"\""
   ]
  },
  {
   "cell_type": "code",
   "execution_count": 63,
   "id": "094a056f",
   "metadata": {},
   "outputs": [
    {
     "name": "stdout",
     "output_type": "stream",
     "text": [
      "\n",
      "Life is too short\n",
      "You need python\n"
     ]
    }
   ],
   "source": [
    "print(multiline)"
   ]
  },
  {
   "cell_type": "markdown",
   "id": "8b5b140a",
   "metadata": {},
   "source": [
    "### 이스케이프 코드란?"
   ]
  },
  {
   "cell_type": "markdown",
   "id": "a2aecf01",
   "metadata": {},
   "source": [
    "| 코드 | 설명                                                    |\n",
    "|----- |---------------------------------------------------------|\n",
    "|\\n    |  문자열 안에서 줄을 바꿀 때 사용                        |\n",
    "|\\t    | 문자열 사이에 탭 간격을 줄 때 사용                      |\n",
    "|\\\\    |문자 \\를 그대로 표현할 때 사용                           |\n",
    "|\\'    |작은따옴표 (') 를 그대로 표현할 때 사용                  |\n",
    "|\\\"    |큰따옴표 (\") 를 그대로 표현할 때 사용                    |\n",
    "|\\r    |캐리지 리턴 (줄 바꿈 문자, 현재 커서를 가장 앞으로 이동) |\n",
    "|\\f    |폼 피드 (줄 바꿈 문자, 현재 커서를 다음 줄로 이동)       |\n",
    "|\\a    |벨 소리 (출력할 때 PC 스피커에서 ‘삑’ 소리가 난다)     |\n",
    "|\\b    |백 스페이스                                              \n",
    "|\\000  |널 문자\n"
   ]
  },
  {
   "cell_type": "markdown",
   "id": "6ab19fda",
   "metadata": {},
   "source": [
    "이중에서 활용빈도가 높은 것은 \\n, \\t, \\\\, \\', \\\"이다. 나머지는 프로그램에서 잘 사용하지 않는다."
   ]
  },
  {
   "cell_type": "markdown",
   "id": "018707ef",
   "metadata": {},
   "source": [
    "### 문자열 연산하기"
   ]
  },
  {
   "cell_type": "markdown",
   "id": "72a8702f",
   "metadata": {},
   "source": [
    "#### 문자열 더해서 연결하기(Concatenation)"
   ]
  },
  {
   "cell_type": "code",
   "execution_count": 66,
   "id": "58c17970",
   "metadata": {},
   "outputs": [
    {
     "data": {
      "text/plain": [
       "'Python is fun!'"
      ]
     },
     "execution_count": 66,
     "metadata": {},
     "output_type": "execute_result"
    }
   ],
   "source": [
    "head = \"Python\"\n",
    "tail = \" is fun!\"\n",
    "head + tail"
   ]
  },
  {
   "cell_type": "markdown",
   "id": "c210480e",
   "metadata": {},
   "source": [
    "#### 문자열 곱하기"
   ]
  },
  {
   "cell_type": "code",
   "execution_count": 67,
   "id": "dac21930",
   "metadata": {},
   "outputs": [
    {
     "data": {
      "text/plain": [
       "'pythonpython'"
      ]
     },
     "execution_count": 67,
     "metadata": {},
     "output_type": "execute_result"
    }
   ],
   "source": [
    "a = \"python\"\n",
    "a * 2"
   ]
  },
  {
   "cell_type": "markdown",
   "id": "9bc6ba07",
   "metadata": {},
   "source": [
    "#### 문자열 곱하기 응용"
   ]
  },
  {
   "cell_type": "code",
   "execution_count": 68,
   "id": "092b9692",
   "metadata": {},
   "outputs": [
    {
     "name": "stdout",
     "output_type": "stream",
     "text": [
      "==================================================\n",
      "My Program\n",
      "==================================================\n"
     ]
    }
   ],
   "source": [
    "print(\"=\" * 50)\n",
    "print(\"My Program\")\n",
    "print(\"=\" * 50)"
   ]
  },
  {
   "cell_type": "markdown",
   "id": "74fc30cb",
   "metadata": {},
   "source": [
    "#### 문자열 길이 구하기"
   ]
  },
  {
   "cell_type": "code",
   "execution_count": 69,
   "id": "0cb68a8e",
   "metadata": {},
   "outputs": [
    {
     "data": {
      "text/plain": [
       "17"
      ]
     },
     "execution_count": 69,
     "metadata": {},
     "output_type": "execute_result"
    }
   ],
   "source": [
    "a = \"Life is too short\"\n",
    "len(a)"
   ]
  },
  {
   "cell_type": "markdown",
   "id": "6b06426d",
   "metadata": {},
   "source": [
    "### 문자열 인덱싱과 슬라이싱\n",
    "\n",
    "인덱싱 (Indexing) 이란 무엇인가를 “가리킨다” 는 의미이고, 슬라이싱 (Slicing) 은 무엇인가를 “잘라낸\n",
    "다” 는 의미이"
   ]
  },
  {
   "cell_type": "markdown",
   "id": "aa005cff",
   "metadata": {},
   "source": [
    "#### 문자열 인덱싱이란?"
   ]
  },
  {
   "cell_type": "code",
   "execution_count": 70,
   "id": "e32f5555",
   "metadata": {},
   "outputs": [],
   "source": [
    "a = \"Life is too short, You need Python\""
   ]
  },
  {
   "cell_type": "code",
   "execution_count": 71,
   "id": "20a378cd",
   "metadata": {},
   "outputs": [
    {
     "data": {
      "text/plain": [
       "'e'"
      ]
     },
     "execution_count": 71,
     "metadata": {},
     "output_type": "execute_result"
    }
   ],
   "source": [
    "a[3]"
   ]
  },
  {
   "cell_type": "markdown",
   "id": "9799841d",
   "metadata": {},
   "source": [
    "“파이썬은 0 부터 숫자를 센다.”"
   ]
  },
  {
   "cell_type": "code",
   "execution_count": 73,
   "id": "95c87f3c",
   "metadata": {},
   "outputs": [
    {
     "name": "stdout",
     "output_type": "stream",
     "text": [
      "L\n",
      "f\n",
      "o\n"
     ]
    }
   ],
   "source": [
    "print(a[0])\n",
    "print(a[2])\n",
    "print(a[10])"
   ]
  },
  {
   "cell_type": "markdown",
   "id": "8450c546",
   "metadata": {},
   "source": [
    "#### 문자열 인덱싱 활용하기"
   ]
  },
  {
   "cell_type": "code",
   "execution_count": 74,
   "id": "5c3365e5",
   "metadata": {},
   "outputs": [],
   "source": [
    "a = \"Life is too short, You need Python\""
   ]
  },
  {
   "cell_type": "code",
   "execution_count": 75,
   "id": "ba95afb8",
   "metadata": {},
   "outputs": [
    {
     "data": {
      "text/plain": [
       "'L'"
      ]
     },
     "execution_count": 75,
     "metadata": {},
     "output_type": "execute_result"
    }
   ],
   "source": [
    "a[-0]"
   ]
  },
  {
   "cell_type": "code",
   "execution_count": 76,
   "id": "996e7405",
   "metadata": {},
   "outputs": [
    {
     "data": {
      "text/plain": [
       "'o'"
      ]
     },
     "execution_count": 76,
     "metadata": {},
     "output_type": "execute_result"
    }
   ],
   "source": [
    "a[-2]"
   ]
  },
  {
   "cell_type": "code",
   "execution_count": 77,
   "id": "00fb6985",
   "metadata": {},
   "outputs": [
    {
     "data": {
      "text/plain": [
       "'y'"
      ]
     },
     "execution_count": 77,
     "metadata": {},
     "output_type": "execute_result"
    }
   ],
   "source": [
    "a[-5]"
   ]
  },
  {
   "cell_type": "markdown",
   "id": "c04a365c",
   "metadata": {},
   "source": [
    "#### 문자열 슬라이싱이란?"
   ]
  },
  {
   "cell_type": "code",
   "execution_count": 79,
   "id": "ccc33cfe",
   "metadata": {},
   "outputs": [
    {
     "name": "stdout",
     "output_type": "stream",
     "text": [
      "Life\n"
     ]
    }
   ],
   "source": [
    "a = \"Life is too short, You need Python\"\n",
    "b = a[0]+a[1]+a[2]+a[3]\n",
    "print(b)"
   ]
  },
  {
   "cell_type": "code",
   "execution_count": 80,
   "id": "3a74736a",
   "metadata": {},
   "outputs": [
    {
     "data": {
      "text/plain": [
       "'Life'"
      ]
     },
     "execution_count": 80,
     "metadata": {},
     "output_type": "execute_result"
    }
   ],
   "source": [
    "a[0:4]"
   ]
  },
  {
   "cell_type": "code",
   "execution_count": 81,
   "id": "7e3f7cdf",
   "metadata": {},
   "outputs": [
    {
     "data": {
      "text/plain": [
       "'is'"
      ]
     },
     "execution_count": 81,
     "metadata": {},
     "output_type": "execute_result"
    }
   ],
   "source": [
    "a[5:7]"
   ]
  },
  {
   "cell_type": "code",
   "execution_count": 84,
   "id": "6d96ebe5",
   "metadata": {},
   "outputs": [
    {
     "data": {
      "text/plain": [
       "'You need Python'"
      ]
     },
     "execution_count": 84,
     "metadata": {},
     "output_type": "execute_result"
    }
   ],
   "source": [
    "#a[시작 번호: 끝 번호] 에서 끝 번호 부분을 생략하면 시작 번호부터 그 문자열의 끝까지 뽑아낸다.\n",
    "a[19:] "
   ]
  },
  {
   "cell_type": "code",
   "execution_count": 85,
   "id": "efb3311a",
   "metadata": {},
   "outputs": [
    {
     "data": {
      "text/plain": [
       "'Life is too short'"
      ]
     },
     "execution_count": 85,
     "metadata": {},
     "output_type": "execute_result"
    }
   ],
   "source": [
    "#a[시작 번호: 끝 번호] 에서 시작 번호를 생략하면 문자열의 처음부터 끝 번호까지 뽑아낸다.\n",
    "a[:17]"
   ]
  },
  {
   "cell_type": "code",
   "execution_count": 87,
   "id": "d84e0b3f",
   "metadata": {},
   "outputs": [
    {
     "data": {
      "text/plain": [
       "'Life is too short, You need Python'"
      ]
     },
     "execution_count": 87,
     "metadata": {},
     "output_type": "execute_result"
    }
   ],
   "source": [
    "#a[시작 번호: 끝 번호] 에서 시작 번호와 끝 번호를 생략하면 문자열의 처음부터 끝까지를 뽑아낸다.\n",
    "a[:]"
   ]
  },
  {
   "cell_type": "code",
   "execution_count": 88,
   "id": "ab719d0e",
   "metadata": {},
   "outputs": [
    {
     "data": {
      "text/plain": [
       "'You need'"
      ]
     },
     "execution_count": 88,
     "metadata": {},
     "output_type": "execute_result"
    }
   ],
   "source": [
    "a[19:-7]"
   ]
  },
  {
   "cell_type": "markdown",
   "id": "2644222e",
   "metadata": {},
   "source": [
    "#### 슬라이싱으로 문자열 나누기"
   ]
  },
  {
   "cell_type": "code",
   "execution_count": 89,
   "id": "facf53a6",
   "metadata": {},
   "outputs": [
    {
     "name": "stdout",
     "output_type": "stream",
     "text": [
      "20230119\n",
      "Sunny\n"
     ]
    }
   ],
   "source": [
    "a = \"20230119Sunny\"\n",
    "date = a[:8]\n",
    "weather = a[8:]\n",
    "print(date)\n",
    "print(weather)"
   ]
  },
  {
   "cell_type": "code",
   "execution_count": 90,
   "id": "57ea6f2c",
   "metadata": {},
   "outputs": [
    {
     "name": "stdout",
     "output_type": "stream",
     "text": [
      "2023\n",
      "0119\n",
      "Sunny\n"
     ]
    }
   ],
   "source": [
    "year = a[:4]\n",
    "day = a[4:8]\n",
    "weather = a[8:]\n",
    "\n",
    "print(year)\n",
    "print(day)\n",
    "print(weather)"
   ]
  },
  {
   "cell_type": "markdown",
   "id": "748ed63d",
   "metadata": {},
   "source": [
    "### [“Pithon” 이라는 문자열을 “Python” 으로 바꾸려면?]\n",
    "\n"
   ]
  },
  {
   "cell_type": "code",
   "execution_count": 91,
   "id": "36c28ebf",
   "metadata": {},
   "outputs": [],
   "source": [
    "a = \"Pithon\""
   ]
  },
  {
   "cell_type": "code",
   "execution_count": 93,
   "id": "7cb238f9",
   "metadata": {},
   "outputs": [
    {
     "ename": "TypeError",
     "evalue": "'str' object does not support item assignment",
     "output_type": "error",
     "traceback": [
      "\u001b[1;31m---------------------------------------------------------------------------\u001b[0m",
      "\u001b[1;31mTypeError\u001b[0m                                 Traceback (most recent call last)",
      "Input \u001b[1;32mIn [93]\u001b[0m, in \u001b[0;36m<cell line: 1>\u001b[1;34m()\u001b[0m\n\u001b[1;32m----> 1\u001b[0m a[\u001b[38;5;241m1\u001b[39m] \u001b[38;5;241m=\u001b[39m \u001b[38;5;124m'\u001b[39m\u001b[38;5;124my\u001b[39m\u001b[38;5;124m'\u001b[39m\n",
      "\u001b[1;31mTypeError\u001b[0m: 'str' object does not support item assignment"
     ]
    }
   ],
   "source": [
    "a[1] = 'y'"
   ]
  },
  {
   "cell_type": "markdown",
   "id": "dc95c5b7",
   "metadata": {},
   "source": [
    "하지만 결과는 어떻게 나올까?\n",
    "당연히 오류가 발생한다. 왜냐하면 문자열의 요솟값은 바꿀 수 있는 값이 아니기 때문이다 (문자\n",
    "열 자료형은 그 요솟값을 변경할 수 없다. 그래서 immutable 한 자료형이라고도 부른다).\n",
    "슬라이싱 기법을 사용해서 문자열 바꿔줘야함! "
   ]
  },
  {
   "cell_type": "code",
   "execution_count": 94,
   "id": "413905a5",
   "metadata": {},
   "outputs": [
    {
     "data": {
      "text/plain": [
       "'Python'"
      ]
     },
     "execution_count": 94,
     "metadata": {},
     "output_type": "execute_result"
    }
   ],
   "source": [
    "a[0] + \"y\" + a[2:]"
   ]
  },
  {
   "cell_type": "markdown",
   "id": "20ef54f7",
   "metadata": {},
   "source": [
    "### 문자열 포매팅\n",
    "\n",
    "문자열 안의 특정한 값을 바꿔야 할 경우가 있을 때 이것을 가능하게 해주는 것이 바로 문자열 포매팅 기법이다.\n",
    "\n",
    "문자열 포매팅이란 문자열 안에 어떤 값을 삽입하는 방법이다."
   ]
  },
  {
   "cell_type": "markdown",
   "id": "04f9e0d8",
   "metadata": {},
   "source": [
    "#### 1. 숫자 바로 대입"
   ]
  },
  {
   "cell_type": "code",
   "execution_count": 3,
   "id": "6e8fbff1",
   "metadata": {},
   "outputs": [
    {
     "data": {
      "text/plain": [
       "'I eat 3 apples.'"
      ]
     },
     "execution_count": 3,
     "metadata": {},
     "output_type": "execute_result"
    }
   ],
   "source": [
    "\"I eat %d apples.\" %3"
   ]
  },
  {
   "cell_type": "markdown",
   "id": "50bc1cc8",
   "metadata": {},
   "source": [
    "#### 2. 문자열 바로 대입"
   ]
  },
  {
   "cell_type": "code",
   "execution_count": 6,
   "id": "ae295d92",
   "metadata": {},
   "outputs": [
    {
     "data": {
      "text/plain": [
       "'I eat five apples.'"
      ]
     },
     "execution_count": 6,
     "metadata": {},
     "output_type": "execute_result"
    }
   ],
   "source": [
    "\"I eat %s apples.\" %\"five\" \n",
    "# 문자열을 대입할 때는 앞에서 배운 것처럼 큰따옴표나 작은따옴표를 반드시 써주어야 한다."
   ]
  },
  {
   "cell_type": "markdown",
   "id": "29f427f6",
   "metadata": {},
   "source": [
    "#### 3. 숫자 값을 나타내는 변수로 대입"
   ]
  },
  {
   "cell_type": "code",
   "execution_count": 7,
   "id": "eaac9007",
   "metadata": {},
   "outputs": [
    {
     "data": {
      "text/plain": [
       "'I eat 3 apples.'"
      ]
     },
     "execution_count": 7,
     "metadata": {},
     "output_type": "execute_result"
    }
   ],
   "source": [
    "number = 3\n",
    "\"I eat %d apples.\" % number"
   ]
  },
  {
   "cell_type": "markdown",
   "id": "ed52a8c7",
   "metadata": {},
   "source": [
    "#### 4. 2개 이상의 값 넣기"
   ]
  },
  {
   "cell_type": "code",
   "execution_count": 10,
   "id": "b98ab3ab",
   "metadata": {},
   "outputs": [
    {
     "data": {
      "text/plain": [
       "'I ate 10 apples. so I was sick for three days.'"
      ]
     },
     "execution_count": 10,
     "metadata": {},
     "output_type": "execute_result"
    }
   ],
   "source": [
    "number = 10\n",
    "day = \"three\"\n",
    "\"I ate %d apples. so I was sick for %s days.\" %(number, day)"
   ]
  },
  {
   "cell_type": "markdown",
   "id": "8a9658dc",
   "metadata": {},
   "source": [
    "### 문자열 포맷 코드\n",
    "\n",
    "| 코드 | 설명                                                    |\n",
    "|----- |---------------------------------------------------------|\n",
    "|%s    |문자열(String)                      |\n",
    "|%c    |문자 1개(character)                     |\n",
    "|%d    |정수(Integer)                           |\n",
    "|%f    |부동소수(floating-point)                |\n",
    "|%o    |8 진수                   |\n",
    "|%x    |16 진수 |\n",
    "|%%    |Literal %(문자%자체)     |\n"
   ]
  },
  {
   "cell_type": "markdown",
   "id": "af630093",
   "metadata": {},
   "source": [
    "%s 포맷 코드는 어떤 형태의 값이든 변환해 넣을 수 있다. "
   ]
  },
  {
   "cell_type": "code",
   "execution_count": 40,
   "id": "6bdcb609",
   "metadata": {},
   "outputs": [
    {
     "data": {
      "text/plain": [
       "'I have 3 apples.'"
      ]
     },
     "execution_count": 40,
     "metadata": {},
     "output_type": "execute_result"
    }
   ],
   "source": [
    "\"I have %s apples.\" %3\n"
   ]
  },
  {
   "cell_type": "code",
   "execution_count": 41,
   "id": "1023c122",
   "metadata": {},
   "outputs": [
    {
     "data": {
      "text/plain": [
       "'rate is 3.234'"
      ]
     },
     "execution_count": 41,
     "metadata": {},
     "output_type": "execute_result"
    }
   ],
   "source": [
    "\"rate is %s\" %3.234"
   ]
  },
  {
   "cell_type": "markdown",
   "id": "116ee2fe",
   "metadata": {},
   "source": [
    "### [포매팅 연산자%d 와% 를 같이 쓸 때는%% 를 쓴다]\n"
   ]
  },
  {
   "cell_type": "code",
   "execution_count": 42,
   "id": "d24319d0",
   "metadata": {},
   "outputs": [
    {
     "ename": "ValueError",
     "evalue": "incomplete format",
     "output_type": "error",
     "traceback": [
      "\u001b[1;31m---------------------------------------------------------------------------\u001b[0m",
      "\u001b[1;31mValueError\u001b[0m                                Traceback (most recent call last)",
      "Input \u001b[1;32mIn [42]\u001b[0m, in \u001b[0;36m<cell line: 1>\u001b[1;34m()\u001b[0m\n\u001b[1;32m----> 1\u001b[0m \u001b[38;5;124;43m\"\u001b[39;49m\u001b[38;5;124;43mError is \u001b[39;49m\u001b[38;5;132;43;01m%d\u001b[39;49;00m\u001b[38;5;124;43m%\u001b[39;49m\u001b[38;5;124;43m.\u001b[39;49m\u001b[38;5;124;43m\"\u001b[39;49m\u001b[43m \u001b[49m\u001b[38;5;241;43m%\u001b[39;49m\u001b[38;5;241;43m98\u001b[39;49m\n",
      "\u001b[1;31mValueError\u001b[0m: incomplete format"
     ]
    }
   ],
   "source": [
    "\"Error is %d%.\" %98"
   ]
  },
  {
   "cell_type": "code",
   "execution_count": 43,
   "id": "c1019009",
   "metadata": {},
   "outputs": [
    {
     "data": {
      "text/plain": [
       "'Error is 98%'"
      ]
     },
     "execution_count": 43,
     "metadata": {},
     "output_type": "execute_result"
    }
   ],
   "source": [
    "\"Error is %d%%\" %98"
   ]
  },
  {
   "cell_type": "markdown",
   "id": "bd2fa8a6",
   "metadata": {},
   "source": [
    "### 포맷 코드와 숫자 함께 사용하기"
   ]
  },
  {
   "cell_type": "markdown",
   "id": "b601d31d",
   "metadata": {},
   "source": [
    "#### 1. 정렬과 공백"
   ]
  },
  {
   "cell_type": "code",
   "execution_count": 44,
   "id": "f49de6d7",
   "metadata": {},
   "outputs": [
    {
     "data": {
      "text/plain": [
       "'        hi'"
      ]
     },
     "execution_count": 44,
     "metadata": {},
     "output_type": "execute_result"
    }
   ],
   "source": [
    "\"%10s\" %\"hi\"\n",
    "#%10s는 전체 길이가 10 개인 문자열 공간에서 대입되는 값을 오른쪽으로 정렬하고 그 앞의 나머지는 공백으로 남겨 두라는 의미"
   ]
  },
  {
   "cell_type": "code",
   "execution_count": 45,
   "id": "8c51ed9c",
   "metadata": {},
   "outputs": [
    {
     "data": {
      "text/plain": [
       "'hi        jane'"
      ]
     },
     "execution_count": 45,
     "metadata": {},
     "output_type": "execute_result"
    }
   ],
   "source": [
    "\"%-10sjane\" %\"hi\"\n",
    "#hi 를 왼쪽으로 정렬하고 나머지는 공백으로 채웠음을 볼 수 있다."
   ]
  },
  {
   "cell_type": "markdown",
   "id": "ef462528",
   "metadata": {},
   "source": [
    "#### 2. 소수점 표현하기"
   ]
  },
  {
   "cell_type": "code",
   "execution_count": 46,
   "id": "cd289618",
   "metadata": {},
   "outputs": [
    {
     "data": {
      "text/plain": [
       "'3.4213'"
      ]
     },
     "execution_count": 46,
     "metadata": {},
     "output_type": "execute_result"
    }
   ],
   "source": [
    "\"%0.4f\" %3.42134234\n",
    "#3.42134234 를 소수점 네 번째 자리까지만 나타내고 싶은 경우에는 위와 같이 사용"
   ]
  },
  {
   "cell_type": "code",
   "execution_count": 47,
   "id": "fc61a661",
   "metadata": {},
   "outputs": [
    {
     "data": {
      "text/plain": [
       "'    3.4213'"
      ]
     },
     "execution_count": 47,
     "metadata": {},
     "output_type": "execute_result"
    }
   ],
   "source": [
    "\"%10.4f\" %3.42134234"
   ]
  },
  {
   "cell_type": "markdown",
   "id": "2acfcc46",
   "metadata": {},
   "source": [
    "### format 함수를 사용한 포매팅"
   ]
  },
  {
   "cell_type": "markdown",
   "id": "4dec380f",
   "metadata": {},
   "source": [
    "#### 숫자 바로 대입하기"
   ]
  },
  {
   "cell_type": "code",
   "execution_count": 2,
   "id": "aa87938e",
   "metadata": {},
   "outputs": [
    {
     "data": {
      "text/plain": [
       "'I eat 3 apples'"
      ]
     },
     "execution_count": 2,
     "metadata": {},
     "output_type": "execute_result"
    }
   ],
   "source": [
    "\"I eat {0} apples\".format(3)"
   ]
  },
  {
   "cell_type": "markdown",
   "id": "c2fdb70a",
   "metadata": {},
   "source": [
    "#### 문자열 바로 대입하기"
   ]
  },
  {
   "cell_type": "code",
   "execution_count": 3,
   "id": "bc0674e6",
   "metadata": {},
   "outputs": [
    {
     "data": {
      "text/plain": [
       "'I eat five apples'"
      ]
     },
     "execution_count": 3,
     "metadata": {},
     "output_type": "execute_result"
    }
   ],
   "source": [
    "\"I eat {0} apples\".format(\"five\")"
   ]
  },
  {
   "cell_type": "markdown",
   "id": "0c175e41",
   "metadata": {},
   "source": [
    "#### 숫자 값을 가진 변수로 대입하기"
   ]
  },
  {
   "cell_type": "code",
   "execution_count": 5,
   "id": "268aab02",
   "metadata": {},
   "outputs": [
    {
     "data": {
      "text/plain": [
       "'I eat 3 apples'"
      ]
     },
     "execution_count": 5,
     "metadata": {},
     "output_type": "execute_result"
    }
   ],
   "source": [
    "number = 3\n",
    "\"I eat {0} apples\".format(number)"
   ]
  },
  {
   "cell_type": "markdown",
   "id": "8a43d981",
   "metadata": {},
   "source": [
    "#### 2개 이상의 값 넣기"
   ]
  },
  {
   "cell_type": "code",
   "execution_count": 6,
   "id": "9ae7472a",
   "metadata": {},
   "outputs": [
    {
     "data": {
      "text/plain": [
       "'I ate 10 apples. so I was sick for three days.'"
      ]
     },
     "execution_count": 6,
     "metadata": {},
     "output_type": "execute_result"
    }
   ],
   "source": [
    "number = 10\n",
    "day = \"three\"\n",
    "\"I ate {0} apples. so I was sick for {1} days.\".format(number,day)"
   ]
  },
  {
   "cell_type": "markdown",
   "id": "ca211dc3",
   "metadata": {},
   "source": [
    "#### 이름으로 넣기"
   ]
  },
  {
   "cell_type": "code",
   "execution_count": 7,
   "id": "ba9ffa54",
   "metadata": {},
   "outputs": [
    {
     "data": {
      "text/plain": [
       "'I ate 10 apples. so I was sick for 3 days.'"
      ]
     },
     "execution_count": 7,
     "metadata": {},
     "output_type": "execute_result"
    }
   ],
   "source": [
    "\"I ate {number} apples. so I was sick for {day} days.\".format(number=10, day=3)"
   ]
  },
  {
   "cell_type": "markdown",
   "id": "226ac0bf",
   "metadata": {},
   "source": [
    "#### 인덱스와 이름을 혼용해서 넣기"
   ]
  },
  {
   "cell_type": "code",
   "execution_count": 8,
   "id": "992041a6",
   "metadata": {},
   "outputs": [
    {
     "data": {
      "text/plain": [
       "'I ate 10 apples. so I was sick for 3 days.'"
      ]
     },
     "execution_count": 8,
     "metadata": {},
     "output_type": "execute_result"
    }
   ],
   "source": [
    " \"I ate {0} apples. so I was sick for {day} days.\".format(10,day=3)"
   ]
  },
  {
   "cell_type": "markdown",
   "id": "fff17f62",
   "metadata": {},
   "source": [
    "#### 왼쪽 정렬"
   ]
  },
  {
   "cell_type": "code",
   "execution_count": 9,
   "id": "4d407912",
   "metadata": {},
   "outputs": [
    {
     "data": {
      "text/plain": [
       "'hi        '"
      ]
     },
     "execution_count": 9,
     "metadata": {},
     "output_type": "execute_result"
    }
   ],
   "source": [
    "\"{0:<10}\".format(\"hi\")"
   ]
  },
  {
   "cell_type": "code",
   "execution_count": 11,
   "id": "812d94bd",
   "metadata": {},
   "outputs": [
    {
     "data": {
      "text/plain": [
       "'hi        '"
      ]
     },
     "execution_count": 11,
     "metadata": {},
     "output_type": "execute_result"
    }
   ],
   "source": [
    "\"%-10s\" %\"hi\""
   ]
  },
  {
   "cell_type": "markdown",
   "id": "8f64b9c8",
   "metadata": {},
   "source": [
    "#### 오른쪽 정렬"
   ]
  },
  {
   "cell_type": "code",
   "execution_count": 12,
   "id": "fa1876d9",
   "metadata": {},
   "outputs": [
    {
     "data": {
      "text/plain": [
       "'        hi'"
      ]
     },
     "execution_count": 12,
     "metadata": {},
     "output_type": "execute_result"
    }
   ],
   "source": [
    "\"{0:>10}\".format(\"hi\")"
   ]
  },
  {
   "cell_type": "code",
   "execution_count": 13,
   "id": "18234fc5",
   "metadata": {},
   "outputs": [
    {
     "data": {
      "text/plain": [
       "'        hi'"
      ]
     },
     "execution_count": 13,
     "metadata": {},
     "output_type": "execute_result"
    }
   ],
   "source": [
    "\"%10s\" %\"hi\""
   ]
  },
  {
   "cell_type": "markdown",
   "id": "f048f0e7",
   "metadata": {},
   "source": [
    "#### 가운데 정렬"
   ]
  },
  {
   "cell_type": "code",
   "execution_count": 14,
   "id": "c36e7e7b",
   "metadata": {},
   "outputs": [
    {
     "data": {
      "text/plain": [
       "'    hi    '"
      ]
     },
     "execution_count": 14,
     "metadata": {},
     "output_type": "execute_result"
    }
   ],
   "source": [
    "\"{0:^10}\".format(\"hi\")"
   ]
  },
  {
   "cell_type": "markdown",
   "id": "a537f0d0",
   "metadata": {},
   "source": [
    "#### 공백 채우기"
   ]
  },
  {
   "cell_type": "code",
   "execution_count": 15,
   "id": "c243973e",
   "metadata": {},
   "outputs": [
    {
     "data": {
      "text/plain": [
       "'====hi===='"
      ]
     },
     "execution_count": 15,
     "metadata": {},
     "output_type": "execute_result"
    }
   ],
   "source": [
    "\"{0:=^10}\".format(\"hi\")"
   ]
  },
  {
   "cell_type": "code",
   "execution_count": 16,
   "id": "5961a3e9",
   "metadata": {},
   "outputs": [
    {
     "data": {
      "text/plain": [
       "'hi!!!!!!!!'"
      ]
     },
     "execution_count": 16,
     "metadata": {},
     "output_type": "execute_result"
    }
   ],
   "source": [
    "\"{0:!<10}\".format(\"hi\")"
   ]
  },
  {
   "cell_type": "markdown",
   "id": "77a26c5b",
   "metadata": {},
   "source": [
    "#### 소수점 표현하기"
   ]
  },
  {
   "cell_type": "code",
   "execution_count": 18,
   "id": "90471764",
   "metadata": {},
   "outputs": [
    {
     "data": {
      "text/plain": [
       "'3.4213'"
      ]
     },
     "execution_count": 18,
     "metadata": {},
     "output_type": "execute_result"
    }
   ],
   "source": [
    "y = 3.42134234\n",
    "\"{0:0.4f}\".format(y)"
   ]
  },
  {
   "cell_type": "code",
   "execution_count": 20,
   "id": "31e97623",
   "metadata": {},
   "outputs": [
    {
     "data": {
      "text/plain": [
       "'3.4213'"
      ]
     },
     "execution_count": 20,
     "metadata": {},
     "output_type": "execute_result"
    }
   ],
   "source": [
    "\"%0.4f\"%y"
   ]
  },
  {
   "cell_type": "code",
   "execution_count": 21,
   "id": "6d8a6397",
   "metadata": {},
   "outputs": [
    {
     "data": {
      "text/plain": [
       "'    3.4213'"
      ]
     },
     "execution_count": 21,
     "metadata": {},
     "output_type": "execute_result"
    }
   ],
   "source": [
    "\"{0:10.4f}\".format(y)"
   ]
  },
  {
   "cell_type": "markdown",
   "id": "3f09b4ea",
   "metadata": {},
   "source": [
    "#### {또는} 문자 표현하기"
   ]
  },
  {
   "cell_type": "code",
   "execution_count": 24,
   "id": "4f2edb3e",
   "metadata": {},
   "outputs": [
    {
     "data": {
      "text/plain": [
       "'{ and }'"
      ]
     },
     "execution_count": 24,
     "metadata": {},
     "output_type": "execute_result"
    }
   ],
   "source": [
    "\"{{ and }}\".format()"
   ]
  },
  {
   "cell_type": "markdown",
   "id": "990dfc3f",
   "metadata": {},
   "source": [
    "### f 문자열 포매팅\n",
    "\n",
    "파이썬 3.6버전부터 f 문자열 포매팅 사용가능"
   ]
  },
  {
   "cell_type": "code",
   "execution_count": 26,
   "id": "8c09b8c5",
   "metadata": {},
   "outputs": [
    {
     "data": {
      "text/plain": [
       "'나의 이름은 한가희입니다. 나이는 29입니다.'"
      ]
     },
     "execution_count": 26,
     "metadata": {},
     "output_type": "execute_result"
    }
   ],
   "source": [
    "name = '한가희'\n",
    "age = 29 \n",
    "f'나의 이름은 {name}입니다. 나이는 {age}입니다.'"
   ]
  },
  {
   "cell_type": "code",
   "execution_count": 28,
   "id": "8437615e",
   "metadata": {},
   "outputs": [
    {
     "data": {
      "text/plain": [
       "'나는 내년이면 30살이 된다..ㅠㅠ..'"
      ]
     },
     "execution_count": 28,
     "metadata": {},
     "output_type": "execute_result"
    }
   ],
   "source": [
    "age = 29\n",
    "f'나는 내년이면 {age+1}살이 된다..ㅠㅠ..'"
   ]
  },
  {
   "cell_type": "code",
   "execution_count": 30,
   "id": "5c375549",
   "metadata": {},
   "outputs": [
    {
     "data": {
      "text/plain": [
       "'나의 이름은 한가희입니다. 나이는29입니다.'"
      ]
     },
     "execution_count": 30,
     "metadata": {},
     "output_type": "execute_result"
    }
   ],
   "source": [
    "#딕셔너리 사용\n",
    "d = {'name':'한가희', 'age':29}\n",
    "f'나의 이름은 {d[\"name\"]}입니다. 나이는{d[\"age\"]}입니다.'"
   ]
  },
  {
   "cell_type": "markdown",
   "id": "cc973d19",
   "metadata": {},
   "source": [
    "#### 왼쪽 정렬"
   ]
  },
  {
   "cell_type": "code",
   "execution_count": 31,
   "id": "30135c53",
   "metadata": {},
   "outputs": [
    {
     "data": {
      "text/plain": [
       "'hi        '"
      ]
     },
     "execution_count": 31,
     "metadata": {},
     "output_type": "execute_result"
    }
   ],
   "source": [
    "f'{\"hi\":<10}'"
   ]
  },
  {
   "cell_type": "markdown",
   "id": "de5f260c",
   "metadata": {},
   "source": [
    "#### 오른쪽 정렬"
   ]
  },
  {
   "cell_type": "code",
   "execution_count": 32,
   "id": "3b9cae3b",
   "metadata": {},
   "outputs": [
    {
     "data": {
      "text/plain": [
       "'        hi'"
      ]
     },
     "execution_count": 32,
     "metadata": {},
     "output_type": "execute_result"
    }
   ],
   "source": [
    "f'{\"hi\":>10}'"
   ]
  },
  {
   "cell_type": "markdown",
   "id": "3b908b81",
   "metadata": {},
   "source": [
    "#### 가운데 정렬"
   ]
  },
  {
   "cell_type": "code",
   "execution_count": 33,
   "id": "cfd11bc8",
   "metadata": {},
   "outputs": [
    {
     "data": {
      "text/plain": [
       "'    hi    '"
      ]
     },
     "execution_count": 33,
     "metadata": {},
     "output_type": "execute_result"
    }
   ],
   "source": [
    "f'{\"hi\":^10}'"
   ]
  },
  {
   "cell_type": "markdown",
   "id": "6a132713",
   "metadata": {},
   "source": [
    "#### 공백 채우기"
   ]
  },
  {
   "cell_type": "code",
   "execution_count": 35,
   "id": "217931e2",
   "metadata": {},
   "outputs": [
    {
     "data": {
      "text/plain": [
       "'====hi===='"
      ]
     },
     "execution_count": 35,
     "metadata": {},
     "output_type": "execute_result"
    }
   ],
   "source": [
    "f'{\"hi\":=^10}' #가운데 정렬하고 공백 '='로 채우기"
   ]
  },
  {
   "cell_type": "code",
   "execution_count": 36,
   "id": "a7732fc3",
   "metadata": {},
   "outputs": [
    {
     "data": {
      "text/plain": [
       "'hi!!!!!!!!'"
      ]
     },
     "execution_count": 36,
     "metadata": {},
     "output_type": "execute_result"
    }
   ],
   "source": [
    "f'{\"hi\":!<10}' #왼쪽 정렬하고 공백 '!'로 채우기"
   ]
  },
  {
   "cell_type": "markdown",
   "id": "9c79b6b5",
   "metadata": {},
   "source": [
    "#### 소수점 표현"
   ]
  },
  {
   "cell_type": "code",
   "execution_count": 38,
   "id": "d46cd143",
   "metadata": {},
   "outputs": [
    {
     "data": {
      "text/plain": [
       "'3.4213'"
      ]
     },
     "execution_count": 38,
     "metadata": {},
     "output_type": "execute_result"
    }
   ],
   "source": [
    "y = 3.42134234\n",
    "f'{y:0.4f}' #소수점 4자리까지만 표현"
   ]
  },
  {
   "cell_type": "code",
   "execution_count": 39,
   "id": "8867cb0d",
   "metadata": {},
   "outputs": [
    {
     "data": {
      "text/plain": [
       "'    3.4213'"
      ]
     },
     "execution_count": 39,
     "metadata": {},
     "output_type": "execute_result"
    }
   ],
   "source": [
    "f'{y:10.4f}' #소수점 4자리까지 표현하고 총 자리수 10으로 맞춤"
   ]
  },
  {
   "cell_type": "markdown",
   "id": "19c6ba01",
   "metadata": {},
   "source": [
    "### 문자열 관련 함수들(=문자열의 내장 함수)"
   ]
  },
  {
   "cell_type": "markdown",
   "id": "48ecd931",
   "metadata": {},
   "source": [
    "#### 문자 개수 세기 (count)"
   ]
  },
  {
   "cell_type": "code",
   "execution_count": 49,
   "id": "ae676f9c",
   "metadata": {},
   "outputs": [
    {
     "data": {
      "text/plain": [
       "2"
      ]
     },
     "execution_count": 49,
     "metadata": {},
     "output_type": "execute_result"
    }
   ],
   "source": [
    "a = \"hobby\"\n",
    "a.count('b') #문자열 중 문자b의 개수 리턴"
   ]
  },
  {
   "cell_type": "markdown",
   "id": "213e6597",
   "metadata": {},
   "source": [
    "#### 위치 알려주기 1 (find)"
   ]
  },
  {
   "cell_type": "code",
   "execution_count": 54,
   "id": "d4cab6e2",
   "metadata": {},
   "outputs": [
    {
     "data": {
      "text/plain": [
       "14"
      ]
     },
     "execution_count": 54,
     "metadata": {},
     "output_type": "execute_result"
    }
   ],
   "source": [
    "a = \"Python is the best choice\"\n",
    "a.find('b') #문자열 중 문자b가 처음으로 나온 위치 반환"
   ]
  },
  {
   "cell_type": "code",
   "execution_count": 55,
   "id": "f71f7c36",
   "metadata": {},
   "outputs": [
    {
     "data": {
      "text/plain": [
       "-1"
      ]
     },
     "execution_count": 55,
     "metadata": {},
     "output_type": "execute_result"
    }
   ],
   "source": [
    "a.find('k') #만약 찾는 문자나 문자열이 존재하지 않는다면 -1 반환"
   ]
  },
  {
   "cell_type": "markdown",
   "id": "57887646",
   "metadata": {},
   "source": [
    "#### 위치 알려주기 2 (index)"
   ]
  },
  {
   "cell_type": "code",
   "execution_count": 56,
   "id": "e1228f74",
   "metadata": {},
   "outputs": [
    {
     "data": {
      "text/plain": [
       "8"
      ]
     },
     "execution_count": 56,
     "metadata": {},
     "output_type": "execute_result"
    }
   ],
   "source": [
    "a = \"Life is too short\"\n",
    "a.index('t')"
   ]
  },
  {
   "cell_type": "code",
   "execution_count": 58,
   "id": "87206de5",
   "metadata": {},
   "outputs": [
    {
     "ename": "ValueError",
     "evalue": "substring not found",
     "output_type": "error",
     "traceback": [
      "\u001b[1;31m---------------------------------------------------------------------------\u001b[0m",
      "\u001b[1;31mValueError\u001b[0m                                Traceback (most recent call last)",
      "Input \u001b[1;32mIn [58]\u001b[0m, in \u001b[0;36m<cell line: 1>\u001b[1;34m()\u001b[0m\n\u001b[1;32m----> 1\u001b[0m \u001b[43ma\u001b[49m\u001b[38;5;241;43m.\u001b[39;49m\u001b[43mindex\u001b[49m\u001b[43m(\u001b[49m\u001b[38;5;124;43m'\u001b[39;49m\u001b[38;5;124;43mk\u001b[39;49m\u001b[38;5;124;43m'\u001b[39;49m\u001b[43m)\u001b[49m\n",
      "\u001b[1;31mValueError\u001b[0m: substring not found"
     ]
    }
   ],
   "source": [
    "a.index('k')\n",
    "#앞의 find함수와 달리 문자열 안에 존재하지 않는 문자를 찾으면 오류 발생"
   ]
  },
  {
   "cell_type": "markdown",
   "id": "915f4f95",
   "metadata": {},
   "source": [
    "#### 문자열 삽입 (join)"
   ]
  },
  {
   "cell_type": "code",
   "execution_count": 60,
   "id": "5f404dbb",
   "metadata": {},
   "outputs": [
    {
     "data": {
      "text/plain": [
       "'a,b,c,d'"
      ]
     },
     "execution_count": 60,
     "metadata": {},
     "output_type": "execute_result"
    }
   ],
   "source": [
    "\",\".join(\"abcd\") #abcd문자열 사이에 ','삽입"
   ]
  },
  {
   "cell_type": "code",
   "execution_count": 62,
   "id": "5cc07c31",
   "metadata": {},
   "outputs": [
    {
     "data": {
      "text/plain": [
       "'a,b,c,d'"
      ]
     },
     "execution_count": 62,
     "metadata": {},
     "output_type": "execute_result"
    }
   ],
   "source": [
    "#join은 문자열뿐만 아니라 리스트나 튜플에도 입력으로 사용할 수 있다.\n",
    "\",\".join(['a', 'b','c','d'])"
   ]
  },
  {
   "cell_type": "markdown",
   "id": "5c153d34",
   "metadata": {},
   "source": [
    "#### 소문자를 대문자로 바꾸기 (upper)"
   ]
  },
  {
   "cell_type": "code",
   "execution_count": 68,
   "id": "febb7e97",
   "metadata": {},
   "outputs": [
    {
     "data": {
      "text/plain": [
       "'HI'"
      ]
     },
     "execution_count": 68,
     "metadata": {},
     "output_type": "execute_result"
    }
   ],
   "source": [
    "a = 'hi'\n",
    "a.upper()"
   ]
  },
  {
   "cell_type": "markdown",
   "id": "c78efd36",
   "metadata": {},
   "source": [
    "#### 대문자를 소문자로 바꾸기 (lower)"
   ]
  },
  {
   "cell_type": "code",
   "execution_count": 65,
   "id": "17c11531",
   "metadata": {},
   "outputs": [
    {
     "data": {
      "text/plain": [
       "'hi'"
      ]
     },
     "execution_count": 65,
     "metadata": {},
     "output_type": "execute_result"
    }
   ],
   "source": [
    "a = \"HI\"\n",
    "a.lower()"
   ]
  },
  {
   "cell_type": "markdown",
   "id": "e1ef83b3",
   "metadata": {},
   "source": [
    "#### 왼쪽 공백 지우기 (lstrip)"
   ]
  },
  {
   "cell_type": "code",
   "execution_count": 66,
   "id": "474a8ba3",
   "metadata": {},
   "outputs": [
    {
     "data": {
      "text/plain": [
       "'hi '"
      ]
     },
     "execution_count": 66,
     "metadata": {},
     "output_type": "execute_result"
    }
   ],
   "source": [
    "a = \" hi \"\n",
    "a.lstrip()"
   ]
  },
  {
   "cell_type": "markdown",
   "id": "abe6dad7",
   "metadata": {},
   "source": [
    "#### 오른쪽 공백 지우기 (rstrip)"
   ]
  },
  {
   "cell_type": "code",
   "execution_count": 67,
   "id": "7e350555",
   "metadata": {},
   "outputs": [
    {
     "data": {
      "text/plain": [
       "' hi'"
      ]
     },
     "execution_count": 67,
     "metadata": {},
     "output_type": "execute_result"
    }
   ],
   "source": [
    "a = \" hi \"\n",
    "a.rstrip()"
   ]
  },
  {
   "cell_type": "markdown",
   "id": "4cd2cbff",
   "metadata": {},
   "source": [
    "#### 양쪽 공백 지우기 (strip)"
   ]
  },
  {
   "cell_type": "code",
   "execution_count": 69,
   "id": "5ea34338",
   "metadata": {},
   "outputs": [
    {
     "data": {
      "text/plain": [
       "'hi'"
      ]
     },
     "execution_count": 69,
     "metadata": {},
     "output_type": "execute_result"
    }
   ],
   "source": [
    "a = \" hi \"\n",
    "a.strip()"
   ]
  },
  {
   "cell_type": "markdown",
   "id": "a86a28d7",
   "metadata": {},
   "source": [
    "#### 문자열 바꾸기 (replace)"
   ]
  },
  {
   "cell_type": "code",
   "execution_count": 72,
   "id": "c7c7f116",
   "metadata": {},
   "outputs": [
    {
     "data": {
      "text/plain": [
       "'Your leg is too short'"
      ]
     },
     "execution_count": 72,
     "metadata": {},
     "output_type": "execute_result"
    }
   ],
   "source": [
    "a = 'Life is too short'\n",
    "a.replace(\"Life\",'Your leg') #ㅋㅋㅋ"
   ]
  },
  {
   "cell_type": "markdown",
   "id": "111866e6",
   "metadata": {},
   "source": [
    "#### 문자열 나누기(split)"
   ]
  },
  {
   "cell_type": "code",
   "execution_count": 73,
   "id": "a298a762",
   "metadata": {},
   "outputs": [
    {
     "data": {
      "text/plain": [
       "['Life', 'is', 'too', 'short']"
      ]
     },
     "execution_count": 73,
     "metadata": {},
     "output_type": "execute_result"
    }
   ],
   "source": [
    "a = \"Life is too short\"\n",
    "a.split()"
   ]
  },
  {
   "cell_type": "code",
   "execution_count": 77,
   "id": "217e5538",
   "metadata": {},
   "outputs": [
    {
     "data": {
      "text/plain": [
       "['a', 'b', 'c', 'd']"
      ]
     },
     "execution_count": 77,
     "metadata": {},
     "output_type": "execute_result"
    }
   ],
   "source": [
    "b = \"a:b:c:d\"\n",
    "b.split(':')"
   ]
  },
  {
   "cell_type": "markdown",
   "id": "44db04d1",
   "metadata": {},
   "source": [
    "## 02-3 리스트(list) 자료형"
   ]
  },
  {
   "cell_type": "markdown",
   "id": "1d9c6de3",
   "metadata": {},
   "source": [
    "### 리스트의 인덱싱과 슬라이싱"
   ]
  },
  {
   "cell_type": "markdown",
   "id": "800d8f19",
   "metadata": {},
   "source": [
    "#### 리스트의 인덱싱"
   ]
  },
  {
   "cell_type": "code",
   "execution_count": 1,
   "id": "83331395",
   "metadata": {},
   "outputs": [],
   "source": [
    "a = [1,2,3]"
   ]
  },
  {
   "cell_type": "code",
   "execution_count": 2,
   "id": "8a00dbcb",
   "metadata": {},
   "outputs": [
    {
     "data": {
      "text/plain": [
       "[1, 2, 3]"
      ]
     },
     "execution_count": 2,
     "metadata": {},
     "output_type": "execute_result"
    }
   ],
   "source": [
    "a"
   ]
  },
  {
   "cell_type": "code",
   "execution_count": 3,
   "id": "dfe9d547",
   "metadata": {},
   "outputs": [
    {
     "data": {
      "text/plain": [
       "1"
      ]
     },
     "execution_count": 3,
     "metadata": {},
     "output_type": "execute_result"
    }
   ],
   "source": [
    "a[0]"
   ]
  },
  {
   "cell_type": "code",
   "execution_count": 4,
   "id": "c545e282",
   "metadata": {},
   "outputs": [
    {
     "data": {
      "text/plain": [
       "4"
      ]
     },
     "execution_count": 4,
     "metadata": {},
     "output_type": "execute_result"
    }
   ],
   "source": [
    "a[0]+a[2]"
   ]
  },
  {
   "cell_type": "code",
   "execution_count": 5,
   "id": "498fd05c",
   "metadata": {},
   "outputs": [
    {
     "data": {
      "text/plain": [
       "3"
      ]
     },
     "execution_count": 5,
     "metadata": {},
     "output_type": "execute_result"
    }
   ],
   "source": [
    "a[-1]"
   ]
  },
  {
   "cell_type": "code",
   "execution_count": 6,
   "id": "df8c275f",
   "metadata": {},
   "outputs": [],
   "source": [
    "a = [1,2,3,['a','b','c']]"
   ]
  },
  {
   "cell_type": "code",
   "execution_count": 7,
   "id": "4a857dfe",
   "metadata": {},
   "outputs": [
    {
     "data": {
      "text/plain": [
       "['a', 'b', 'c']"
      ]
     },
     "execution_count": 7,
     "metadata": {},
     "output_type": "execute_result"
    }
   ],
   "source": [
    "a[-1]"
   ]
  },
  {
   "cell_type": "code",
   "execution_count": 8,
   "id": "a223da25",
   "metadata": {},
   "outputs": [
    {
     "data": {
      "text/plain": [
       "['a', 'b', 'c']"
      ]
     },
     "execution_count": 8,
     "metadata": {},
     "output_type": "execute_result"
    }
   ],
   "source": [
    "a[3]"
   ]
  },
  {
   "cell_type": "code",
   "execution_count": 9,
   "id": "b35096d9",
   "metadata": {},
   "outputs": [
    {
     "data": {
      "text/plain": [
       "'a'"
      ]
     },
     "execution_count": 9,
     "metadata": {},
     "output_type": "execute_result"
    }
   ],
   "source": [
    "a[-1][0]"
   ]
  },
  {
   "cell_type": "code",
   "execution_count": 10,
   "id": "e43aac37",
   "metadata": {},
   "outputs": [
    {
     "data": {
      "text/plain": [
       "'b'"
      ]
     },
     "execution_count": 10,
     "metadata": {},
     "output_type": "execute_result"
    }
   ],
   "source": [
    "a[-1][1]"
   ]
  },
  {
   "cell_type": "code",
   "execution_count": 11,
   "id": "a3499ab5",
   "metadata": {},
   "outputs": [
    {
     "data": {
      "text/plain": [
       "'c'"
      ]
     },
     "execution_count": 11,
     "metadata": {},
     "output_type": "execute_result"
    }
   ],
   "source": [
    "a[-1][2]"
   ]
  },
  {
   "cell_type": "markdown",
   "id": "80529723",
   "metadata": {},
   "source": [
    "#### [삼중 리스트에서 인덱싱하기]"
   ]
  },
  {
   "cell_type": "code",
   "execution_count": 12,
   "id": "f38bb286",
   "metadata": {},
   "outputs": [],
   "source": [
    "a = [1,2,['a','b',['Life','is']]]"
   ]
  },
  {
   "cell_type": "code",
   "execution_count": 14,
   "id": "e760d79d",
   "metadata": {},
   "outputs": [
    {
     "data": {
      "text/plain": [
       "'Life'"
      ]
     },
     "execution_count": 14,
     "metadata": {},
     "output_type": "execute_result"
    }
   ],
   "source": [
    "a[2][2][0]"
   ]
  },
  {
   "cell_type": "markdown",
   "id": "f24a93e2",
   "metadata": {},
   "source": [
    "#### 리스트의 슬라이싱"
   ]
  },
  {
   "cell_type": "code",
   "execution_count": 15,
   "id": "43df3243",
   "metadata": {},
   "outputs": [],
   "source": [
    "ㅁ = [1,2,3,4,5]"
   ]
  },
  {
   "cell_type": "code",
   "execution_count": 16,
   "id": "87f42436",
   "metadata": {},
   "outputs": [
    {
     "data": {
      "text/plain": [
       "[1, 2]"
      ]
     },
     "execution_count": 16,
     "metadata": {},
     "output_type": "execute_result"
    }
   ],
   "source": [
    "ㅁ[0:2]"
   ]
  },
  {
   "cell_type": "code",
   "execution_count": 18,
   "id": "445b4d83",
   "metadata": {},
   "outputs": [],
   "source": [
    "a = [1,2,3,4,5]\n",
    "b = a[:2]\n",
    "c = a[2:]"
   ]
  },
  {
   "cell_type": "code",
   "execution_count": 19,
   "id": "6f6326db",
   "metadata": {},
   "outputs": [
    {
     "data": {
      "text/plain": [
       "[1, 2]"
      ]
     },
     "execution_count": 19,
     "metadata": {},
     "output_type": "execute_result"
    }
   ],
   "source": [
    "b"
   ]
  },
  {
   "cell_type": "code",
   "execution_count": 20,
   "id": "b5dd2bc3",
   "metadata": {},
   "outputs": [
    {
     "data": {
      "text/plain": [
       "[3, 4, 5]"
      ]
     },
     "execution_count": 20,
     "metadata": {},
     "output_type": "execute_result"
    }
   ],
   "source": [
    "c"
   ]
  },
  {
   "cell_type": "markdown",
   "id": "29641e8a",
   "metadata": {},
   "source": [
    "#### [중첩된 리스트에서 슬라이싱하기]"
   ]
  },
  {
   "cell_type": "code",
   "execution_count": 21,
   "id": "bf307174",
   "metadata": {},
   "outputs": [],
   "source": [
    "a = [1,2,3,['a','b','c'],4,5]"
   ]
  },
  {
   "cell_type": "code",
   "execution_count": 22,
   "id": "1b1f4c51",
   "metadata": {},
   "outputs": [
    {
     "data": {
      "text/plain": [
       "[3, ['a', 'b', 'c'], 4]"
      ]
     },
     "execution_count": 22,
     "metadata": {},
     "output_type": "execute_result"
    }
   ],
   "source": [
    "a[2:5]"
   ]
  },
  {
   "cell_type": "code",
   "execution_count": 23,
   "id": "404c4c15",
   "metadata": {},
   "outputs": [
    {
     "data": {
      "text/plain": [
       "['a', 'b']"
      ]
     },
     "execution_count": 23,
     "metadata": {},
     "output_type": "execute_result"
    }
   ],
   "source": [
    "a[3][:2]"
   ]
  },
  {
   "cell_type": "markdown",
   "id": "a5627247",
   "metadata": {},
   "source": [
    "### 리스트 연산하기"
   ]
  },
  {
   "cell_type": "markdown",
   "id": "e0e9d1e6",
   "metadata": {},
   "source": [
    "#### 리스트 더하기(+)"
   ]
  },
  {
   "cell_type": "code",
   "execution_count": 24,
   "id": "095f0974",
   "metadata": {},
   "outputs": [
    {
     "data": {
      "text/plain": [
       "[1, 2, 3, 4, 5, 6]"
      ]
     },
     "execution_count": 24,
     "metadata": {},
     "output_type": "execute_result"
    }
   ],
   "source": [
    "a = [1,2,3]\n",
    "b = [4,5,6]\n",
    "a+b"
   ]
  },
  {
   "cell_type": "markdown",
   "id": "ed2ea054",
   "metadata": {},
   "source": [
    "#### 리스트 반복하기(*)"
   ]
  },
  {
   "cell_type": "code",
   "execution_count": 25,
   "id": "f6da0d51",
   "metadata": {},
   "outputs": [
    {
     "data": {
      "text/plain": [
       "[1, 2, 3, 1, 2, 3, 1, 2, 3]"
      ]
     },
     "execution_count": 25,
     "metadata": {},
     "output_type": "execute_result"
    }
   ],
   "source": [
    "a = [1,2,3]\n",
    "a*3"
   ]
  },
  {
   "cell_type": "markdown",
   "id": "8332b374",
   "metadata": {},
   "source": [
    "#### 리스트 길이구하기"
   ]
  },
  {
   "cell_type": "code",
   "execution_count": 27,
   "id": "95413a64",
   "metadata": {},
   "outputs": [
    {
     "data": {
      "text/plain": [
       "9"
      ]
     },
     "execution_count": 27,
     "metadata": {},
     "output_type": "execute_result"
    }
   ],
   "source": [
    "a = [1,2,3,4,5,6,7,8,9]\n",
    "len(a)"
   ]
  },
  {
   "cell_type": "code",
   "execution_count": 29,
   "id": "1030118f",
   "metadata": {},
   "outputs": [
    {
     "data": {
      "text/plain": [
       "'3hi'"
      ]
     },
     "execution_count": 29,
     "metadata": {},
     "output_type": "execute_result"
    }
   ],
   "source": [
    "a = [1,2,3]\n",
    "str(a[2])+ \"hi\""
   ]
  },
  {
   "cell_type": "markdown",
   "id": "fd7caac0",
   "metadata": {},
   "source": [
    "### 리스트의 수정과 삭제"
   ]
  },
  {
   "cell_type": "markdown",
   "id": "013544b8",
   "metadata": {},
   "source": [
    "#### 리스트에서 값 수정하기"
   ]
  },
  {
   "cell_type": "code",
   "execution_count": 30,
   "id": "f5ad1547",
   "metadata": {},
   "outputs": [
    {
     "data": {
      "text/plain": [
       "[1, 2, 4]"
      ]
     },
     "execution_count": 30,
     "metadata": {},
     "output_type": "execute_result"
    }
   ],
   "source": [
    "a = [1,2,3]\n",
    "a[2] = 4 \n",
    "a"
   ]
  },
  {
   "cell_type": "markdown",
   "id": "1df7e632",
   "metadata": {},
   "source": [
    "#### del 함수 사용해 리스트 요소 삭제하기"
   ]
  },
  {
   "cell_type": "code",
   "execution_count": 31,
   "id": "ccffcfc8",
   "metadata": {},
   "outputs": [
    {
     "data": {
      "text/plain": [
       "[1, 3]"
      ]
     },
     "execution_count": 31,
     "metadata": {},
     "output_type": "execute_result"
    }
   ],
   "source": [
    "a = [1,2,3]\n",
    "del a[1]\n",
    "a"
   ]
  },
  {
   "cell_type": "code",
   "execution_count": 33,
   "id": "81553db8",
   "metadata": {},
   "outputs": [
    {
     "data": {
      "text/plain": [
       "[1, 2]"
      ]
     },
     "execution_count": 33,
     "metadata": {},
     "output_type": "execute_result"
    }
   ],
   "source": [
    "a = [1,2,3,4,5,6,7,8,9]\n",
    "del a[2:]\n",
    "a"
   ]
  },
  {
   "cell_type": "markdown",
   "id": "1d30e817",
   "metadata": {},
   "source": [
    "### 리스트 관련 함수들"
   ]
  },
  {
   "cell_type": "markdown",
   "id": "5786648f",
   "metadata": {},
   "source": [
    "#### 리스트에 요소 추가 (append)"
   ]
  },
  {
   "cell_type": "code",
   "execution_count": 34,
   "id": "8911c4dd",
   "metadata": {},
   "outputs": [],
   "source": [
    "a = [1,2,3]\n",
    "a.append(4)"
   ]
  },
  {
   "cell_type": "code",
   "execution_count": 35,
   "id": "a70cda06",
   "metadata": {},
   "outputs": [
    {
     "data": {
      "text/plain": [
       "[1, 2, 3, 4]"
      ]
     },
     "execution_count": 35,
     "metadata": {},
     "output_type": "execute_result"
    }
   ],
   "source": [
    "a"
   ]
  },
  {
   "cell_type": "code",
   "execution_count": 36,
   "id": "2569513c",
   "metadata": {},
   "outputs": [],
   "source": [
    "a.append([5,6])"
   ]
  },
  {
   "cell_type": "code",
   "execution_count": 37,
   "id": "718648fb",
   "metadata": {},
   "outputs": [
    {
     "data": {
      "text/plain": [
       "[1, 2, 3, 4, [5, 6]]"
      ]
     },
     "execution_count": 37,
     "metadata": {},
     "output_type": "execute_result"
    }
   ],
   "source": [
    "a"
   ]
  },
  {
   "cell_type": "markdown",
   "id": "bf0c2418",
   "metadata": {},
   "source": [
    "#### 리스트 정렬 (sort)"
   ]
  },
  {
   "cell_type": "code",
   "execution_count": 38,
   "id": "eb4b1dbc",
   "metadata": {},
   "outputs": [],
   "source": [
    "a = [1,5,2,4,3]\n",
    "a.sort()"
   ]
  },
  {
   "cell_type": "code",
   "execution_count": 39,
   "id": "b8eef9d4",
   "metadata": {},
   "outputs": [
    {
     "data": {
      "text/plain": [
       "[1, 2, 3, 4, 5]"
      ]
     },
     "execution_count": 39,
     "metadata": {},
     "output_type": "execute_result"
    }
   ],
   "source": [
    "a"
   ]
  },
  {
   "cell_type": "code",
   "execution_count": 40,
   "id": "7f2a711c",
   "metadata": {},
   "outputs": [],
   "source": [
    "a = ['a','d','c','b']\n",
    "a.sort()"
   ]
  },
  {
   "cell_type": "code",
   "execution_count": 41,
   "id": "be6b77e1",
   "metadata": {},
   "outputs": [
    {
     "data": {
      "text/plain": [
       "['a', 'b', 'c', 'd']"
      ]
     },
     "execution_count": 41,
     "metadata": {},
     "output_type": "execute_result"
    }
   ],
   "source": [
    "a"
   ]
  },
  {
   "cell_type": "markdown",
   "id": "c24d372e",
   "metadata": {},
   "source": [
    "#### 리스트 뒤집기 (reverse) \n",
    "현재의 리스트를 그대로 거꾸로 뒤집는다."
   ]
  },
  {
   "cell_type": "code",
   "execution_count": 42,
   "id": "aae70a12",
   "metadata": {},
   "outputs": [
    {
     "data": {
      "text/plain": [
       "['b', 'c', 'a']"
      ]
     },
     "execution_count": 42,
     "metadata": {},
     "output_type": "execute_result"
    }
   ],
   "source": [
    "a = ['a','c','b']\n",
    "a.reverse()\n",
    "a"
   ]
  },
  {
   "cell_type": "markdown",
   "id": "11ce933a",
   "metadata": {},
   "source": [
    "#### 인덱스 반환 (index)"
   ]
  },
  {
   "cell_type": "code",
   "execution_count": 43,
   "id": "a6e5c152",
   "metadata": {},
   "outputs": [
    {
     "data": {
      "text/plain": [
       "2"
      ]
     },
     "execution_count": 43,
     "metadata": {},
     "output_type": "execute_result"
    }
   ],
   "source": [
    "a = [1,2,3]\n",
    "a.index(3)"
   ]
  },
  {
   "cell_type": "code",
   "execution_count": 44,
   "id": "f44f1cab",
   "metadata": {},
   "outputs": [
    {
     "data": {
      "text/plain": [
       "0"
      ]
     },
     "execution_count": 44,
     "metadata": {},
     "output_type": "execute_result"
    }
   ],
   "source": [
    "a.index(1)"
   ]
  },
  {
   "cell_type": "markdown",
   "id": "618a8ebc",
   "metadata": {},
   "source": [
    "#### 리스트에 요소 삽입 (insert)"
   ]
  },
  {
   "cell_type": "code",
   "execution_count": 45,
   "id": "70d528bb",
   "metadata": {},
   "outputs": [],
   "source": [
    "a = [1,2,3]\n",
    "a.insert(0,4)"
   ]
  },
  {
   "cell_type": "code",
   "execution_count": 46,
   "id": "a386529d",
   "metadata": {},
   "outputs": [
    {
     "data": {
      "text/plain": [
       "[4, 1, 2, 3]"
      ]
     },
     "execution_count": 46,
     "metadata": {},
     "output_type": "execute_result"
    }
   ],
   "source": [
    "a"
   ]
  },
  {
   "cell_type": "code",
   "execution_count": 47,
   "id": "1eb10fe5",
   "metadata": {},
   "outputs": [],
   "source": [
    "a.insert(4,5)"
   ]
  },
  {
   "cell_type": "code",
   "execution_count": 48,
   "id": "5e420b7b",
   "metadata": {},
   "outputs": [
    {
     "data": {
      "text/plain": [
       "[4, 1, 2, 3, 5]"
      ]
     },
     "execution_count": 48,
     "metadata": {},
     "output_type": "execute_result"
    }
   ],
   "source": [
    "a"
   ]
  },
  {
   "cell_type": "markdown",
   "id": "ac24373f",
   "metadata": {},
   "source": [
    "#### 리스트 요소 제거 (remove)"
   ]
  },
  {
   "cell_type": "code",
   "execution_count": 54,
   "id": "a5f3c5a7",
   "metadata": {},
   "outputs": [],
   "source": [
    "a=[1,2,3,1,2,3]"
   ]
  },
  {
   "cell_type": "code",
   "execution_count": 55,
   "id": "cd81a8b3",
   "metadata": {},
   "outputs": [],
   "source": [
    "a.remove(3)"
   ]
  },
  {
   "cell_type": "code",
   "execution_count": 57,
   "id": "dbcb8677",
   "metadata": {},
   "outputs": [
    {
     "data": {
      "text/plain": [
       "[1, 2, 1, 2, 3]"
      ]
     },
     "execution_count": 57,
     "metadata": {},
     "output_type": "execute_result"
    }
   ],
   "source": [
    "a #a가 3이라는 값을 2개 가지고 있을 경우 첫 번째 3만 제거되는 것을 알 수 있다."
   ]
  },
  {
   "cell_type": "code",
   "execution_count": 58,
   "id": "6fed14d8",
   "metadata": {},
   "outputs": [],
   "source": [
    "a.remove(3)"
   ]
  },
  {
   "cell_type": "code",
   "execution_count": 59,
   "id": "d399ef3e",
   "metadata": {},
   "outputs": [
    {
     "data": {
      "text/plain": [
       "[1, 2, 1, 2]"
      ]
     },
     "execution_count": 59,
     "metadata": {},
     "output_type": "execute_result"
    }
   ],
   "source": [
    "a"
   ]
  },
  {
   "cell_type": "markdown",
   "id": "5c95b4a1",
   "metadata": {},
   "source": [
    "#### 리스트 요소 끄집어내기 (pop)\n",
    "pop()은 리스트의 맨 마지막 요소를 리턴하고 그 요소는 삭제한다."
   ]
  },
  {
   "cell_type": "code",
   "execution_count": 60,
   "id": "9766f0c6",
   "metadata": {},
   "outputs": [
    {
     "data": {
      "text/plain": [
       "3"
      ]
     },
     "execution_count": 60,
     "metadata": {},
     "output_type": "execute_result"
    }
   ],
   "source": [
    "a = [1,2,3]\n",
    "a.pop()"
   ]
  },
  {
   "cell_type": "code",
   "execution_count": 61,
   "id": "d51822d7",
   "metadata": {},
   "outputs": [
    {
     "data": {
      "text/plain": [
       "[1, 2]"
      ]
     },
     "execution_count": 61,
     "metadata": {},
     "output_type": "execute_result"
    }
   ],
   "source": [
    "a"
   ]
  },
  {
   "cell_type": "markdown",
   "id": "746a882c",
   "metadata": {},
   "source": [
    "pop(x)는 리스트의 x번째 요소를 리턴하고 그 요소는 삭제한다."
   ]
  },
  {
   "cell_type": "code",
   "execution_count": 62,
   "id": "154fcd3e",
   "metadata": {},
   "outputs": [
    {
     "data": {
      "text/plain": [
       "1"
      ]
     },
     "execution_count": 62,
     "metadata": {},
     "output_type": "execute_result"
    }
   ],
   "source": [
    "a = [1,2,3]\n",
    "a.pop(0)"
   ]
  },
  {
   "cell_type": "code",
   "execution_count": 63,
   "id": "173b649d",
   "metadata": {},
   "outputs": [
    {
     "data": {
      "text/plain": [
       "[2, 3]"
      ]
     },
     "execution_count": 63,
     "metadata": {},
     "output_type": "execute_result"
    }
   ],
   "source": [
    "a"
   ]
  },
  {
   "cell_type": "markdown",
   "id": "990ceea9",
   "metadata": {},
   "source": [
    "#### 리스트에 포함된 요소 x의 개수 세기 (count)"
   ]
  },
  {
   "cell_type": "code",
   "execution_count": 64,
   "id": "6060154c",
   "metadata": {},
   "outputs": [
    {
     "data": {
      "text/plain": [
       "3"
      ]
     },
     "execution_count": 64,
     "metadata": {},
     "output_type": "execute_result"
    }
   ],
   "source": [
    "a = [1,2,3,4,5,1,2,3,1]\n",
    "a.count(1)"
   ]
  },
  {
   "cell_type": "markdown",
   "id": "a35dda04",
   "metadata": {},
   "source": [
    "#### 리스트 확장 (extend)"
   ]
  },
  {
   "cell_type": "code",
   "execution_count": 65,
   "id": "36872bab",
   "metadata": {},
   "outputs": [],
   "source": [
    "a = [1,2,3]\n",
    "a.extend([4,5])"
   ]
  },
  {
   "cell_type": "code",
   "execution_count": 66,
   "id": "faa676f1",
   "metadata": {},
   "outputs": [
    {
     "data": {
      "text/plain": [
       "[1, 2, 3, 4, 5]"
      ]
     },
     "execution_count": 66,
     "metadata": {},
     "output_type": "execute_result"
    }
   ],
   "source": [
    "a"
   ]
  },
  {
   "cell_type": "code",
   "execution_count": 67,
   "id": "ae45e331",
   "metadata": {},
   "outputs": [],
   "source": [
    "b=[6,7]\n",
    "a.extend(b)"
   ]
  },
  {
   "cell_type": "code",
   "execution_count": 68,
   "id": "1e2f75f6",
   "metadata": {},
   "outputs": [
    {
     "data": {
      "text/plain": [
       "[1, 2, 3, 4, 5, 6, 7]"
      ]
     },
     "execution_count": 68,
     "metadata": {},
     "output_type": "execute_result"
    }
   ],
   "source": [
    "a"
   ]
  },
  {
   "cell_type": "code",
   "execution_count": 69,
   "id": "c52aed4b",
   "metadata": {},
   "outputs": [],
   "source": [
    "a = [1,2,3]\n",
    "a += [4,5]"
   ]
  },
  {
   "cell_type": "code",
   "execution_count": 70,
   "id": "aa010e89",
   "metadata": {},
   "outputs": [
    {
     "data": {
      "text/plain": [
       "[1, 2, 3, 4, 5]"
      ]
     },
     "execution_count": 70,
     "metadata": {},
     "output_type": "execute_result"
    }
   ],
   "source": [
    "a"
   ]
  },
  {
   "cell_type": "markdown",
   "id": "0fbf6515",
   "metadata": {},
   "source": [
    "## 02-4 튜플 자료형\n",
    "- 리스트는 []으로 둘러싸지만 튜플은 ()으로 둘러싼다.\n",
    "- 리스트는 요소 값의 생성,삭제,수정이 가능하지만 튜플은 요소값을 바꿀 수 없다."
   ]
  },
  {
   "cell_type": "code",
   "execution_count": 71,
   "id": "963560df",
   "metadata": {},
   "outputs": [],
   "source": [
    "t1 = ()\n",
    "t2 = (1,) #단지 1개의 요소를 가질 때 요소 뒤에 콤마(,)를 !반드시! 붙여야한다.\n",
    "t3 = (1,2,3)\n",
    "t4 = 1,2,3 #괄호() 생략가능\n",
    "t5 = ('a','b',('ab','cd'))"
   ]
  },
  {
   "cell_type": "markdown",
   "id": "7191f661",
   "metadata": {},
   "source": [
    "### 튜플의 요소값을 지우거나 변경하려고 하면 오류뜸!"
   ]
  },
  {
   "cell_type": "markdown",
   "id": "6531581f",
   "metadata": {},
   "source": [
    "#### 1. 튜플 요소값을 삭제하려 할 때"
   ]
  },
  {
   "cell_type": "code",
   "execution_count": 72,
   "id": "a8311550",
   "metadata": {},
   "outputs": [
    {
     "ename": "TypeError",
     "evalue": "'tuple' object doesn't support item deletion",
     "output_type": "error",
     "traceback": [
      "\u001b[1;31m---------------------------------------------------------------------------\u001b[0m",
      "\u001b[1;31mTypeError\u001b[0m                                 Traceback (most recent call last)",
      "Input \u001b[1;32mIn [72]\u001b[0m, in \u001b[0;36m<cell line: 2>\u001b[1;34m()\u001b[0m\n\u001b[0;32m      1\u001b[0m t1 \u001b[38;5;241m=\u001b[39m (\u001b[38;5;241m1\u001b[39m,\u001b[38;5;241m2\u001b[39m,\u001b[38;5;124m'\u001b[39m\u001b[38;5;124ma\u001b[39m\u001b[38;5;124m'\u001b[39m,\u001b[38;5;124m'\u001b[39m\u001b[38;5;124mb\u001b[39m\u001b[38;5;124m'\u001b[39m)\n\u001b[1;32m----> 2\u001b[0m \u001b[38;5;28;01mdel\u001b[39;00m t1[\u001b[38;5;241m0\u001b[39m]\n",
      "\u001b[1;31mTypeError\u001b[0m: 'tuple' object doesn't support item deletion"
     ]
    }
   ],
   "source": [
    "t1 = (1,2,'a','b')\n",
    "del t1[0]"
   ]
  },
  {
   "cell_type": "markdown",
   "id": "3527b8e1",
   "metadata": {},
   "source": [
    "#### 2. 튜플 요소값을 변경하려 할 때"
   ]
  },
  {
   "cell_type": "code",
   "execution_count": 73,
   "id": "f3fdf8fe",
   "metadata": {},
   "outputs": [
    {
     "ename": "TypeError",
     "evalue": "'tuple' object does not support item assignment",
     "output_type": "error",
     "traceback": [
      "\u001b[1;31m---------------------------------------------------------------------------\u001b[0m",
      "\u001b[1;31mTypeError\u001b[0m                                 Traceback (most recent call last)",
      "Input \u001b[1;32mIn [73]\u001b[0m, in \u001b[0;36m<cell line: 2>\u001b[1;34m()\u001b[0m\n\u001b[0;32m      1\u001b[0m t1 \u001b[38;5;241m=\u001b[39m (\u001b[38;5;241m1\u001b[39m,\u001b[38;5;241m2\u001b[39m, \u001b[38;5;124m'\u001b[39m\u001b[38;5;124ma\u001b[39m\u001b[38;5;124m'\u001b[39m,\u001b[38;5;124m'\u001b[39m\u001b[38;5;124mb\u001b[39m\u001b[38;5;124m'\u001b[39m)\n\u001b[1;32m----> 2\u001b[0m t1[\u001b[38;5;241m0\u001b[39m] \u001b[38;5;241m=\u001b[39m \u001b[38;5;124m'\u001b[39m\u001b[38;5;124mc\u001b[39m\u001b[38;5;124m'\u001b[39m\n",
      "\u001b[1;31mTypeError\u001b[0m: 'tuple' object does not support item assignment"
     ]
    }
   ],
   "source": [
    "t1 = (1,2, 'a','b')\n",
    "t1[0] = 'c'"
   ]
  },
  {
   "cell_type": "markdown",
   "id": "78f0ff91",
   "metadata": {},
   "source": [
    "리스트는 가능하당..."
   ]
  },
  {
   "cell_type": "markdown",
   "id": "3bce093c",
   "metadata": {},
   "source": [
    "### 튜플 다루기"
   ]
  },
  {
   "cell_type": "markdown",
   "id": "5be1d640",
   "metadata": {},
   "source": [
    "#### 인덱싱하기"
   ]
  },
  {
   "cell_type": "code",
   "execution_count": 1,
   "id": "3bdfd020",
   "metadata": {},
   "outputs": [
    {
     "data": {
      "text/plain": [
       "1"
      ]
     },
     "execution_count": 1,
     "metadata": {},
     "output_type": "execute_result"
    }
   ],
   "source": [
    "t1 = (1,2,'a','b')\n",
    "t1[0]"
   ]
  },
  {
   "cell_type": "code",
   "execution_count": 2,
   "id": "9898c818",
   "metadata": {},
   "outputs": [
    {
     "data": {
      "text/plain": [
       "'a'"
      ]
     },
     "execution_count": 2,
     "metadata": {},
     "output_type": "execute_result"
    }
   ],
   "source": [
    "t1[2]"
   ]
  },
  {
   "cell_type": "code",
   "execution_count": 3,
   "id": "4c9cf953",
   "metadata": {},
   "outputs": [
    {
     "data": {
      "text/plain": [
       "(2, 'a', 'b')"
      ]
     },
     "execution_count": 3,
     "metadata": {},
     "output_type": "execute_result"
    }
   ],
   "source": [
    "t1[1:]"
   ]
  },
  {
   "cell_type": "markdown",
   "id": "9b1cbb9a",
   "metadata": {},
   "source": [
    "#### 튜플 더하기 "
   ]
  },
  {
   "cell_type": "code",
   "execution_count": 4,
   "id": "ab7bc3ff",
   "metadata": {},
   "outputs": [
    {
     "data": {
      "text/plain": [
       "(1, 2, 'a', 'b', 3, 4)"
      ]
     },
     "execution_count": 4,
     "metadata": {},
     "output_type": "execute_result"
    }
   ],
   "source": [
    "t1 = (1,2, 'a','b')\n",
    "t2 = (3,4)\n",
    "t3 = t1+t2\n",
    "t3"
   ]
  },
  {
   "cell_type": "markdown",
   "id": "eaed9e73",
   "metadata": {},
   "source": [
    "#### 튜플 곱하기"
   ]
  },
  {
   "cell_type": "code",
   "execution_count": 6,
   "id": "e17132f8",
   "metadata": {},
   "outputs": [
    {
     "data": {
      "text/plain": [
       "(3, 4, 3, 4)"
      ]
     },
     "execution_count": 6,
     "metadata": {},
     "output_type": "execute_result"
    }
   ],
   "source": [
    "t2 = (3,4)\n",
    "t3 = t2 * 2 \n",
    "t3"
   ]
  },
  {
   "cell_type": "markdown",
   "id": "35c59810",
   "metadata": {},
   "source": [
    "#### 튜플 길이 구하기"
   ]
  },
  {
   "cell_type": "code",
   "execution_count": 8,
   "id": "d91b6c2f",
   "metadata": {},
   "outputs": [
    {
     "data": {
      "text/plain": [
       "5"
      ]
     },
     "execution_count": 8,
     "metadata": {},
     "output_type": "execute_result"
    }
   ],
   "source": [
    "t1 = (1,2,'a','b','c''d')\n",
    "len(t1)"
   ]
  },
  {
   "cell_type": "markdown",
   "id": "086a4187",
   "metadata": {},
   "source": [
    "## 02-5 딕셔너리 자료형\n",
    "\n",
    "딕셔너리는 리스트나 튜플처럼 순차적으로 해당 요솟값을 구하지 않고 Key를 통해 Value를 얻는다. {Key:Value}"
   ]
  },
  {
   "cell_type": "code",
   "execution_count": 9,
   "id": "38cb8345",
   "metadata": {},
   "outputs": [],
   "source": [
    "dic = {\"name\":'가희', 'phone':'010-1234-5678', 'birth':'0506'}"
   ]
  },
  {
   "cell_type": "code",
   "execution_count": 10,
   "id": "69c1bf50",
   "metadata": {},
   "outputs": [
    {
     "data": {
      "text/plain": [
       "{'name': '가희', 'phone': '010-1234-5678', 'birth': '0506'}"
      ]
     },
     "execution_count": 10,
     "metadata": {},
     "output_type": "execute_result"
    }
   ],
   "source": [
    "dic"
   ]
  },
  {
   "cell_type": "code",
   "execution_count": 11,
   "id": "524ea0b6",
   "metadata": {},
   "outputs": [
    {
     "data": {
      "text/plain": [
       "{1: 'hi'}"
      ]
     },
     "execution_count": 11,
     "metadata": {},
     "output_type": "execute_result"
    }
   ],
   "source": [
    "a = {1: 'hi'}\n",
    "a"
   ]
  },
  {
   "cell_type": "code",
   "execution_count": 13,
   "id": "43210be0",
   "metadata": {},
   "outputs": [],
   "source": [
    "# Value에 리스트도 넣을 수 있음!\n",
    "a = {'a':[1,2,3]}"
   ]
  },
  {
   "cell_type": "markdown",
   "id": "83cd4474",
   "metadata": {},
   "source": [
    "### 딕셔너리 쌍 추가, 삭제하기"
   ]
  },
  {
   "cell_type": "markdown",
   "id": "f7858a48",
   "metadata": {},
   "source": [
    "#### 딕셔너리 쌍 추가하기"
   ]
  },
  {
   "cell_type": "code",
   "execution_count": 14,
   "id": "07355412",
   "metadata": {},
   "outputs": [],
   "source": [
    "a = {1:'a'}"
   ]
  },
  {
   "cell_type": "code",
   "execution_count": 15,
   "id": "24992db5",
   "metadata": {},
   "outputs": [
    {
     "data": {
      "text/plain": [
       "{1: 'a', 2: 'b'}"
      ]
     },
     "execution_count": 15,
     "metadata": {},
     "output_type": "execute_result"
    }
   ],
   "source": [
    "a[2] = 'b'\n",
    "a"
   ]
  },
  {
   "cell_type": "code",
   "execution_count": 18,
   "id": "ed9f0e58",
   "metadata": {},
   "outputs": [
    {
     "data": {
      "text/plain": [
       "{1: 'a', 2: 'b', 'name': '가희'}"
      ]
     },
     "execution_count": 18,
     "metadata": {},
     "output_type": "execute_result"
    }
   ],
   "source": [
    "a['name'] = '가희'\n",
    "a"
   ]
  },
  {
   "cell_type": "code",
   "execution_count": 19,
   "id": "7e6cfda5",
   "metadata": {},
   "outputs": [
    {
     "data": {
      "text/plain": [
       "{1: 'a', 2: 'b', 'name': '가희', 3: [1, 2, 3]}"
      ]
     },
     "execution_count": 19,
     "metadata": {},
     "output_type": "execute_result"
    }
   ],
   "source": [
    "a[3] = [1,2,3]\n",
    "a"
   ]
  },
  {
   "cell_type": "markdown",
   "id": "247b91dc",
   "metadata": {},
   "source": [
    "#### 딕셔너리 요소 삭제하기"
   ]
  },
  {
   "cell_type": "code",
   "execution_count": 20,
   "id": "8ac49d6b",
   "metadata": {},
   "outputs": [
    {
     "data": {
      "text/plain": [
       "{2: 'b', 'name': '가희', 3: [1, 2, 3]}"
      ]
     },
     "execution_count": 20,
     "metadata": {},
     "output_type": "execute_result"
    }
   ],
   "source": [
    "del a[1]\n",
    "a"
   ]
  },
  {
   "cell_type": "markdown",
   "id": "13dfe57a",
   "metadata": {},
   "source": [
    "### 딕셔너리 활용"
   ]
  },
  {
   "cell_type": "code",
   "execution_count": 21,
   "id": "f61c5315",
   "metadata": {},
   "outputs": [
    {
     "data": {
      "text/plain": [
       "{'김연아': '피겨스케이팅', '류현진': '야구', '손흥민': '축구'}"
      ]
     },
     "execution_count": 21,
     "metadata": {},
     "output_type": "execute_result"
    }
   ],
   "source": [
    "{\"김연아\":\"피겨스케이팅\", \"류현진\":\"야구\",\"손흥민\":\"축구\"}"
   ]
  },
  {
   "cell_type": "markdown",
   "id": "b4ddaef1",
   "metadata": {},
   "source": [
    "#### 딕셔너리에서 Key 사용해 Value 얻기"
   ]
  },
  {
   "cell_type": "code",
   "execution_count": 22,
   "id": "79eb104a",
   "metadata": {},
   "outputs": [
    {
     "data": {
      "text/plain": [
       "10"
      ]
     },
     "execution_count": 22,
     "metadata": {},
     "output_type": "execute_result"
    }
   ],
   "source": [
    "grade = {'혜지':10, '가희':99}\n",
    "grade['혜지']"
   ]
  },
  {
   "cell_type": "code",
   "execution_count": 23,
   "id": "ed4cfe94",
   "metadata": {},
   "outputs": [
    {
     "data": {
      "text/plain": [
       "99"
      ]
     },
     "execution_count": 23,
     "metadata": {},
     "output_type": "execute_result"
    }
   ],
   "source": [
    "grade['가희']"
   ]
  },
  {
   "cell_type": "code",
   "execution_count": 28,
   "id": "8a73438b",
   "metadata": {},
   "outputs": [
    {
     "data": {
      "text/plain": [
       "'a'"
      ]
     },
     "execution_count": 28,
     "metadata": {},
     "output_type": "execute_result"
    }
   ],
   "source": [
    "a = {1:'a', 2:'b'}\n",
    "a[1]"
   ]
  },
  {
   "cell_type": "code",
   "execution_count": 25,
   "id": "686508aa",
   "metadata": {},
   "outputs": [
    {
     "data": {
      "text/plain": [
       "'b'"
      ]
     },
     "execution_count": 25,
     "metadata": {},
     "output_type": "execute_result"
    }
   ],
   "source": [
    "a[2]"
   ]
  },
  {
   "cell_type": "code",
   "execution_count": 32,
   "id": "329f4a92",
   "metadata": {},
   "outputs": [
    {
     "data": {
      "text/plain": [
       "1"
      ]
     },
     "execution_count": 32,
     "metadata": {},
     "output_type": "execute_result"
    }
   ],
   "source": [
    "a = {'a':1,'b':2}\n",
    "a['a']"
   ]
  },
  {
   "cell_type": "code",
   "execution_count": 33,
   "id": "d75c6341",
   "metadata": {},
   "outputs": [
    {
     "data": {
      "text/plain": [
       "2"
      ]
     },
     "execution_count": 33,
     "metadata": {},
     "output_type": "execute_result"
    }
   ],
   "source": [
    "a['b']"
   ]
  },
  {
   "cell_type": "code",
   "execution_count": 34,
   "id": "54d750ae",
   "metadata": {},
   "outputs": [],
   "source": [
    "dic = {\"name\":'가희', 'phone':'010-1234-5678', 'birth':'0506'}"
   ]
  },
  {
   "cell_type": "code",
   "execution_count": 35,
   "id": "8ef32e08",
   "metadata": {},
   "outputs": [
    {
     "data": {
      "text/plain": [
       "'가희'"
      ]
     },
     "execution_count": 35,
     "metadata": {},
     "output_type": "execute_result"
    }
   ],
   "source": [
    "dic['name']"
   ]
  },
  {
   "cell_type": "code",
   "execution_count": 36,
   "id": "94c5b1b8",
   "metadata": {},
   "outputs": [
    {
     "data": {
      "text/plain": [
       "'010-1234-5678'"
      ]
     },
     "execution_count": 36,
     "metadata": {},
     "output_type": "execute_result"
    }
   ],
   "source": [
    "dic['phone']"
   ]
  },
  {
   "cell_type": "code",
   "execution_count": 37,
   "id": "23b7fed4",
   "metadata": {},
   "outputs": [
    {
     "data": {
      "text/plain": [
       "'0506'"
      ]
     },
     "execution_count": 37,
     "metadata": {},
     "output_type": "execute_result"
    }
   ],
   "source": [
    "dic['birth']"
   ]
  },
  {
   "cell_type": "markdown",
   "id": "48af4114",
   "metadata": {},
   "source": [
    "#### 딕셔너리 만들 때 주의사항\n",
    "딕셔너리에서 Key값은 고유한 값이므로 중복되는 Key값을 설정해 놓으면 하나를 제외한 나머지 것들이 모두 무시된다."
   ]
  },
  {
   "cell_type": "code",
   "execution_count": 40,
   "id": "e2ac7d97",
   "metadata": {},
   "outputs": [],
   "source": [
    " a = {1:'a', 1:'b'}"
   ]
  },
  {
   "cell_type": "code",
   "execution_count": 42,
   "id": "cd1e31b4",
   "metadata": {},
   "outputs": [
    {
     "data": {
      "text/plain": [
       "{1: 'b'}"
      ]
     },
     "execution_count": 42,
     "metadata": {},
     "output_type": "execute_result"
    }
   ],
   "source": [
    "a #1:'a' 무시됨"
   ]
  },
  {
   "cell_type": "markdown",
   "id": "42c9d398",
   "metadata": {},
   "source": [
    "##### Key에 리스트 쓸 수 없다! but 튜플은 Key로 쓸 수 있다!!!<br>\n",
    "딕셔너리의 Key로 쓸 수 있느냐 없느냐는 Key가 변하는 (mutable)값인지\n",
    "변하지 않는 (immutable)값인지에 달려있다.\n",
    "리스트는 값이 변할 수 있기 때문에 Key로 쓸 수 없다!!!\n",
    "\n",
    "단, Value에는 변하는 값이든 변하지 않는 값이든 상관없이 아무 값이나 넣을 수 있다."
   ]
  },
  {
   "cell_type": "code",
   "execution_count": 44,
   "id": "a386e9ec",
   "metadata": {},
   "outputs": [
    {
     "ename": "TypeError",
     "evalue": "unhashable type: 'list'",
     "output_type": "error",
     "traceback": [
      "\u001b[1;31m---------------------------------------------------------------------------\u001b[0m",
      "\u001b[1;31mTypeError\u001b[0m                                 Traceback (most recent call last)",
      "Input \u001b[1;32mIn [44]\u001b[0m, in \u001b[0;36m<cell line: 1>\u001b[1;34m()\u001b[0m\n\u001b[1;32m----> 1\u001b[0m a \u001b[38;5;241m=\u001b[39m {[\u001b[38;5;241m1\u001b[39m,\u001b[38;5;241m2\u001b[39m]:\u001b[38;5;124m'\u001b[39m\u001b[38;5;124mhi\u001b[39m\u001b[38;5;124m'\u001b[39m}\n",
      "\u001b[1;31mTypeError\u001b[0m: unhashable type: 'list'"
     ]
    }
   ],
   "source": [
    "a = {[1,2]:'hi'}"
   ]
  },
  {
   "cell_type": "markdown",
   "id": "a097291e",
   "metadata": {},
   "source": [
    "### 딕셔너리 관련 함수"
   ]
  },
  {
   "cell_type": "markdown",
   "id": "89791c53",
   "metadata": {},
   "source": [
    "####  key 리스트 만들기 (keys)"
   ]
  },
  {
   "cell_type": "code",
   "execution_count": 45,
   "id": "36a3722a",
   "metadata": {},
   "outputs": [
    {
     "data": {
      "text/plain": [
       "dict_keys(['name', 'phone', 'birth'])"
      ]
     },
     "execution_count": 45,
     "metadata": {},
     "output_type": "execute_result"
    }
   ],
   "source": [
    "a = {\"name\":'가희', 'phone':'010-1234-5678', 'birth':'0506'}\n",
    "a.keys()"
   ]
  },
  {
   "cell_type": "code",
   "execution_count": 46,
   "id": "4b152fb5",
   "metadata": {},
   "outputs": [
    {
     "name": "stdout",
     "output_type": "stream",
     "text": [
      "name\n",
      "phone\n",
      "birth\n"
     ]
    }
   ],
   "source": [
    "for k in a.keys():\n",
    "    print(k)"
   ]
  },
  {
   "cell_type": "code",
   "execution_count": 47,
   "id": "6b2d4467",
   "metadata": {},
   "outputs": [
    {
     "data": {
      "text/plain": [
       "['name', 'phone', 'birth']"
      ]
     },
     "execution_count": 47,
     "metadata": {},
     "output_type": "execute_result"
    }
   ],
   "source": [
    "list(a.keys())"
   ]
  },
  {
   "cell_type": "markdown",
   "id": "14f9e46f",
   "metadata": {},
   "source": [
    "#### Value 리스트 만들기 (values) "
   ]
  },
  {
   "cell_type": "code",
   "execution_count": 48,
   "id": "863a4c7d",
   "metadata": {},
   "outputs": [
    {
     "data": {
      "text/plain": [
       "dict_values(['가희', '010-1234-5678', '0506'])"
      ]
     },
     "execution_count": 48,
     "metadata": {},
     "output_type": "execute_result"
    }
   ],
   "source": [
    "a.values()"
   ]
  },
  {
   "cell_type": "markdown",
   "id": "a895c656",
   "metadata": {},
   "source": [
    "#### Key,Value 쌍 얻기(items)"
   ]
  },
  {
   "cell_type": "code",
   "execution_count": 49,
   "id": "e113dfef",
   "metadata": {},
   "outputs": [
    {
     "data": {
      "text/plain": [
       "dict_items([('name', '가희'), ('phone', '010-1234-5678'), ('birth', '0506')])"
      ]
     },
     "execution_count": 49,
     "metadata": {},
     "output_type": "execute_result"
    }
   ],
   "source": [
    "a.items()"
   ]
  },
  {
   "cell_type": "markdown",
   "id": "8e848fde",
   "metadata": {},
   "source": [
    "#### Key:Value쌍 모두 지우기 (clear)"
   ]
  },
  {
   "cell_type": "code",
   "execution_count": 51,
   "id": "d40978c9",
   "metadata": {},
   "outputs": [
    {
     "data": {
      "text/plain": [
       "{}"
      ]
     },
     "execution_count": 51,
     "metadata": {},
     "output_type": "execute_result"
    }
   ],
   "source": [
    "a.clear()\n",
    "a"
   ]
  },
  {
   "cell_type": "markdown",
   "id": "618939e6",
   "metadata": {},
   "source": [
    "#### Key로 Value얻기 (get)"
   ]
  },
  {
   "cell_type": "code",
   "execution_count": 55,
   "id": "163c9eb4",
   "metadata": {},
   "outputs": [
    {
     "data": {
      "text/plain": [
       "'가희'"
      ]
     },
     "execution_count": 55,
     "metadata": {},
     "output_type": "execute_result"
    }
   ],
   "source": [
    "a = {\"name\":'가희', 'phone':'010-1234-5678', 'birth':'0506'}\n",
    "a.get(\"name\")"
   ]
  },
  {
   "cell_type": "code",
   "execution_count": 56,
   "id": "6bb35897",
   "metadata": {},
   "outputs": [
    {
     "data": {
      "text/plain": [
       "'010-1234-5678'"
      ]
     },
     "execution_count": 56,
     "metadata": {},
     "output_type": "execute_result"
    }
   ],
   "source": [
    "a.get(\"phone\")"
   ]
  },
  {
   "cell_type": "code",
   "execution_count": 57,
   "id": "a589d6b3",
   "metadata": {},
   "outputs": [
    {
     "name": "stdout",
     "output_type": "stream",
     "text": [
      "None\n"
     ]
    }
   ],
   "source": [
    "print(a.get('nokey'))"
   ]
  },
  {
   "cell_type": "code",
   "execution_count": 58,
   "id": "f840f614",
   "metadata": {},
   "outputs": [
    {
     "data": {
      "text/plain": [
       "'foo'"
      ]
     },
     "execution_count": 58,
     "metadata": {},
     "output_type": "execute_result"
    }
   ],
   "source": [
    "a.get('nokey','foo')"
   ]
  },
  {
   "cell_type": "markdown",
   "id": "8b160152",
   "metadata": {},
   "source": [
    "#### 해당 Key가 딕셔너리 안에 있는지 조사하기 (in)"
   ]
  },
  {
   "cell_type": "code",
   "execution_count": 59,
   "id": "1e495ad5",
   "metadata": {},
   "outputs": [],
   "source": [
    "a = {\"name\":'가희', 'phone':'010-1234-5678', 'birth':'0506'}"
   ]
  },
  {
   "cell_type": "code",
   "execution_count": 60,
   "id": "0f63a830",
   "metadata": {},
   "outputs": [
    {
     "data": {
      "text/plain": [
       "True"
      ]
     },
     "execution_count": 60,
     "metadata": {},
     "output_type": "execute_result"
    }
   ],
   "source": [
    "'name' in a"
   ]
  },
  {
   "cell_type": "code",
   "execution_count": 61,
   "id": "20bda6f1",
   "metadata": {},
   "outputs": [
    {
     "data": {
      "text/plain": [
       "False"
      ]
     },
     "execution_count": 61,
     "metadata": {},
     "output_type": "execute_result"
    }
   ],
   "source": [
    "'email' in a"
   ]
  },
  {
   "cell_type": "markdown",
   "id": "92f04194",
   "metadata": {},
   "source": [
    "## 02-6 집합(set) 자료형"
   ]
  },
  {
   "cell_type": "code",
   "execution_count": 63,
   "id": "2150ac01",
   "metadata": {},
   "outputs": [
    {
     "data": {
      "text/plain": [
       "{1, 2, 3}"
      ]
     },
     "execution_count": 63,
     "metadata": {},
     "output_type": "execute_result"
    }
   ],
   "source": [
    "s1 = set([1,2,3])\n",
    "s1"
   ]
  },
  {
   "cell_type": "code",
   "execution_count": 64,
   "id": "777d50fb",
   "metadata": {},
   "outputs": [
    {
     "data": {
      "text/plain": [
       "{'H', 'e', 'l', 'o'}"
      ]
     },
     "execution_count": 64,
     "metadata": {},
     "output_type": "execute_result"
    }
   ],
   "source": [
    "s2 = set(\"Hello\")\n",
    "s2"
   ]
  },
  {
   "cell_type": "markdown",
   "id": "0ea69433",
   "metadata": {},
   "source": [
    "### 집합 자료형의 특징\n",
    "- 중복을 허용하지 않는다.\n",
    "- 순서가 없다.(Unordered)\n",
    "\n",
    "중복을 허용하지 않는 특징 때문에 set은 자료형의 중복을 제거하기 위한 필터로 종종 사용된다.<br>\n",
    "\n",
    "리스트나 튜플을 순서가 있기(ordered)때문에 인덱싱을 통해 자료형의 값을 얻을 수 있지만 set자료형은 순서가 없기(unordered)때문에 인덱싱으로 값을 얻을 수 없다. 딕셔너리 역시 순서가 없는 자료형이라 인덱싱을 지원하지 않는다. \n",
    "\n",
    "만약 set자료형에 저장된 값을 인덱싱으로 접근하려면 리스트나 튜플로 변환 후 해야한다."
   ]
  },
  {
   "cell_type": "code",
   "execution_count": 65,
   "id": "29bcd97f",
   "metadata": {},
   "outputs": [],
   "source": [
    "s1 = set([1,2,3])\n",
    "l1 = list(s1)"
   ]
  },
  {
   "cell_type": "code",
   "execution_count": 66,
   "id": "e8ef0053",
   "metadata": {},
   "outputs": [
    {
     "data": {
      "text/plain": [
       "[1, 2, 3]"
      ]
     },
     "execution_count": 66,
     "metadata": {},
     "output_type": "execute_result"
    }
   ],
   "source": [
    "l1"
   ]
  },
  {
   "cell_type": "code",
   "execution_count": 67,
   "id": "7df36498",
   "metadata": {},
   "outputs": [
    {
     "data": {
      "text/plain": [
       "1"
      ]
     },
     "execution_count": 67,
     "metadata": {},
     "output_type": "execute_result"
    }
   ],
   "source": [
    "l1[0]"
   ]
  },
  {
   "cell_type": "code",
   "execution_count": 70,
   "id": "c1d66449",
   "metadata": {},
   "outputs": [
    {
     "data": {
      "text/plain": [
       "(1, 2, 3)"
      ]
     },
     "execution_count": 70,
     "metadata": {},
     "output_type": "execute_result"
    }
   ],
   "source": [
    "t1 = tuple(s1)\n",
    "t1"
   ]
  },
  {
   "cell_type": "code",
   "execution_count": 69,
   "id": "274b0d46",
   "metadata": {},
   "outputs": [
    {
     "data": {
      "text/plain": [
       "3"
      ]
     },
     "execution_count": 69,
     "metadata": {},
     "output_type": "execute_result"
    }
   ],
   "source": [
    "t1[2]"
   ]
  },
  {
   "cell_type": "markdown",
   "id": "ffd32353",
   "metadata": {},
   "source": [
    "### 교집합,합집합,차집합 구하기"
   ]
  },
  {
   "cell_type": "code",
   "execution_count": 71,
   "id": "088fc1ae",
   "metadata": {},
   "outputs": [],
   "source": [
    "s1 = set([1,2,3,4,5,6])\n",
    "s2 = set([4,5,6,7,8,9])"
   ]
  },
  {
   "cell_type": "markdown",
   "id": "370df3cc",
   "metadata": {},
   "source": [
    "#### 1. 교집합"
   ]
  },
  {
   "cell_type": "code",
   "execution_count": 72,
   "id": "8d7aa733",
   "metadata": {},
   "outputs": [
    {
     "data": {
      "text/plain": [
       "{4, 5, 6}"
      ]
     },
     "execution_count": 72,
     "metadata": {},
     "output_type": "execute_result"
    }
   ],
   "source": [
    "s1 & s2"
   ]
  },
  {
   "cell_type": "code",
   "execution_count": 73,
   "id": "ebd5e417",
   "metadata": {},
   "outputs": [
    {
     "data": {
      "text/plain": [
       "{4, 5, 6}"
      ]
     },
     "execution_count": 73,
     "metadata": {},
     "output_type": "execute_result"
    }
   ],
   "source": [
    "s1.intersection(s2)"
   ]
  },
  {
   "cell_type": "markdown",
   "id": "1a60228c",
   "metadata": {},
   "source": [
    "#### 2. 합집합"
   ]
  },
  {
   "cell_type": "code",
   "execution_count": 74,
   "id": "2a846146",
   "metadata": {},
   "outputs": [
    {
     "data": {
      "text/plain": [
       "{1, 2, 3, 4, 5, 6, 7, 8, 9}"
      ]
     },
     "execution_count": 74,
     "metadata": {},
     "output_type": "execute_result"
    }
   ],
   "source": [
    "s1 | s2"
   ]
  },
  {
   "cell_type": "code",
   "execution_count": 75,
   "id": "bc397b35",
   "metadata": {},
   "outputs": [
    {
     "data": {
      "text/plain": [
       "{1, 2, 3, 4, 5, 6, 7, 8, 9}"
      ]
     },
     "execution_count": 75,
     "metadata": {},
     "output_type": "execute_result"
    }
   ],
   "source": [
    "s1.union(s2)"
   ]
  },
  {
   "cell_type": "markdown",
   "id": "c8a28841",
   "metadata": {},
   "source": [
    "#### 3. 차집합"
   ]
  },
  {
   "cell_type": "code",
   "execution_count": 76,
   "id": "720dd1d4",
   "metadata": {},
   "outputs": [
    {
     "data": {
      "text/plain": [
       "{1, 2, 3}"
      ]
     },
     "execution_count": 76,
     "metadata": {},
     "output_type": "execute_result"
    }
   ],
   "source": [
    "s1 - s2"
   ]
  },
  {
   "cell_type": "code",
   "execution_count": 77,
   "id": "ed1eeadb",
   "metadata": {},
   "outputs": [
    {
     "data": {
      "text/plain": [
       "{7, 8, 9}"
      ]
     },
     "execution_count": 77,
     "metadata": {},
     "output_type": "execute_result"
    }
   ],
   "source": [
    "s2 - s1"
   ]
  },
  {
   "cell_type": "code",
   "execution_count": 78,
   "id": "29973491",
   "metadata": {},
   "outputs": [
    {
     "data": {
      "text/plain": [
       "{1, 2, 3}"
      ]
     },
     "execution_count": 78,
     "metadata": {},
     "output_type": "execute_result"
    }
   ],
   "source": [
    "s1.difference(s2)"
   ]
  },
  {
   "cell_type": "code",
   "execution_count": 79,
   "id": "ac8289e3",
   "metadata": {},
   "outputs": [
    {
     "data": {
      "text/plain": [
       "{7, 8, 9}"
      ]
     },
     "execution_count": 79,
     "metadata": {},
     "output_type": "execute_result"
    }
   ],
   "source": [
    "s2.difference(s1)"
   ]
  },
  {
   "cell_type": "markdown",
   "id": "365638f3",
   "metadata": {},
   "source": [
    "### 집합 자료형 관련 함수"
   ]
  },
  {
   "cell_type": "markdown",
   "id": "6d8b81d7",
   "metadata": {},
   "source": [
    "#### 값 1개 추가하기 (add) "
   ]
  },
  {
   "cell_type": "code",
   "execution_count": 80,
   "id": "4735edde",
   "metadata": {},
   "outputs": [],
   "source": [
    "s1 = set([1,2,3])\n",
    "s1.add(4)"
   ]
  },
  {
   "cell_type": "code",
   "execution_count": 81,
   "id": "18cb859a",
   "metadata": {},
   "outputs": [
    {
     "data": {
      "text/plain": [
       "{1, 2, 3, 4}"
      ]
     },
     "execution_count": 81,
     "metadata": {},
     "output_type": "execute_result"
    }
   ],
   "source": [
    "s1"
   ]
  },
  {
   "cell_type": "markdown",
   "id": "0ae10255",
   "metadata": {},
   "source": [
    "#### 값 여러개 추가하기 (update)"
   ]
  },
  {
   "cell_type": "code",
   "execution_count": 82,
   "id": "baac0069",
   "metadata": {},
   "outputs": [],
   "source": [
    "s1 = set([1,2,3])\n",
    "s1.update([4,5,6])"
   ]
  },
  {
   "cell_type": "code",
   "execution_count": 84,
   "id": "d7a7599d",
   "metadata": {},
   "outputs": [
    {
     "data": {
      "text/plain": [
       "{1, 2, 3, 4, 5, 6}"
      ]
     },
     "execution_count": 84,
     "metadata": {},
     "output_type": "execute_result"
    }
   ],
   "source": [
    "s1"
   ]
  },
  {
   "cell_type": "markdown",
   "id": "10d3cfbe",
   "metadata": {},
   "source": [
    "#### 특정 값 제거하기(remove)"
   ]
  },
  {
   "cell_type": "code",
   "execution_count": 85,
   "id": "14d67031",
   "metadata": {},
   "outputs": [],
   "source": [
    "s1 = set([1,2,3])\n",
    "s1.remove(2)"
   ]
  },
  {
   "cell_type": "code",
   "execution_count": 86,
   "id": "40609367",
   "metadata": {},
   "outputs": [
    {
     "data": {
      "text/plain": [
       "{1, 3}"
      ]
     },
     "execution_count": 86,
     "metadata": {},
     "output_type": "execute_result"
    }
   ],
   "source": [
    "s1"
   ]
  },
  {
   "cell_type": "markdown",
   "id": "8f4027b8",
   "metadata": {},
   "source": [
    "## 02-7 불(bool) 자료형\n",
    "\n",
    "불(bool)자료형이란 참(True)과 거짓(False)을 나타내는 자료형이다. \n",
    "\n",
    "- True : 참\n",
    "- False : 거짓"
   ]
  },
  {
   "cell_type": "code",
   "execution_count": 87,
   "id": "b433992a",
   "metadata": {},
   "outputs": [],
   "source": [
    "a = True\n",
    "b = False"
   ]
  },
  {
   "cell_type": "code",
   "execution_count": 88,
   "id": "76c5ce8c",
   "metadata": {},
   "outputs": [
    {
     "data": {
      "text/plain": [
       "bool"
      ]
     },
     "execution_count": 88,
     "metadata": {},
     "output_type": "execute_result"
    }
   ],
   "source": [
    "type(a)"
   ]
  },
  {
   "cell_type": "code",
   "execution_count": 89,
   "id": "6d252046",
   "metadata": {},
   "outputs": [
    {
     "data": {
      "text/plain": [
       "bool"
      ]
     },
     "execution_count": 89,
     "metadata": {},
     "output_type": "execute_result"
    }
   ],
   "source": [
    "type(b)"
   ]
  },
  {
   "cell_type": "code",
   "execution_count": 90,
   "id": "609ca7ff",
   "metadata": {},
   "outputs": [
    {
     "data": {
      "text/plain": [
       "True"
      ]
     },
     "execution_count": 90,
     "metadata": {},
     "output_type": "execute_result"
    }
   ],
   "source": [
    "1 == 1 "
   ]
  },
  {
   "cell_type": "code",
   "execution_count": 91,
   "id": "e9e67f3a",
   "metadata": {},
   "outputs": [
    {
     "data": {
      "text/plain": [
       "True"
      ]
     },
     "execution_count": 91,
     "metadata": {},
     "output_type": "execute_result"
    }
   ],
   "source": [
    "2 > 1"
   ]
  },
  {
   "cell_type": "code",
   "execution_count": 92,
   "id": "318e19f9",
   "metadata": {},
   "outputs": [
    {
     "data": {
      "text/plain": [
       "False"
      ]
     },
     "execution_count": 92,
     "metadata": {},
     "output_type": "execute_result"
    }
   ],
   "source": [
    "2 < 1"
   ]
  },
  {
   "cell_type": "markdown",
   "id": "08d356d9",
   "metadata": {},
   "source": [
    "### 자료형의 참과 거짓"
   ]
  },
  {
   "cell_type": "markdown",
   "id": "ba047925",
   "metadata": {},
   "source": [
    "| 값   |  참 or 거짓                                                   |\n",
    "|----- |---------------------------------------------------------|\n",
    "|\"python\" | 참                     |\n",
    "|\"\"    | 거짓                     |\n",
    "|[1,2,3]    | 참                           |\n",
    "|[ ]    | 거짓                |\n",
    "|(1,2,3)    |참                   |\n",
    "|( )    |거짓 |\n",
    "|{'a':1}    |참     |\n",
    "|{ }    | 거짓 |\n",
    "|1     | 참    |\n",
    "|0     | 거짓   |\n",
    "|None  | 거짓   |"
   ]
  },
  {
   "cell_type": "code",
   "execution_count": 94,
   "id": "e0ffab7b",
   "metadata": {},
   "outputs": [
    {
     "name": "stdout",
     "output_type": "stream",
     "text": [
      "4\n",
      "3\n",
      "2\n",
      "1\n"
     ]
    }
   ],
   "source": [
    "a = [1,2,3,4]\n",
    "while a:\n",
    "    print(a.pop())"
   ]
  },
  {
   "cell_type": "code",
   "execution_count": 95,
   "id": "9f8487df",
   "metadata": {},
   "outputs": [
    {
     "name": "stdout",
     "output_type": "stream",
     "text": [
      "거짓\n"
     ]
    }
   ],
   "source": [
    "if []:\n",
    "    print(\"참\")\n",
    "else:\n",
    "    print(\"거짓\")"
   ]
  },
  {
   "cell_type": "code",
   "execution_count": 96,
   "id": "b7356288",
   "metadata": {},
   "outputs": [
    {
     "name": "stdout",
     "output_type": "stream",
     "text": [
      "참\n"
     ]
    }
   ],
   "source": [
    "if [1,2,3]:\n",
    "    print(\"참\")\n",
    "else:\n",
    "    print(\"거짓\")"
   ]
  },
  {
   "cell_type": "markdown",
   "id": "b02439ae",
   "metadata": {},
   "source": [
    "### 불 연산"
   ]
  },
  {
   "cell_type": "code",
   "execution_count": 97,
   "id": "b87488a8",
   "metadata": {},
   "outputs": [
    {
     "data": {
      "text/plain": [
       "True"
      ]
     },
     "execution_count": 97,
     "metadata": {},
     "output_type": "execute_result"
    }
   ],
   "source": [
    "bool('python')"
   ]
  },
  {
   "cell_type": "code",
   "execution_count": 98,
   "id": "dfff144c",
   "metadata": {},
   "outputs": [
    {
     "data": {
      "text/plain": [
       "False"
      ]
     },
     "execution_count": 98,
     "metadata": {},
     "output_type": "execute_result"
    }
   ],
   "source": [
    "bool('')"
   ]
  },
  {
   "cell_type": "code",
   "execution_count": 99,
   "id": "a05e19b6",
   "metadata": {},
   "outputs": [
    {
     "data": {
      "text/plain": [
       "True"
      ]
     },
     "execution_count": 99,
     "metadata": {},
     "output_type": "execute_result"
    }
   ],
   "source": [
    "bool([1,2,3])"
   ]
  },
  {
   "cell_type": "code",
   "execution_count": 100,
   "id": "17634773",
   "metadata": {},
   "outputs": [
    {
     "data": {
      "text/plain": [
       "False"
      ]
     },
     "execution_count": 100,
     "metadata": {},
     "output_type": "execute_result"
    }
   ],
   "source": [
    "bool([])"
   ]
  },
  {
   "cell_type": "code",
   "execution_count": 101,
   "id": "d5e338e3",
   "metadata": {},
   "outputs": [
    {
     "data": {
      "text/plain": [
       "False"
      ]
     },
     "execution_count": 101,
     "metadata": {},
     "output_type": "execute_result"
    }
   ],
   "source": [
    "bool(0)"
   ]
  },
  {
   "cell_type": "code",
   "execution_count": 102,
   "id": "9b03a832",
   "metadata": {},
   "outputs": [
    {
     "data": {
      "text/plain": [
       "True"
      ]
     },
     "execution_count": 102,
     "metadata": {},
     "output_type": "execute_result"
    }
   ],
   "source": [
    "bool(4)"
   ]
  },
  {
   "cell_type": "markdown",
   "id": "0b668bd1",
   "metadata": {},
   "source": [
    "## 02-8 자료형의 값을 저장하는 공간, 변수"
   ]
  },
  {
   "cell_type": "code",
   "execution_count": 103,
   "id": "181bcead",
   "metadata": {},
   "outputs": [],
   "source": [
    "a = 1\n",
    "b = \"python\"\n",
    "c = [1,2,3]"
   ]
  },
  {
   "cell_type": "markdown",
   "id": "5596f929",
   "metadata": {},
   "source": [
    "a,b,c를 변수라고 함. \n",
    "변수를 만들 때는 위 예처럼 =(assignment)기호를 사용한다.\n",
    "\n",
    "다른 프로그래밍 언어인 C나 JAVA에서는 변수를 만들 때 자료형의 타입을 직접 지정해야 하지만 파이썬은 변수에 저장된 값을 스스로 판단하여 자료형의 타입을 지정하기 때문에 더 편리하다."
   ]
  },
  {
   "cell_type": "markdown",
   "id": "04b88e28",
   "metadata": {},
   "source": [
    "'변수 이름' = '변수에 저장할 값'"
   ]
  },
  {
   "cell_type": "markdown",
   "id": "948b147e",
   "metadata": {},
   "source": [
    "### 변수란?\n",
    "\n",
    "객체를 가리키는 것. 객체란 자료형의 데이터(값)을 의미하는 말이다."
   ]
  },
  {
   "cell_type": "code",
   "execution_count": 106,
   "id": "e11642a8",
   "metadata": {},
   "outputs": [],
   "source": [
    "a = [1,2,3]"
   ]
  },
  {
   "cell_type": "markdown",
   "id": "32f28f76",
   "metadata": {},
   "source": [
    "[1,2,3]값을 가지는 리스트 -> 데이터(객체)가 자동으로 메모리에 생성되고 변수 a는 [1,2,3]리스트가 저장된 메모리의 주소를 가리키게 된다.<br>\n",
    "\n",
    "a 변수가 가리키는 메모리의 주소는 다음과 같이 확인할 수 있다."
   ]
  },
  {
   "cell_type": "code",
   "execution_count": 107,
   "id": "a2efb9f9",
   "metadata": {},
   "outputs": [
    {
     "data": {
      "text/plain": [
       "2132533959552"
      ]
     },
     "execution_count": 107,
     "metadata": {},
     "output_type": "execute_result"
    }
   ],
   "source": [
    "id(a)"
   ]
  },
  {
   "cell_type": "markdown",
   "id": "f5246e6b",
   "metadata": {},
   "source": [
    "### 리스트를 복사하고자 할 때 "
   ]
  },
  {
   "cell_type": "code",
   "execution_count": 108,
   "id": "556d4e2d",
   "metadata": {},
   "outputs": [],
   "source": [
    "a = [1,2,3]\n",
    "b = a"
   ]
  },
  {
   "cell_type": "markdown",
   "id": "6af78bcd",
   "metadata": {},
   "source": [
    "b변수에 a변수를 대입하면 b와 a는 같은 걸까 다른 걸까? <br>\n",
    "b는 a와 완전히 동일하다고 할 수 있다.<br>\n",
    "다만 [1,2,3] 이라는 리스트 객체를 참조하는 변수가 a변수 1개에서 b변수가 추가되어 2개로 늘어났다는 차이만 있을 뿐이다."
   ]
  },
  {
   "cell_type": "code",
   "execution_count": 109,
   "id": "6ebca522",
   "metadata": {},
   "outputs": [
    {
     "data": {
      "text/plain": [
       "2132534210432"
      ]
     },
     "execution_count": 109,
     "metadata": {},
     "output_type": "execute_result"
    }
   ],
   "source": [
    "id(a)"
   ]
  },
  {
   "cell_type": "code",
   "execution_count": 110,
   "id": "9862a614",
   "metadata": {},
   "outputs": [
    {
     "data": {
      "text/plain": [
       "2132534210432"
      ]
     },
     "execution_count": 110,
     "metadata": {},
     "output_type": "execute_result"
    }
   ],
   "source": [
    "id(b)"
   ]
  },
  {
   "cell_type": "markdown",
   "id": "b5c99ba3",
   "metadata": {},
   "source": [
    "id(a)값이 id(b)의 값과 동일함을 확인할 수 있다. 즉 a와 b가 가리키는 대상이 동일하다는 것을 알 수 있다. 동일한 객체를 가리키고 있는지에 대해서 판단하는 파이썬 명령어를 실행해보자."
   ]
  },
  {
   "cell_type": "code",
   "execution_count": 111,
   "id": "c0d01437",
   "metadata": {},
   "outputs": [
    {
     "data": {
      "text/plain": [
       "True"
      ]
     },
     "execution_count": 111,
     "metadata": {},
     "output_type": "execute_result"
    }
   ],
   "source": [
    "a is b"
   ]
  },
  {
   "cell_type": "code",
   "execution_count": 112,
   "id": "2598d08e",
   "metadata": {},
   "outputs": [],
   "source": [
    "a[1] = 4"
   ]
  },
  {
   "cell_type": "code",
   "execution_count": 113,
   "id": "f83c6ca9",
   "metadata": {},
   "outputs": [
    {
     "data": {
      "text/plain": [
       "[1, 4, 3]"
      ]
     },
     "execution_count": 113,
     "metadata": {},
     "output_type": "execute_result"
    }
   ],
   "source": [
    "a"
   ]
  },
  {
   "cell_type": "code",
   "execution_count": 114,
   "id": "0d7e756e",
   "metadata": {},
   "outputs": [
    {
     "data": {
      "text/plain": [
       "[1, 4, 3]"
      ]
     },
     "execution_count": 114,
     "metadata": {},
     "output_type": "execute_result"
    }
   ],
   "source": [
    "b"
   ]
  },
  {
   "cell_type": "markdown",
   "id": "2c766b23",
   "metadata": {},
   "source": [
    "b 변수를 생성할 때 a 변수의 값을 가져오면서 a와 \"다른 주소\"를 가리키도록 만드는 방법 2가지"
   ]
  },
  {
   "cell_type": "markdown",
   "id": "c38f04ef",
   "metadata": {},
   "source": [
    "#### 1. [:] 이용\n",
    "리스트 전체를 가리키는 [:]를 사용해서 복사"
   ]
  },
  {
   "cell_type": "code",
   "execution_count": 115,
   "id": "18ee5897",
   "metadata": {},
   "outputs": [],
   "source": [
    "a = [1,2,3]\n",
    "b = a[:]"
   ]
  },
  {
   "cell_type": "code",
   "execution_count": 116,
   "id": "81ab1396",
   "metadata": {},
   "outputs": [
    {
     "data": {
      "text/plain": [
       "2132533942656"
      ]
     },
     "execution_count": 116,
     "metadata": {},
     "output_type": "execute_result"
    }
   ],
   "source": [
    "id(a)"
   ]
  },
  {
   "cell_type": "code",
   "execution_count": 117,
   "id": "be825d7e",
   "metadata": {},
   "outputs": [
    {
     "data": {
      "text/plain": [
       "2132534238720"
      ]
     },
     "execution_count": 117,
     "metadata": {},
     "output_type": "execute_result"
    }
   ],
   "source": [
    "id(b)"
   ]
  },
  {
   "cell_type": "code",
   "execution_count": 118,
   "id": "2fd50983",
   "metadata": {},
   "outputs": [
    {
     "data": {
      "text/plain": [
       "False"
      ]
     },
     "execution_count": 118,
     "metadata": {},
     "output_type": "execute_result"
    }
   ],
   "source": [
    "a is b"
   ]
  },
  {
   "cell_type": "markdown",
   "id": "9a4d56a9",
   "metadata": {},
   "source": [
    "#### 2. copy 모듈 이용"
   ]
  },
  {
   "cell_type": "code",
   "execution_count": 119,
   "id": "c3d78bc8",
   "metadata": {},
   "outputs": [],
   "source": [
    "from copy import copy\n",
    "a = [1,2,3]\n",
    "b = copy(a)"
   ]
  },
  {
   "cell_type": "code",
   "execution_count": 120,
   "id": "2a110fae",
   "metadata": {},
   "outputs": [
    {
     "data": {
      "text/plain": [
       "False"
      ]
     },
     "execution_count": 120,
     "metadata": {},
     "output_type": "execute_result"
    }
   ],
   "source": [
    "b is a"
   ]
  },
  {
   "cell_type": "markdown",
   "id": "db0fca84",
   "metadata": {},
   "source": [
    "###  변수를 만드는 여러 가지 방법"
   ]
  },
  {
   "cell_type": "code",
   "execution_count": 121,
   "id": "07312aac",
   "metadata": {},
   "outputs": [],
   "source": [
    "# 튜플\n",
    "a, b = ('swell','coffee')"
   ]
  },
  {
   "cell_type": "code",
   "execution_count": 122,
   "id": "ce09fddf",
   "metadata": {},
   "outputs": [
    {
     "data": {
      "text/plain": [
       "'swell'"
      ]
     },
     "execution_count": 122,
     "metadata": {},
     "output_type": "execute_result"
    }
   ],
   "source": [
    "a"
   ]
  },
  {
   "cell_type": "code",
   "execution_count": 123,
   "id": "7ca987b5",
   "metadata": {},
   "outputs": [
    {
     "data": {
      "text/plain": [
       "'coffee'"
      ]
     },
     "execution_count": 123,
     "metadata": {},
     "output_type": "execute_result"
    }
   ],
   "source": [
    "b"
   ]
  },
  {
   "cell_type": "code",
   "execution_count": 124,
   "id": "b71e59a4",
   "metadata": {},
   "outputs": [],
   "source": [
    "(a,b) = 'swell','coffee'"
   ]
  },
  {
   "cell_type": "code",
   "execution_count": 125,
   "id": "dd6f7f47",
   "metadata": {},
   "outputs": [
    {
     "data": {
      "text/plain": [
       "'swell'"
      ]
     },
     "execution_count": 125,
     "metadata": {},
     "output_type": "execute_result"
    }
   ],
   "source": [
    "a"
   ]
  },
  {
   "cell_type": "code",
   "execution_count": 126,
   "id": "d79c4851",
   "metadata": {},
   "outputs": [
    {
     "data": {
      "text/plain": [
       "'coffee'"
      ]
     },
     "execution_count": 126,
     "metadata": {},
     "output_type": "execute_result"
    }
   ],
   "source": [
    "b"
   ]
  },
  {
   "cell_type": "code",
   "execution_count": 127,
   "id": "ad4d6a66",
   "metadata": {},
   "outputs": [],
   "source": [
    "# 리스트\n",
    "[ㄱ,ㄴ] = ['가방','나비']"
   ]
  },
  {
   "cell_type": "code",
   "execution_count": 128,
   "id": "d444f5c2",
   "metadata": {},
   "outputs": [
    {
     "data": {
      "text/plain": [
       "'가방'"
      ]
     },
     "execution_count": 128,
     "metadata": {},
     "output_type": "execute_result"
    }
   ],
   "source": [
    "ㄱ"
   ]
  },
  {
   "cell_type": "code",
   "execution_count": 129,
   "id": "c631a81d",
   "metadata": {},
   "outputs": [
    {
     "data": {
      "text/plain": [
       "'나비'"
      ]
     },
     "execution_count": 129,
     "metadata": {},
     "output_type": "execute_result"
    }
   ],
   "source": [
    "ㄴ"
   ]
  },
  {
   "cell_type": "code",
   "execution_count": 132,
   "id": "839653e1",
   "metadata": {},
   "outputs": [],
   "source": [
    "# 여러개의 변수에 같은 값 대입할 수 있다.\n",
    "a = b = 'python'"
   ]
  },
  {
   "cell_type": "code",
   "execution_count": 133,
   "id": "f691282f",
   "metadata": {},
   "outputs": [],
   "source": [
    "a = 3\n",
    "b = 5\n",
    "a,b = b,a"
   ]
  },
  {
   "cell_type": "code",
   "execution_count": 134,
   "id": "e8ebe27b",
   "metadata": {},
   "outputs": [
    {
     "data": {
      "text/plain": [
       "5"
      ]
     },
     "execution_count": 134,
     "metadata": {},
     "output_type": "execute_result"
    }
   ],
   "source": [
    "a"
   ]
  },
  {
   "cell_type": "code",
   "execution_count": 135,
   "id": "62d47bc2",
   "metadata": {},
   "outputs": [
    {
     "data": {
      "text/plain": [
       "3"
      ]
     },
     "execution_count": 135,
     "metadata": {},
     "output_type": "execute_result"
    }
   ],
   "source": [
    "b"
   ]
  }
 ],
 "metadata": {
  "kernelspec": {
   "display_name": "Python 3 (ipykernel)",
   "language": "python",
   "name": "python3"
  },
  "language_info": {
   "codemirror_mode": {
    "name": "ipython",
    "version": 3
   },
   "file_extension": ".py",
   "mimetype": "text/x-python",
   "name": "python",
   "nbconvert_exporter": "python",
   "pygments_lexer": "ipython3",
   "version": "3.9.12"
  }
 },
 "nbformat": 4,
 "nbformat_minor": 5
}
