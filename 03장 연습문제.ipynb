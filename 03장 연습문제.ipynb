{
 "cells": [
  {
   "cell_type": "markdown",
   "id": "7a8c4f23",
   "metadata": {},
   "source": [
    "## Q1. 조건문의 참과 거짓"
   ]
  },
  {
   "cell_type": "code",
   "execution_count": 4,
   "id": "00150f4f",
   "metadata": {},
   "outputs": [
    {
     "name": "stdout",
     "output_type": "stream",
     "text": [
      "shirt\n"
     ]
    }
   ],
   "source": [
    "a = \"LIfe is too short, you need python\"\n",
    "\n",
    "if \"wife\" in a: print(\"wife\")\n",
    "elif \"python\" in a and \"you\" not in a: print(\"python\")\n",
    "elif \"shirt\" not in a: print(\"shirt\")\n",
    "elif \"need\" in a: print(\"need\")\n",
    "else: print(\"none\")\n",
    "\n",
    "# shirt가 가장 먼저 참이 되므로 \"shirt\" 출력"
   ]
  },
  {
   "cell_type": "markdown",
   "id": "f3d1bc45",
   "metadata": {},
   "source": [
    "## Q2. 3의 배수의 합\n",
    "while문 사용해 1부터 1000 까지의 자연수 중 3의 배수의 합을 구해보자."
   ]
  },
  {
   "cell_type": "code",
   "execution_count": 6,
   "id": "fd645c7c",
   "metadata": {},
   "outputs": [
    {
     "name": "stdout",
     "output_type": "stream",
     "text": [
      "166833\n"
     ]
    }
   ],
   "source": [
    "num = 0\n",
    "i = 1\n",
    "while i < 1000:\n",
    "    if i % 3 == 0:\n",
    "        num += i\n",
    "    i +=1\n",
    "    \n",
    "print(num)"
   ]
  },
  {
   "cell_type": "markdown",
   "id": "c0549c20",
   "metadata": {},
   "source": [
    "## Q3. 별 표시하기\n",
    "while문 이용"
   ]
  },
  {
   "cell_type": "code",
   "execution_count": 8,
   "id": "860a723c",
   "metadata": {},
   "outputs": [
    {
     "name": "stdout",
     "output_type": "stream",
     "text": [
      "*\n",
      "**\n",
      "***\n",
      "****\n",
      "*****\n"
     ]
    }
   ],
   "source": [
    "i = 0\n",
    "while True:\n",
    "    i += 1\n",
    "    if i > 5: break\n",
    "    print('*' * i)"
   ]
  },
  {
   "cell_type": "code",
   "execution_count": 10,
   "id": "1bc33918",
   "metadata": {},
   "outputs": [
    {
     "name": "stdout",
     "output_type": "stream",
     "text": [
      "**\n",
      "***\n",
      "****\n",
      "*****\n",
      "******\n"
     ]
    }
   ],
   "source": [
    "i = 1\n",
    "while i<6:\n",
    "    i+= 1\n",
    "    print('*' * i)"
   ]
  },
  {
   "cell_type": "markdown",
   "id": "385997c4",
   "metadata": {},
   "source": [
    "## Q4. 1 부터 100 까지 출력\n",
    "for 문을 사용해 1 부터 100 까지의 숫자를 출력해 보자."
   ]
  },
  {
   "cell_type": "code",
   "execution_count": 16,
   "id": "68e51a27",
   "metadata": {},
   "outputs": [
    {
     "name": "stdout",
     "output_type": "stream",
     "text": [
      "1\n",
      "2\n",
      "3\n",
      "4\n",
      "5\n",
      "6\n",
      "7\n",
      "8\n",
      "9\n",
      "10\n",
      "11\n",
      "12\n",
      "13\n",
      "14\n",
      "15\n",
      "16\n",
      "17\n",
      "18\n",
      "19\n",
      "20\n",
      "21\n",
      "22\n",
      "23\n",
      "24\n",
      "25\n",
      "26\n",
      "27\n",
      "28\n",
      "29\n",
      "30\n",
      "31\n",
      "32\n",
      "33\n",
      "34\n",
      "35\n",
      "36\n",
      "37\n",
      "38\n",
      "39\n",
      "40\n",
      "41\n",
      "42\n",
      "43\n",
      "44\n",
      "45\n",
      "46\n",
      "47\n",
      "48\n",
      "49\n",
      "50\n",
      "51\n",
      "52\n",
      "53\n",
      "54\n",
      "55\n",
      "56\n",
      "57\n",
      "58\n",
      "59\n",
      "60\n",
      "61\n",
      "62\n",
      "63\n",
      "64\n",
      "65\n",
      "66\n",
      "67\n",
      "68\n",
      "69\n",
      "70\n",
      "71\n",
      "72\n",
      "73\n",
      "74\n",
      "75\n",
      "76\n",
      "77\n",
      "78\n",
      "79\n",
      "80\n",
      "81\n",
      "82\n",
      "83\n",
      "84\n",
      "85\n",
      "86\n",
      "87\n",
      "88\n",
      "89\n",
      "90\n",
      "91\n",
      "92\n",
      "93\n",
      "94\n",
      "95\n",
      "96\n",
      "97\n",
      "98\n",
      "99\n",
      "100\n"
     ]
    }
   ],
   "source": [
    "for i in range(1,101):\n",
    "    print(i)"
   ]
  },
  {
   "cell_type": "markdown",
   "id": "2f8a5581",
   "metadata": {},
   "source": [
    "## Q5. 평균점수 구하기\n",
    "A 학급에 총 10 명의 학생이 있다. 이 학생들의 중간고사 점수는 다음과 같다.<br>\n",
    "[70, 60, 55, 75, 95, 90, 80, 80, 85, 100] <br>\n",
    "for 문을 사용하여 A 학급의 평균 점수를 구해 보자.\n"
   ]
  },
  {
   "cell_type": "code",
   "execution_count": 20,
   "id": "513f1d9b",
   "metadata": {},
   "outputs": [
    {
     "name": "stdout",
     "output_type": "stream",
     "text": [
      "79.0\n"
     ]
    }
   ],
   "source": [
    "scores = [70, 60, 55, 75, 95, 90, 80, 80, 85, 100]\n",
    "total = 0\n",
    "\n",
    "for score in scores:\n",
    "    total = total + score\n",
    "\n",
    "avg = total/len(scores)\n",
    "\n",
    "print(avg)\n",
    "            "
   ]
  },
  {
   "cell_type": "markdown",
   "id": "9f5362ff",
   "metadata": {},
   "source": [
    "## Q6. 리스트 컴프리헨션\n",
    "리스트 중에서 홀수에만 2 를 곱하여 저장하는 다음 코드가 있다."
   ]
  },
  {
   "cell_type": "code",
   "execution_count": 14,
   "id": "22b90ba8",
   "metadata": {},
   "outputs": [],
   "source": [
    "numbers = [1, 2, 3, 4, 5]\n",
    "result = []\n",
    "for n in numbers:\n",
    "    if n % 2 == 1:\n",
    "        result.append(n*2)"
   ]
  },
  {
   "cell_type": "markdown",
   "id": "3291ed5a",
   "metadata": {},
   "source": [
    "위 코드를 리스트 컴프리헨션 (list comprehension) 을 사용하여 표현해 보자"
   ]
  },
  {
   "cell_type": "code",
   "execution_count": 21,
   "id": "c7889422",
   "metadata": {},
   "outputs": [
    {
     "name": "stdout",
     "output_type": "stream",
     "text": [
      "[2, 6, 10]\n"
     ]
    }
   ],
   "source": [
    "number = [1,2,3,4,5]\n",
    "result = [n*2 for n in numbers if n%2 == 1]\n",
    "print(result)"
   ]
  },
  {
   "cell_type": "code",
   "execution_count": null,
   "id": "f8ddb0e4",
   "metadata": {},
   "outputs": [],
   "source": []
  }
 ],
 "metadata": {
  "kernelspec": {
   "display_name": "Python 3 (ipykernel)",
   "language": "python",
   "name": "python3"
  },
  "language_info": {
   "codemirror_mode": {
    "name": "ipython",
    "version": 3
   },
   "file_extension": ".py",
   "mimetype": "text/x-python",
   "name": "python",
   "nbconvert_exporter": "python",
   "pygments_lexer": "ipython3",
   "version": "3.9.12"
  }
 },
 "nbformat": 4,
 "nbformat_minor": 5
}
