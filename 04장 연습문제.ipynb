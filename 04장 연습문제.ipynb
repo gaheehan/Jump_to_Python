{
 "cells": [
  {
   "cell_type": "markdown",
   "id": "cded1977",
   "metadata": {},
   "source": [
    "## Q1. 홀수 짝수 판별하기\n",
    "주어진 자연수가 홀수인지 짝수인지 판별해 주는 함수 (is_odd) 를 작성해 보자.\n"
   ]
  },
  {
   "cell_type": "code",
   "execution_count": 1,
   "id": "7eed04d4",
   "metadata": {},
   "outputs": [],
   "source": [
    "def is_odd(number):\n",
    "    if number % 2 == 1:\n",
    "        print(\"홀수입니다.\")\n",
    "    else:\n",
    "        print(\"짝수입니다.\")\n",
    "    "
   ]
  },
  {
   "cell_type": "code",
   "execution_count": 2,
   "id": "1d67c2ec",
   "metadata": {},
   "outputs": [
    {
     "name": "stdout",
     "output_type": "stream",
     "text": [
      "홀수입니다.\n"
     ]
    }
   ],
   "source": [
    "is_odd(3)"
   ]
  },
  {
   "cell_type": "code",
   "execution_count": 3,
   "id": "1866dec2",
   "metadata": {},
   "outputs": [
    {
     "name": "stdout",
     "output_type": "stream",
     "text": [
      "짝수입니다.\n"
     ]
    }
   ],
   "source": [
    "is_odd(10)"
   ]
  },
  {
   "cell_type": "markdown",
   "id": "5c0d70a1",
   "metadata": {},
   "source": [
    "## Q2. 모든 입력의 평균 값 구하기\n",
    "입력으로 들어오는 모든 수의 평균 값을 계산해 주는 함수를 작성해 보자. (단 입력으로 들어오는 수의 개\n",
    "수는 정해져 있지 않다.)\n"
   ]
  },
  {
   "cell_type": "code",
   "execution_count": 4,
   "id": "e02b896c",
   "metadata": {},
   "outputs": [],
   "source": [
    "def avg(*args):\n",
    "    total = 0\n",
    "    for i in args:\n",
    "        total = total + i\n",
    "    return total/(len(args))"
   ]
  },
  {
   "cell_type": "code",
   "execution_count": 5,
   "id": "adf2c891",
   "metadata": {},
   "outputs": [
    {
     "data": {
      "text/plain": [
       "3.0"
      ]
     },
     "execution_count": 5,
     "metadata": {},
     "output_type": "execute_result"
    }
   ],
   "source": [
    "avg(1,2,3,4,5)"
   ]
  },
  {
   "cell_type": "markdown",
   "id": "4da48e7d",
   "metadata": {},
   "source": [
    "## Q3. 프로그램 오류 수정하기 1\n",
    "다음은 두 개의 숫자를 입력받아 더하여 돌려주는 프로그램이다.\n"
   ]
  },
  {
   "cell_type": "code",
   "execution_count": 6,
   "id": "1a807794",
   "metadata": {},
   "outputs": [
    {
     "name": "stdout",
     "output_type": "stream",
     "text": [
      "첫번째 숫자를 입력하세요 3\n",
      "두번째 숫자를 입력하세요 6\n",
      "두 수의 합은 36 입니다.\n"
     ]
    }
   ],
   "source": [
    "input1 = input(\"첫번째 숫자를 입력하세요 \")\n",
    "input2 = input(\"두번째 숫자를 입력하세요 \")\n",
    "\n",
    "total = input1+input2\n",
    "print(\"두 수의 합은 %s 입니다.\" % total)"
   ]
  },
  {
   "cell_type": "markdown",
   "id": "5208920a",
   "metadata": {},
   "source": [
    "3 과 6 을 입력했을 때 9 가 아닌 36 이라는 결괏값을 돌려주었다. 이 프로그램의 오류를 수정해 보자."
   ]
  },
  {
   "cell_type": "code",
   "execution_count": 7,
   "id": "8067c72f",
   "metadata": {},
   "outputs": [
    {
     "name": "stdout",
     "output_type": "stream",
     "text": [
      "첫번째 숫자를 입력하세요 3\n",
      "두번째 숫자를 입력하세요 6\n",
      "두 수의 합은 9 입니다.\n"
     ]
    }
   ],
   "source": [
    "input1 = input(\"첫번째 숫자를 입력하세요 \" )\n",
    "input2 = input(\"두번째 숫자를 입력하세요 \")\n",
    "\n",
    "total = int(input1)+int(input2)\n",
    "print(\"두 수의 합은 %d 입니다.\" % total)"
   ]
  },
  {
   "cell_type": "markdown",
   "id": "05a3c590",
   "metadata": {},
   "source": [
    "## Q4. 출력 결과가 다른것은?\n",
    "다음 중 출력 결과가 다른 것 한 개를 골라 보자.\n",
    "1. print(\"you\"\"need\"\"python\")\n",
    "2. print(\"you\"+\"need\"+\"python\")\n",
    "3. print(\"you\", \"need\", \"python\")\n",
    "4. print(\"\".join([\"you\", \"need\", \"python\"]))\n"
   ]
  },
  {
   "cell_type": "code",
   "execution_count": 8,
   "id": "1ff9652a",
   "metadata": {},
   "outputs": [
    {
     "name": "stdout",
     "output_type": "stream",
     "text": [
      "you need python\n"
     ]
    }
   ],
   "source": [
    "# 정답 3번. 3번만 띄어쓰기 된다.\n",
    "\n",
    "print(\"you\",\"need\",\"python\")"
   ]
  },
  {
   "cell_type": "code",
   "execution_count": 9,
   "id": "6dcef280",
   "metadata": {},
   "outputs": [
    {
     "name": "stdout",
     "output_type": "stream",
     "text": [
      "youneedpython\n"
     ]
    }
   ],
   "source": [
    "print(\"\".join([\"you\",\"need\",\"python\"]))"
   ]
  },
  {
   "cell_type": "markdown",
   "id": "3f8fb894",
   "metadata": {},
   "source": [
    "## Q5. 프로그램 오류 수정하기 2\n",
    "다음은 “test.txt” 라는 파일에 “Life is too short” 문자열을 저장한 후 다시 그 파일을 읽어서 출력하는 프\n",
    "로그램이다"
   ]
  },
  {
   "cell_type": "code",
   "execution_count": 10,
   "id": "a70a0a27",
   "metadata": {},
   "outputs": [
    {
     "name": "stdout",
     "output_type": "stream",
     "text": [
      "\n"
     ]
    }
   ],
   "source": [
    "f1 = open(\"test.txt\", 'w')\n",
    "f1.write(\"Life is too short\")\n",
    "\n",
    "f2 = open(\"test.txt\", 'r')\n",
    "print(f2.read())"
   ]
  },
  {
   "cell_type": "markdown",
   "id": "d43d1808",
   "metadata": {},
   "source": [
    "이 프로그램은 우리가 예상한 “Life is too short” 라는 문장을 출력하지 않는다. 우리가 예상한 값을 출력\n",
    "할 수 있도록 프로그램을 수정해 보자."
   ]
  },
  {
   "cell_type": "code",
   "execution_count": 11,
   "id": "52ca7257",
   "metadata": {},
   "outputs": [
    {
     "name": "stdout",
     "output_type": "stream",
     "text": [
      "Life is too short\n"
     ]
    }
   ],
   "source": [
    "f1 = open(\"test.txt\", 'w')\n",
    "f1.write(\"Life is too short\")\n",
    "f1.close()\n",
    "\n",
    "f2 = open(\"test.txt\", 'r')\n",
    "line = f2.readline()\n",
    "print(line)\n",
    "f2.close()"
   ]
  },
  {
   "cell_type": "code",
   "execution_count": 12,
   "id": "6c1ca491",
   "metadata": {},
   "outputs": [
    {
     "name": "stdout",
     "output_type": "stream",
     "text": [
      "Life is too short\n"
     ]
    }
   ],
   "source": [
    "f1 = open(\"test.txt\", 'w')\n",
    "f1.write(\"Life is too short\")\n",
    "f1.close()\n",
    "\n",
    "f2 = open(\"test.txt\", 'r')\n",
    "print(f2.read())\n",
    "f2.close()"
   ]
  },
  {
   "cell_type": "code",
   "execution_count": 13,
   "id": "8a44a8e3",
   "metadata": {},
   "outputs": [
    {
     "name": "stdout",
     "output_type": "stream",
     "text": [
      "Life is too short\n"
     ]
    }
   ],
   "source": [
    "# with 구문\n",
    "\n",
    "with open(\"test.txt\",\"w\") as f1:\n",
    "    f1.write(\"Life is too short\")\n",
    "with open('test.txt','r') as f2:\n",
    "    print(f2.read())\n"
   ]
  },
  {
   "cell_type": "markdown",
   "id": "b11ac7ed",
   "metadata": {},
   "source": [
    "## Q6. 사용자 입력 저장하기\n",
    "사용자의 입력을 파일 (test.txt) 에 저장하는 프로그램을 작성해 보자. (단 프로그램을 다시 실행하더라도\n",
    "기존에 작성한 내용을 유지하고 새로 입력한 내용을 추가해야 한다.)\n"
   ]
  },
  {
   "cell_type": "code",
   "execution_count": 14,
   "id": "30521690",
   "metadata": {},
   "outputs": [
    {
     "name": "stdout",
     "output_type": "stream",
     "text": [
      "저장할 내용을 입력하세요: 인생은 짧아\n"
     ]
    }
   ],
   "source": [
    "user_input = input(\"저장할 내용을 입력하세요: \")\n",
    "f = open(\"test.txt\",'a')\n",
    "f.write(user_input)\n",
    "f.write(\"\\n\")\n",
    "f.close()"
   ]
  },
  {
   "cell_type": "code",
   "execution_count": 18,
   "id": "ad50a558",
   "metadata": {},
   "outputs": [
    {
     "name": "stdout",
     "output_type": "stream",
     "text": [
      "Life is too short인생은 짧아\n",
      "\n"
     ]
    }
   ],
   "source": [
    "with open('test.txt','r') as f:\n",
    "    print(f.read())"
   ]
  },
  {
   "cell_type": "markdown",
   "id": "c512c4b9",
   "metadata": {},
   "source": [
    "## Q7. 파일의 문자열 바꾸기\n",
    "다음과 같은 내용을 지닌 파일 test.txt 가 있다. 이 파일의 내용 중 “java” 라는 문자열을 “python” 으로 바꾸어서 저장해 보자."
   ]
  },
  {
   "cell_type": "code",
   "execution_count": 23,
   "id": "c7d6527a",
   "metadata": {},
   "outputs": [],
   "source": [
    "f = open('test.txt', 'w')\n",
    "f.write(\"Life is too short \\n you need java\")\n",
    "f.close()"
   ]
  },
  {
   "cell_type": "code",
   "execution_count": 27,
   "id": "fea8491a",
   "metadata": {},
   "outputs": [],
   "source": [
    "f = open('test.txt', 'r')\n",
    "a = f.read()\n",
    "f.close()\n",
    "\n",
    "a = a.replace('java','python')\n",
    "\n",
    "f = open('test.txt','w')\n",
    "f.write(a)\n",
    "f.close()"
   ]
  },
  {
   "cell_type": "code",
   "execution_count": 28,
   "id": "4dd49045",
   "metadata": {},
   "outputs": [
    {
     "name": "stdout",
     "output_type": "stream",
     "text": [
      "Life is too short \n",
      " you need python\n"
     ]
    }
   ],
   "source": [
    "with open('test.txt','r') as f:\n",
    "    print(f.read())"
   ]
  },
  {
   "cell_type": "markdown",
   "id": "f012e73d",
   "metadata": {},
   "source": [
    "## Q8. 입력값을 모두 더하여 출력하기\n",
    "다음과 같이 실행할 때 입력값을 모두 더하여 출력하는 스크립트 (C:\\doit\\myargv.py) 를 작성해 보자."
   ]
  },
  {
   "cell_type": "code",
   "execution_count": 33,
   "id": "47917094",
   "metadata": {},
   "outputs": [
    {
     "ename": "ValueError",
     "evalue": "invalid literal for int() with base 10: '-f'",
     "output_type": "error",
     "traceback": [
      "\u001b[1;31m---------------------------------------------------------------------------\u001b[0m",
      "\u001b[1;31mValueError\u001b[0m                                Traceback (most recent call last)",
      "Input \u001b[1;32mIn [33]\u001b[0m, in \u001b[0;36m<cell line: 7>\u001b[1;34m()\u001b[0m\n\u001b[0;32m      5\u001b[0m result \u001b[38;5;241m=\u001b[39m \u001b[38;5;241m0\u001b[39m\n\u001b[0;32m      7\u001b[0m \u001b[38;5;28;01mfor\u001b[39;00m number \u001b[38;5;129;01min\u001b[39;00m numbers:\n\u001b[1;32m----> 8\u001b[0m     result \u001b[38;5;241m=\u001b[39m result \u001b[38;5;241m+\u001b[39m \u001b[38;5;28;43mint\u001b[39;49m\u001b[43m(\u001b[49m\u001b[43mnumber\u001b[49m\u001b[43m)\u001b[49m\n\u001b[0;32m     10\u001b[0m \u001b[38;5;28mprint\u001b[39m(result)\n",
      "\u001b[1;31mValueError\u001b[0m: invalid literal for int() with base 10: '-f'"
     ]
    }
   ],
   "source": [
    "import sys\n",
    "\n",
    "numbers = sys.argv[1:]\n",
    "\n",
    "result = 0\n",
    "\n",
    "for number in numbers:\n",
    "    result = result + int(number)\n",
    "\n",
    "print(result)\n",
    "\n",
    "# 주피터노트북에선 안되는데 python IDLE에선 됨"
   ]
  },
  {
   "attachments": {
    "image.png": {
     "image/png": "[encoded data removed]"
    }
   },
   "cell_type": "markdown",
   "id": "99acfcde",
   "metadata": {},
   "source": [
    "![image.png](attachment:image.png)"
   ]
  }
 ],
 "metadata": {
  "kernelspec": {
   "display_name": "Python 3 (ipykernel)",
   "language": "python",
   "name": "python3"
  },
  "language_info": {
   "codemirror_mode": {
    "name": "ipython",
    "version": 3
   },
   "file_extension": ".py",
   "mimetype": "text/x-python",
   "name": "python",
   "nbconvert_exporter": "python",
   "pygments_lexer": "ipython3",
   "version": "3.9.12"
  }
 },
 "nbformat": 4,
 "nbformat_minor": 5
}
