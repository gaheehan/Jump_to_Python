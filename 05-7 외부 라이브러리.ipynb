{
 "cells": [
  {
   "cell_type": "markdown",
   "id": "d55902fc",
   "metadata": {},
   "source": [
    "## pip\n",
    "\n",
    "pip 파이썬 모듈이나 패키지를 쉽게 설치할 수 있도록 도와주는 도구"
   ]
  },
  {
   "cell_type": "markdown",
   "id": "8d3403b9",
   "metadata": {},
   "source": [
    "### pip install\n",
    "\n",
    "PyPI(Python Package Index)는 파이썬 소프트웨어가 모인 공간이다. 이곳에서 직접 내려받아 설치해도 되지만 pip을 이용하면 다음과 같이 간편하게 설치할 수 있다.\n",
    "\n",
    "pip install SomePackage"
   ]
  },
  {
   "cell_type": "markdown",
   "id": "86ca394f",
   "metadata": {},
   "source": [
    "### pip uninstall\n",
    "\n",
    "설치한 패키지 삭제"
   ]
  },
  {
   "cell_type": "markdown",
   "id": "128e03a0",
   "metadata": {},
   "source": [
    "### 특정 버전으로 설치하기\n",
    "\n",
    "pip install SomePackage == 1.0.4\n",
    "\n",
    "버전 생략시 최신 버전 설치"
   ]
  },
  {
   "cell_type": "markdown",
   "id": "bb877121",
   "metadata": {},
   "source": [
    "### 최신 버전으로 업그레이드 하기 \n",
    "\n",
    "pip install --upgrade SomePackage"
   ]
  },
  {
   "cell_type": "markdown",
   "id": "6dcf48ce",
   "metadata": {},
   "source": [
    "### 설치된 패키지 확인하기\n",
    "\n",
    "pip list"
   ]
  },
  {
   "cell_type": "markdown",
   "id": "0ff38597",
   "metadata": {},
   "source": [
    "## Faker\n",
    "\n",
    "faker는 테스트용 가짜 데이터를 생성할 때 사용하는 라이브러리이다."
   ]
  },
  {
   "cell_type": "code",
   "execution_count": 1,
   "id": "82379afb",
   "metadata": {},
   "outputs": [
    {
     "name": "stdout",
     "output_type": "stream",
     "text": [
      "Requirement already satisfied: Faker in c:\\users\\hanjo\\appdata\\local\\programs\\python\\python311\\lib\\site-packages (17.5.0)\n",
      "Requirement already satisfied: python-dateutil>=2.4 in c:\\users\\hanjo\\appdata\\local\\programs\\python\\python311\\lib\\site-packages (from Faker) (2.8.2)\n",
      "Requirement already satisfied: six>=1.5 in c:\\users\\hanjo\\appdata\\local\\programs\\python\\python311\\lib\\site-packages (from python-dateutil>=2.4->Faker) (1.16.0)\n"
     ]
    }
   ],
   "source": [
    "!pip install Faker"
   ]
  },
  {
   "cell_type": "markdown",
   "id": "9c8d5a94",
   "metadata": {},
   "source": [
    "### Faker 사용해 보기\n",
    "\n",
    "[(이름1),(주소1)], ..... ,[(이름30),(주소30)] \n",
    "직접 데이터 작성말고 좀 더 편리한 방법으로 테스트 데이터 생성"
   ]
  },
  {
   "cell_type": "code",
   "execution_count": 2,
   "id": "d61e9630",
   "metadata": {},
   "outputs": [
    {
     "data": {
      "text/plain": [
       "'Heather Thompson'"
      ]
     },
     "execution_count": 2,
     "metadata": {},
     "output_type": "execute_result"
    }
   ],
   "source": [
    "from faker import Faker\n",
    "fake = Faker()\n",
    "fake.name()"
   ]
  },
  {
   "cell_type": "code",
   "execution_count": 4,
   "id": "1b0c6ba5",
   "metadata": {},
   "outputs": [
    {
     "data": {
      "text/plain": [
       "'진예진'"
      ]
     },
     "execution_count": 4,
     "metadata": {},
     "output_type": "execute_result"
    }
   ],
   "source": [
    "fake = Faker('ko-KR')\n",
    "fake.name()"
   ]
  },
  {
   "cell_type": "code",
   "execution_count": 5,
   "id": "01df6654",
   "metadata": {},
   "outputs": [
    {
     "data": {
      "text/plain": [
       "'울산광역시 금천구 개포619가'"
      ]
     },
     "execution_count": 5,
     "metadata": {},
     "output_type": "execute_result"
    }
   ],
   "source": [
    "fake.address()"
   ]
  },
  {
   "cell_type": "code",
   "execution_count": 6,
   "id": "fd0537cf",
   "metadata": {},
   "outputs": [],
   "source": [
    "test_data = [(fake.name(), fake.address()) for i in range(30)]"
   ]
  },
  {
   "cell_type": "code",
   "execution_count": 7,
   "id": "67de644e",
   "metadata": {},
   "outputs": [
    {
     "data": {
      "text/plain": [
       "[('김예준', '서울특별시 남구 역삼가'),\n",
       " ('박재호', '인천광역시 강북구 서초중앙로 (진호안면)'),\n",
       " ('송민지', '충청남도 공주시 백제고분73길 (은주박김읍)'),\n",
       " ('고명숙', '광주광역시 강서구 강남대거리 (지영김마을)'),\n",
       " ('김영철', '충청남도 용인시 수지구 학동가'),\n",
       " ('이시우', '전라북도 춘천시 삼성03가'),\n",
       " ('김순옥', '경상남도 진천군 서초대057가'),\n",
       " ('박수빈', '제주특별자치도 평택시 압구정가'),\n",
       " ('박영미', '부산광역시 서대문구 석촌호수가 (미영김리)'),\n",
       " ('정지원', '인천광역시 용산구 백제고분가 (재현정면)'),\n",
       " ('김하은', '서울특별시 동구 양재천로'),\n",
       " ('김준서', '제주특별자치도 성남시 중원구 오금18길'),\n",
       " ('이도윤', '충청북도 당진시 개포가 (현주구장동)'),\n",
       " ('고정훈', '경상북도 옥천군 봉은사가 (성민진리)'),\n",
       " ('이현주', '인천광역시 남구 도산대길 (미영서박읍)'),\n",
       " ('강영길', '부산광역시 광진구 서초대거리'),\n",
       " ('김중수', '제주특별자치도 부여군 삼성로 (영미권리)'),\n",
       " ('김미경', '서울특별시 구로구 개포8가 (하은심면)'),\n",
       " ('김현숙', '대전광역시 성동구 강남대가'),\n",
       " ('박상훈', '충청북도 보은군 백제고분로 (선영이동)'),\n",
       " ('유은서', '대구광역시 마포구 양재천거리'),\n",
       " ('최하은', '제주특별자치도 보령시 도산대거리 (수빈이마을)'),\n",
       " ('한정수', '세종특별자치시 강동구 삼성가'),\n",
       " ('김영순', '경기도 시흥시 학동가'),\n",
       " ('최준혁', '세종특별자치시 북구 선릉98길'),\n",
       " ('김예준', '경상남도 광주시 언주10길'),\n",
       " ('김미영', '전라북도 충주시 개포길'),\n",
       " ('이수민', '광주광역시 동작구 도산대길'),\n",
       " ('최미숙', '경상남도 수원시 권선구 도산대거리'),\n",
       " ('이순옥', '강원도 수원시 영통구 압구정894길 (성민홍읍)')]"
      ]
     },
     "execution_count": 7,
     "metadata": {},
     "output_type": "execute_result"
    }
   ],
   "source": [
    "test_data"
   ]
  },
  {
   "cell_type": "markdown",
   "id": "8b7b4348",
   "metadata": {},
   "source": [
    "#### Faker 활용\n",
    "\n",
    "|항목              |              설명                       |\n",
    "|------------------|-------------------------------------------|\n",
    "|fake.name()| 이름 |\n",
    "|fake.address() | 주소  |\n",
    "|fake.postcode() |  우편번호  |\n",
    "|fake.country()   |  국가명   |\n",
    "|fake.company()   | 회사명 |\n",
    "|fake.job()       | 직업명 |\n",
    "|fake.phone_number()|   휴대 전화 번호   |\n",
    "|fake.email()    |   이메일 주소 |\n",
    "|fake.user_name()  |    사용자명  |\n",
    "|fake.pyint(min_value=0,max_value=100| 0부터100까지 임의의 숫자|\n",
    "|fake.ipv4_private() | IP주소  |\n",
    "|fake.text()   | 임의의 문장(한글 임의의 문장은 fake.catch_phrase()사용|\n",
    "|fake.color_name() | 색상명|"
   ]
  },
  {
   "cell_type": "markdown",
   "id": "22009775",
   "metadata": {},
   "source": [
    "## sympy\n",
    "\n",
    "sympy는 방정식 기호(symbol)를 사용하게 해주는 외부 라이브러리이다."
   ]
  },
  {
   "cell_type": "code",
   "execution_count": 8,
   "id": "68748ea4",
   "metadata": {},
   "outputs": [
    {
     "name": "stdout",
     "output_type": "stream",
     "text": [
      "Collecting sympy\n",
      "  Downloading sympy-1.11.1-py3-none-any.whl (6.5 MB)\n",
      "     ---------------------------------------- 0.0/6.5 MB ? eta -:--:--\n",
      "     ---------------------------------------- 0.0/6.5 MB ? eta -:--:--\n",
      "     - -------------------------------------- 0.2/6.5 MB 1.8 MB/s eta 0:00:04\n",
      "     -- ------------------------------------- 0.4/6.5 MB 2.9 MB/s eta 0:00:03\n",
      "     --- ------------------------------------ 0.5/6.5 MB 2.6 MB/s eta 0:00:03\n",
      "     ---- ----------------------------------- 0.8/6.5 MB 3.3 MB/s eta 0:00:02\n",
      "     ------ --------------------------------- 1.0/6.5 MB 3.5 MB/s eta 0:00:02\n",
      "     ------- -------------------------------- 1.3/6.5 MB 4.1 MB/s eta 0:00:02\n",
      "     --------- ------------------------------ 1.5/6.5 MB 4.2 MB/s eta 0:00:02\n",
      "     ---------- ----------------------------- 1.6/6.5 MB 3.9 MB/s eta 0:00:02\n",
      "     ----------- ---------------------------- 1.8/6.5 MB 4.0 MB/s eta 0:00:02\n",
      "     ------------ --------------------------- 2.0/6.5 MB 4.0 MB/s eta 0:00:02\n",
      "     -------------- ------------------------- 2.3/6.5 MB 4.2 MB/s eta 0:00:01\n",
      "     --------------- ------------------------ 2.5/6.5 MB 4.2 MB/s eta 0:00:01\n",
      "     ----------------- ---------------------- 2.9/6.5 MB 4.5 MB/s eta 0:00:01\n",
      "     ------------------- -------------------- 3.2/6.5 MB 4.6 MB/s eta 0:00:01\n",
      "     --------------------- ------------------ 3.4/6.5 MB 4.8 MB/s eta 0:00:01\n",
      "     ---------------------- ----------------- 3.6/6.5 MB 4.7 MB/s eta 0:00:01\n",
      "     ------------------------ --------------- 4.0/6.5 MB 4.8 MB/s eta 0:00:01\n",
      "     ------------------------- -------------- 4.1/6.5 MB 4.8 MB/s eta 0:00:01\n",
      "     -------------------------- ------------- 4.3/6.5 MB 4.8 MB/s eta 0:00:01\n",
      "     --------------------------- ------------ 4.4/6.5 MB 4.6 MB/s eta 0:00:01\n",
      "     ---------------------------- ----------- 4.6/6.5 MB 4.6 MB/s eta 0:00:01\n",
      "     ------------------------------ --------- 5.0/6.5 MB 4.7 MB/s eta 0:00:01\n",
      "     -------------------------------- ------- 5.2/6.5 MB 4.7 MB/s eta 0:00:01\n",
      "     --------------------------------- ------ 5.4/6.5 MB 4.7 MB/s eta 0:00:01\n",
      "     ----------------------------------- ---- 5.8/6.5 MB 4.8 MB/s eta 0:00:01\n",
      "     ------------------------------------- -- 6.0/6.5 MB 4.9 MB/s eta 0:00:01\n",
      "     -------------------------------------- - 6.2/6.5 MB 4.8 MB/s eta 0:00:01\n",
      "     ---------------------------------------  6.5/6.5 MB 4.9 MB/s eta 0:00:01\n",
      "     ---------------------------------------- 6.5/6.5 MB 4.8 MB/s eta 0:00:00\n",
      "Collecting mpmath>=0.19\n",
      "  Downloading mpmath-1.2.1-py3-none-any.whl (532 kB)\n",
      "     ---------------------------------------- 0.0/532.6 kB ? eta -:--:--\n",
      "     ---------- --------------------------- 143.4/532.6 kB 8.9 MB/s eta 0:00:01\n",
      "     ----------------------------- -------- 409.6/532.6 kB 5.1 MB/s eta 0:00:01\n",
      "     -------------------------------------- 532.6/532.6 kB 4.8 MB/s eta 0:00:00\n",
      "Installing collected packages: mpmath, sympy\n",
      "Successfully installed mpmath-1.2.1 sympy-1.11.1\n"
     ]
    }
   ],
   "source": [
    "!pip install sympy"
   ]
  },
  {
   "cell_type": "markdown",
   "id": "7cb08c87",
   "metadata": {},
   "source": [
    "#### sympy 사용해보기\n",
    "\n",
    " 태섭이는 가진 돈의 2/5로 학용품을 샀다고 한다. 이때 학용품을 사는 데 쓴 돈이 1,760원이라면 남은 돈은 어떻게 구하면 될까?"
   ]
  },
  {
   "cell_type": "code",
   "execution_count": 9,
   "id": "073c8c09",
   "metadata": {},
   "outputs": [],
   "source": [
    "from fractions import Fraction\n",
    "import sympy"
   ]
  },
  {
   "cell_type": "code",
   "execution_count": 10,
   "id": "dc67975d",
   "metadata": {},
   "outputs": [],
   "source": [
    "# 태섭이가 가진 돈을 x라고 하쟝\n",
    "\n",
    "x = sympy.symbols(\"x\")"
   ]
  },
  {
   "cell_type": "markdown",
   "id": "7088f1bc",
   "metadata": {},
   "source": [
    "#### 여러개의 기호 사용하기\n",
    "\n",
    "x,y 두 개의 미지수가 필요할 때\n",
    "x,y = sympy.symbols('x y') 로 표현"
   ]
  },
  {
   "cell_type": "code",
   "execution_count": 11,
   "id": "a662cd5d",
   "metadata": {},
   "outputs": [],
   "source": [
    "f = sympy.Eq(x*Fraction('2/5'), 1760)"
   ]
  },
  {
   "cell_type": "markdown",
   "id": "efef7f5b",
   "metadata": {},
   "source": [
    "sympy.Eq(a,b)는 a와b가 같다는 방정식이다. 여기서 사용한 Fraction은 유리수를 표현할 때 사용하는 파이썬 클래스로,2/5를 정확하게 계산하고자 사용했다."
   ]
  },
  {
   "cell_type": "code",
   "execution_count": 13,
   "id": "06b6c3b0",
   "metadata": {},
   "outputs": [
    {
     "name": "stdout",
     "output_type": "stream",
     "text": [
      "[4400]\n"
     ]
    }
   ],
   "source": [
    "result = sympy.solve(f)\n",
    "print(result)\n",
    "\n",
    "# 태섭이가 원래 가지고 있었던 돈"
   ]
  },
  {
   "cell_type": "code",
   "execution_count": 14,
   "id": "63413870",
   "metadata": {},
   "outputs": [
    {
     "name": "stdout",
     "output_type": "stream",
     "text": [
      "2640\n"
     ]
    }
   ],
   "source": [
    "remains = result[0] - 1760\n",
    "print(remains)"
   ]
  },
  {
   "cell_type": "code",
   "execution_count": 16,
   "id": "ef6cdcb2",
   "metadata": {},
   "outputs": [
    {
     "name": "stdout",
     "output_type": "stream",
     "text": [
      "남은 돈은 2640원 입니다.\n"
     ]
    }
   ],
   "source": [
    "from fractions import Fraction\n",
    "import sympy\n",
    "\n",
    "# 가지고 있던 돈을 x라고 하자.\n",
    "x = sympy.symbols('x')\n",
    "\n",
    "# 가지고 있던 돈의 2/5가 1760원 이므로 방정식은 x * (2/5) = 1760 이다.\n",
    "f = sympy.Eq(x*Fraction('2/5'), 1760)\n",
    "\n",
    "# 방정식을 만족하는 값(result)을 구한다.\n",
    "result = sympy.solve(f)  # 결괏값은 리스트\n",
    "\n",
    "# 남은 돈은 다음과 같이 가지고 있던 돈에서 1760원을 빼면 된다.\n",
    "remains = result[0] - 1760\n",
    "\n",
    "print(\"남은 돈은 {}원 입니다.\".format(remains))\n",
    "\n"
   ]
  },
  {
   "cell_type": "markdown",
   "id": "c16a7d9e",
   "metadata": {},
   "source": [
    "#### fractions.Fraction\n",
    "\n",
    "파이썬에서 유리수 연산을 정확하게 할 때 사용"
   ]
  },
  {
   "cell_type": "code",
   "execution_count": 17,
   "id": "79cb7f61",
   "metadata": {},
   "outputs": [],
   "source": [
    "from fractions import Fraction\n",
    "\n",
    "a = Fraction(1,5)"
   ]
  },
  {
   "cell_type": "code",
   "execution_count": 18,
   "id": "3052a2b1",
   "metadata": {},
   "outputs": [
    {
     "name": "stdout",
     "output_type": "stream",
     "text": [
      "1/5\n"
     ]
    }
   ],
   "source": [
    "print(a)"
   ]
  },
  {
   "cell_type": "code",
   "execution_count": 21,
   "id": "7d1d6da5",
   "metadata": {},
   "outputs": [],
   "source": [
    "b = Fraction('1/5')"
   ]
  },
  {
   "cell_type": "code",
   "execution_count": 22,
   "id": "133b71d4",
   "metadata": {},
   "outputs": [
    {
     "data": {
      "text/plain": [
       "Fraction(1, 5)"
      ]
     },
     "execution_count": 22,
     "metadata": {},
     "output_type": "execute_result"
    }
   ],
   "source": [
    "b"
   ]
  },
  {
   "cell_type": "markdown",
   "id": "76e20fff",
   "metadata": {},
   "source": [
    "#### sympy 활용\n",
    "\n",
    "x^2=1 과 같은 이차방정식의 해를 구해보자."
   ]
  },
  {
   "cell_type": "code",
   "execution_count": 24,
   "id": "a3c655f0",
   "metadata": {},
   "outputs": [
    {
     "data": {
      "text/plain": [
       "[-1, 1]"
      ]
     },
     "execution_count": 24,
     "metadata": {},
     "output_type": "execute_result"
    }
   ],
   "source": [
    "import sympy\n",
    "x = sympy.symbols(\"x\")\n",
    "f = sympy.Eq(x**2,1)\n",
    "sympy.solve(f)"
   ]
  },
  {
   "cell_type": "markdown",
   "id": "7bef837a",
   "metadata": {},
   "source": [
    "x + y = 10\n",
    "x - y = 4  인 연립방정식의 해도 구할 수 있다."
   ]
  },
  {
   "cell_type": "code",
   "execution_count": 25,
   "id": "67c289c4",
   "metadata": {
    "scrolled": true
   },
   "outputs": [
    {
     "data": {
      "text/plain": [
       "{x: 7, y: 3}"
      ]
     },
     "execution_count": 25,
     "metadata": {},
     "output_type": "execute_result"
    }
   ],
   "source": [
    "import sympy\n",
    "x,y = sympy.symbols(\"x y\")\n",
    "f1 = sympy.Eq(x+y, 10)\n",
    "f2 = sympy.Eq(x-y, 4)\n",
    "sympy.solve([f1,f2]) # 미지수가 2개 이상이면 결괏값은 딕셔너리"
   ]
  }
 ],
 "metadata": {
  "kernelspec": {
   "display_name": "Python 3 (ipykernel)",
   "language": "python",
   "name": "python3"
  },
  "language_info": {
   "codemirror_mode": {
    "name": "ipython",
    "version": 3
   },
   "file_extension": ".py",
   "mimetype": "text/x-python",
   "name": "python",
   "nbconvert_exporter": "python",
   "pygments_lexer": "ipython3",
   "version": "3.11.1"
  }
 },
 "nbformat": 4,
 "nbformat_minor": 5
}
