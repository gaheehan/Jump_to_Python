{
 "cells": [
  {
   "cell_type": "markdown",
   "id": "1605fa8d",
   "metadata": {},
   "source": [
    "## Q1. 평균 점수 구하기\n",
    "\n",
    "홍길동 씨의 과목 별 점수는 {국어:80, 영어:75, 수학:55} 이다.\n",
    "평균 점수는???"
   ]
  },
  {
   "cell_type": "code",
   "execution_count": 5,
   "id": "7098c4dc",
   "metadata": {},
   "outputs": [
    {
     "data": {
      "text/plain": [
       "70.0"
      ]
     },
     "execution_count": 5,
     "metadata": {},
     "output_type": "execute_result"
    }
   ],
   "source": [
    "a = 80\n",
    "b = 75\n",
    "c = 55\n",
    "(a+b+c)/3"
   ]
  },
  {
   "cell_type": "markdown",
   "id": "9966ff8a",
   "metadata": {},
   "source": [
    "## Q2. 홀수 짝수 판별\n",
    "자연수 13이 홀수인지 짝수인지 판별"
   ]
  },
  {
   "cell_type": "code",
   "execution_count": 7,
   "id": "48588bce",
   "metadata": {},
   "outputs": [
    {
     "data": {
      "text/plain": [
       "1"
      ]
     },
     "execution_count": 7,
     "metadata": {},
     "output_type": "execute_result"
    }
   ],
   "source": [
    "13 % 2 # 2로 나눴을 때 나머지 1 이므로 홀수~"
   ]
  },
  {
   "cell_type": "markdown",
   "id": "5951e232",
   "metadata": {},
   "source": [
    "## Q3. 주민등록번호 나누기\n",
    "홍길동씨의 주민등록번호는 881120-1068234이다.\n",
    "홍길동씨의 주민등록번호를 연월일(YYYYMMDD)부분과 그 뒤의 숫자 부분으로 나누어 출력해보자."
   ]
  },
  {
   "cell_type": "code",
   "execution_count": 15,
   "id": "d8c42246",
   "metadata": {},
   "outputs": [],
   "source": [
    "pin = \"881120-1068234\""
   ]
  },
  {
   "cell_type": "code",
   "execution_count": 16,
   "id": "c27e1b90",
   "metadata": {},
   "outputs": [
    {
     "name": "stdout",
     "output_type": "stream",
     "text": [
      "881120\n",
      "1068234\n"
     ]
    }
   ],
   "source": [
    "yyyymmdd = pin[:6]\n",
    "num = pin[7:]\n",
    "print(yyyymmdd)\n",
    "print(num)"
   ]
  },
  {
   "cell_type": "markdown",
   "id": "fa628aa4",
   "metadata": {},
   "source": [
    "## Q4. 주민등록번호 인덱싱\n",
    "주민등록번호 뒷자리의 맨 첫 번째 숫자는 성별을 나타낸다. 주민등록번호에서 성별을 나타내는 숫자를 출력해보자."
   ]
  },
  {
   "cell_type": "code",
   "execution_count": 17,
   "id": "676f51ea",
   "metadata": {},
   "outputs": [
    {
     "name": "stdout",
     "output_type": "stream",
     "text": [
      "1\n"
     ]
    }
   ],
   "source": [
    "pin = \"881120-1068234\"\n",
    "print(pin[7])"
   ]
  },
  {
   "cell_type": "markdown",
   "id": "e08af5c6",
   "metadata": {},
   "source": [
    "## Q5. 문자열 바꾸기\n",
    "다음과 같은 문자열 a:b:c:d 가 있다. 문자열의 replace 함수를 사용하여 a#b#c#d 로 바꿔서 출력해 보\n",
    "자"
   ]
  },
  {
   "cell_type": "code",
   "execution_count": 20,
   "id": "77b79ce4",
   "metadata": {},
   "outputs": [],
   "source": [
    "a = \"a:b:c:d\""
   ]
  },
  {
   "cell_type": "code",
   "execution_count": 21,
   "id": "ba09e60e",
   "metadata": {},
   "outputs": [
    {
     "data": {
      "text/plain": [
       "'a#b#c#d'"
      ]
     },
     "execution_count": 21,
     "metadata": {},
     "output_type": "execute_result"
    }
   ],
   "source": [
    "a.replace(\":\",\"#\")"
   ]
  },
  {
   "cell_type": "markdown",
   "id": "69797358",
   "metadata": {},
   "source": [
    "## Q6. 리스트 역순 정렬하기\n",
    "[1, 3, 5, 4, 2] 리스트를 [5, 4, 3, 2, 1] 로 만들어 보자."
   ]
  },
  {
   "cell_type": "code",
   "execution_count": 42,
   "id": "6145c61c",
   "metadata": {},
   "outputs": [
    {
     "name": "stdout",
     "output_type": "stream",
     "text": [
      "[5, 4, 3, 2, 1]\n"
     ]
    }
   ],
   "source": [
    "a = [1,3,5,4,2]\n",
    "a.sort()\n",
    "a.reverse()\n",
    "print(a)"
   ]
  },
  {
   "cell_type": "markdown",
   "id": "4f72038d",
   "metadata": {},
   "source": [
    "## Q7. 리스트를 문자열로 만들기\n",
    "[‘Life’, ‘is’, ‘too’, ‘short’] 리스트를 Life is too short 문자열로 만들어 출력해 보자"
   ]
  },
  {
   "cell_type": "code",
   "execution_count": 49,
   "id": "3159243e",
   "metadata": {},
   "outputs": [
    {
     "data": {
      "text/plain": [
       "'Life is too short'"
      ]
     },
     "execution_count": 49,
     "metadata": {},
     "output_type": "execute_result"
    }
   ],
   "source": [
    "' '.join(['Life','is','too','short'])\n"
   ]
  },
  {
   "cell_type": "markdown",
   "id": "7e939fe8",
   "metadata": {},
   "source": [
    "## Q8. 튜플 더하기\n",
    "(1,2,3) 튜플에 값 4 를 추가하여 (1,2,3,4) 를 만들어 출력해 보자.\n"
   ]
  },
  {
   "cell_type": "code",
   "execution_count": 57,
   "id": "3dcca1e9",
   "metadata": {},
   "outputs": [
    {
     "name": "stdout",
     "output_type": "stream",
     "text": [
      "(1, 2, 3, 4)\n"
     ]
    }
   ],
   "source": [
    "t1 = (1,2,3)\n",
    "t2 = (4,) #(,) 반드시! 붙일 것!\n",
    "t3 = t1+t2\n",
    "print(t3)"
   ]
  },
  {
   "cell_type": "markdown",
   "id": "bb43b214",
   "metadata": {},
   "source": [
    "## Q9. 딕셔너리의 키\n",
    "다음과 같은 딕셔너리 a 가 있다."
   ]
  },
  {
   "cell_type": "code",
   "execution_count": 58,
   "id": "429157d0",
   "metadata": {},
   "outputs": [
    {
     "data": {
      "text/plain": [
       "{}"
      ]
     },
     "execution_count": 58,
     "metadata": {},
     "output_type": "execute_result"
    }
   ],
   "source": [
    "a = dict()\n",
    "a"
   ]
  },
  {
   "cell_type": "markdown",
   "id": "ae0f7df4",
   "metadata": {},
   "source": [
    "다음 중 오류가 발생하는 경우를 고르고, 그 이유를 설명해 보자.\n",
    "1. a['name'] = 'python'\n",
    "2. a[('a',)] = 'python'\n",
    "3. a[[1]] = 'python'\n",
    "4. a[250] = 'python'\n"
   ]
  },
  {
   "cell_type": "code",
   "execution_count": 59,
   "id": "42462a37",
   "metadata": {},
   "outputs": [
    {
     "ename": "TypeError",
     "evalue": "unhashable type: 'list'",
     "output_type": "error",
     "traceback": [
      "\u001b[1;31m---------------------------------------------------------------------------\u001b[0m",
      "\u001b[1;31mTypeError\u001b[0m                                 Traceback (most recent call last)",
      "Input \u001b[1;32mIn [59]\u001b[0m, in \u001b[0;36m<cell line: 1>\u001b[1;34m()\u001b[0m\n\u001b[1;32m----> 1\u001b[0m a[[\u001b[38;5;241m1\u001b[39m]] \u001b[38;5;241m=\u001b[39m \u001b[38;5;124m'\u001b[39m\u001b[38;5;124mpython\u001b[39m\u001b[38;5;124m'\u001b[39m\n",
      "\u001b[1;31mTypeError\u001b[0m: unhashable type: 'list'"
     ]
    }
   ],
   "source": [
    "a[[1]] = 'python' "
   ]
  },
  {
   "cell_type": "markdown",
   "id": "bd4b66d4",
   "metadata": {},
   "source": [
    "list값은 변하는 값(mutable)이므로 Key로 쓸 수 없다."
   ]
  },
  {
   "cell_type": "markdown",
   "id": "62287eaa",
   "metadata": {},
   "source": [
    "## Q10. 딕셔너리 POP\n",
    "딕셔너리 a 에서’B’ 에 해당되는 값을 추출해 보자"
   ]
  },
  {
   "cell_type": "code",
   "execution_count": 60,
   "id": "691d547d",
   "metadata": {},
   "outputs": [
    {
     "data": {
      "text/plain": [
       "80"
      ]
     },
     "execution_count": 60,
     "metadata": {},
     "output_type": "execute_result"
    }
   ],
   "source": [
    "a = {'A':90, 'B':80, 'C':70}\n",
    "a.pop('B')"
   ]
  },
  {
   "cell_type": "markdown",
   "id": "d4b3a9aa",
   "metadata": {},
   "source": [
    "## Q11. 리스트에서 중복 제거하기\n",
    "a 리스트에서 중복 숫자를 제거해 보자.\n"
   ]
  },
  {
   "cell_type": "code",
   "execution_count": 62,
   "id": "23590bb1",
   "metadata": {},
   "outputs": [
    {
     "data": {
      "text/plain": [
       "{1, 2, 3, 4, 5}"
      ]
     },
     "execution_count": 62,
     "metadata": {},
     "output_type": "execute_result"
    }
   ],
   "source": [
    "a =  [1, 1, 1, 2, 2, 3, 3, 3, 4, 4, 5]\n",
    "set(a)"
   ]
  },
  {
   "cell_type": "markdown",
   "id": "94127d3a",
   "metadata": {},
   "source": [
    "## Q12. 파이썬 변수\n",
    "파이썬은 다음처럼 동일한 값에 여러 개의 변수를 선언할 수 있다. 다음과 같이 a, b 변수를 선언한 후 a 의\n",
    "두 번째 요솟값을 변경하면 b 값은 어떻게 될까? 그리고 이런 결과가 오는 이유에 대해 설명해 보자."
   ]
  },
  {
   "cell_type": "code",
   "execution_count": 63,
   "id": "7de56bef",
   "metadata": {},
   "outputs": [
    {
     "name": "stdout",
     "output_type": "stream",
     "text": [
      "[1, 4, 3]\n"
     ]
    }
   ],
   "source": [
    "a = b = [1,2,3]\n",
    "a[1] = 4\n",
    "print(b)"
   ]
  },
  {
   "cell_type": "markdown",
   "id": "b1cf79d8",
   "metadata": {},
   "source": [
    "a 와 b는 똑같은 주소값을 가지므로 객체가 변경되면 같이 변경된다."
   ]
  },
  {
   "cell_type": "code",
   "execution_count": null,
   "id": "42f87136",
   "metadata": {},
   "outputs": [],
   "source": []
  }
 ],
 "metadata": {
  "kernelspec": {
   "display_name": "Python 3 (ipykernel)",
   "language": "python",
   "name": "python3"
  },
  "language_info": {
   "codemirror_mode": {
    "name": "ipython",
    "version": 3
   },
   "file_extension": ".py",
   "mimetype": "text/x-python",
   "name": "python",
   "nbconvert_exporter": "python",
   "pygments_lexer": "ipython3",
   "version": "3.9.12"
  }
 },
 "nbformat": 4,
 "nbformat_minor": 5
}
