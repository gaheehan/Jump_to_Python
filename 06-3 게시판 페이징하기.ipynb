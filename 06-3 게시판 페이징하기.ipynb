{
 "cells": [
  {
   "cell_type": "markdown",
   "id": "a0a2b407",
   "metadata": {},
   "source": [
    "### 게시물의 총 건수와 한 페이지에 보여 줄 게시물 수를 입력으로 주었을 때 총 페이지 수를 출력하는 프로그램\n",
    "\n",
    "- 함수 이름은? get_total_page\n",
    "- 입력 받는 값은? 게시물의 총 건수(m), 한 페이지에 보여줄 게시물 수(n)\n",
    "- 출력하는 값은? 총 페이지 수\n",
    "\n",
    "1. 총 건수(m)을 한 페이지에 보여줄 게시물(n)으로 나누고 1을 더하면 총 페이지 수를 얻을 수 있다.\n",
    "\n",
    "총 페이지 수 = (m/n)+1\n",
    "\n"
   ]
  },
  {
   "cell_type": "code",
   "execution_count": 1,
   "id": "ae843b0d",
   "metadata": {},
   "outputs": [
    {
     "name": "stdout",
     "output_type": "stream",
     "text": [
      "1\n",
      "2\n",
      "3\n",
      "4\n"
     ]
    }
   ],
   "source": [
    "def get_total_page(m,n):\n",
    "    return m//n + 1\n",
    "\n",
    "print(get_total_page(5,10))\n",
    "print(get_total_page(15,10))\n",
    "print(get_total_page(25,10))\n",
    "print(get_total_page(30,10))"
   ]
  },
  {
   "cell_type": "markdown",
   "id": "e63560f2",
   "metadata": {},
   "source": [
    "네 번째 케이스: 총 건수가 30이고 한 페이지에서 보여 줄 수 있는 건수가 10이면 3이 출력 되어야한다.\n",
    "\n",
    " 2. 실패 케이스는 총 게시물 수와 한 페이지에서 보여 줄 게시물 수를 나눈 나머지 값이 0이 될 때 발생함을 유추할 수 있다. 실패 케이시를 해결하도록 코드를 변경"
   ]
  },
  {
   "cell_type": "code",
   "execution_count": 3,
   "id": "c7b3256b",
   "metadata": {},
   "outputs": [
    {
     "name": "stdout",
     "output_type": "stream",
     "text": [
      "1\n",
      "2\n",
      "3\n",
      "3\n"
     ]
    }
   ],
   "source": [
    "def get_total_page(m,n):\n",
    "    if m % n == 0:\n",
    "        return m // n\n",
    "    else:\n",
    "        return m // n + 1\n",
    "    \n",
    "print(get_total_page(5,10))\n",
    "print(get_total_page(15,10))\n",
    "print(get_total_page(25,10))\n",
    "print(get_total_page(30,10))"
   ]
  }
 ],
 "metadata": {
  "kernelspec": {
   "display_name": "Python 3 (ipykernel)",
   "language": "python",
   "name": "python3"
  },
  "language_info": {
   "codemirror_mode": {
    "name": "ipython",
    "version": 3
   },
   "file_extension": ".py",
   "mimetype": "text/x-python",
   "name": "python",
   "nbconvert_exporter": "python",
   "pygments_lexer": "ipython3",
   "version": "3.11.1"
  }
 },
 "nbformat": 4,
 "nbformat_minor": 5
}
