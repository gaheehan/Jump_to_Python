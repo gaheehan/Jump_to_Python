{
 "cells": [
  {
   "cell_type": "markdown",
   "id": "af8dd405",
   "metadata": {},
   "source": [
    "## 04-1 함수"
   ]
  },
  {
   "cell_type": "markdown",
   "id": "ec9873f7",
   "metadata": {},
   "source": [
    "### 파이썬 함수의 구조"
   ]
  },
  {
   "cell_type": "code",
   "execution_count": 1,
   "id": "54fd06de",
   "metadata": {},
   "outputs": [],
   "source": [
    "def add(a,b):\n",
    "    return a+b"
   ]
  },
  {
   "cell_type": "code",
   "execution_count": 2,
   "id": "5eb7b916",
   "metadata": {},
   "outputs": [
    {
     "name": "stdout",
     "output_type": "stream",
     "text": [
      "7\n"
     ]
    }
   ],
   "source": [
    "a = 3\n",
    "b = 4\n",
    "c = add(a,b)\n",
    "print(c)"
   ]
  },
  {
   "cell_type": "markdown",
   "id": "fc5b8c20",
   "metadata": {},
   "source": [
    "### 매개변수와 인수"
   ]
  },
  {
   "cell_type": "code",
   "execution_count": 3,
   "id": "06c905c5",
   "metadata": {},
   "outputs": [
    {
     "name": "stdout",
     "output_type": "stream",
     "text": [
      "7\n"
     ]
    }
   ],
   "source": [
    "def add(a,b):   # a,b는 매개변수\n",
    "    return a+b \n",
    "\n",
    "print(add(3,4))  # 3,4는 인수"
   ]
  },
  {
   "cell_type": "markdown",
   "id": "559a7441",
   "metadata": {},
   "source": [
    "- 매개변수 : 함수에 전달된 값을 저장하는 변수\n",
    "- 인수: 함수에 전달하는 값\n"
   ]
  },
  {
   "cell_type": "markdown",
   "id": "ea1f4ba8",
   "metadata": {},
   "source": [
    "### 입력값과 리턴값에 따른 함수의 형태\n",
    "\n",
    "입력값 -> 함수 -> 리턴값"
   ]
  },
  {
   "cell_type": "markdown",
   "id": "7f228ce0",
   "metadata": {},
   "source": [
    "#### 일반적인 함수\n",
    "\n",
    "입력값과 리턴값이 있는 함수"
   ]
  },
  {
   "cell_type": "code",
   "execution_count": 4,
   "id": "a1d7dcf8",
   "metadata": {},
   "outputs": [],
   "source": [
    "def add(a,b):\n",
    "    result = a+b\n",
    "    return result"
   ]
  },
  {
   "cell_type": "code",
   "execution_count": 5,
   "id": "f6452f6f",
   "metadata": {},
   "outputs": [
    {
     "name": "stdout",
     "output_type": "stream",
     "text": [
      "7\n"
     ]
    }
   ],
   "source": [
    "a = add(3,4)\n",
    "print(a)"
   ]
  },
  {
   "cell_type": "markdown",
   "id": "8ed09473",
   "metadata": {},
   "source": [
    "#### 입력값이 없는 함수 "
   ]
  },
  {
   "cell_type": "code",
   "execution_count": 6,
   "id": "fc7451a9",
   "metadata": {},
   "outputs": [],
   "source": [
    "def say():\n",
    "    return 'Hi'"
   ]
  },
  {
   "cell_type": "code",
   "execution_count": 7,
   "id": "e0b48d95",
   "metadata": {},
   "outputs": [
    {
     "name": "stdout",
     "output_type": "stream",
     "text": [
      "Hi\n"
     ]
    }
   ],
   "source": [
    "a = say()\n",
    "print(a)"
   ]
  },
  {
   "cell_type": "markdown",
   "id": "bbb4de17",
   "metadata": {},
   "source": [
    "#### 리턴값이 없는 함수"
   ]
  },
  {
   "cell_type": "code",
   "execution_count": 8,
   "id": "eda0fc59",
   "metadata": {},
   "outputs": [],
   "source": [
    "def add(a,b):\n",
    "    print(\"%d, %d의 합은 %d입니다.\" %(a,b,a+b))"
   ]
  },
  {
   "cell_type": "code",
   "execution_count": 9,
   "id": "041cc5e8",
   "metadata": {},
   "outputs": [
    {
     "name": "stdout",
     "output_type": "stream",
     "text": [
      "3, 4의 합은 7입니다.\n"
     ]
    }
   ],
   "source": [
    "add(3,4)"
   ]
  },
  {
   "cell_type": "code",
   "execution_count": 10,
   "id": "8fd409e4",
   "metadata": {},
   "outputs": [
    {
     "name": "stdout",
     "output_type": "stream",
     "text": [
      "3, 4의 합은 7입니다.\n",
      "None\n"
     ]
    }
   ],
   "source": [
    "a = add(3,4)\n",
    "print(a) # 리턴값이 없다."
   ]
  },
  {
   "cell_type": "markdown",
   "id": "163eab16",
   "metadata": {},
   "source": [
    "#### 입력값도 리턴값도 없는 함수"
   ]
  },
  {
   "cell_type": "code",
   "execution_count": 12,
   "id": "ce0d4239",
   "metadata": {},
   "outputs": [],
   "source": [
    "def say():\n",
    "    print(\"Hi\")"
   ]
  },
  {
   "cell_type": "code",
   "execution_count": 13,
   "id": "fb57660c",
   "metadata": {},
   "outputs": [
    {
     "name": "stdout",
     "output_type": "stream",
     "text": [
      "Hi\n"
     ]
    }
   ],
   "source": [
    "say()"
   ]
  },
  {
   "cell_type": "markdown",
   "id": "8a9721f0",
   "metadata": {},
   "source": [
    "### 매개변수 지정하여 호출하기"
   ]
  },
  {
   "cell_type": "code",
   "execution_count": 14,
   "id": "276a8b10",
   "metadata": {},
   "outputs": [],
   "source": [
    "def sub(a,b):\n",
    "    return a-b"
   ]
  },
  {
   "cell_type": "code",
   "execution_count": 15,
   "id": "4b8d9414",
   "metadata": {},
   "outputs": [
    {
     "name": "stdout",
     "output_type": "stream",
     "text": [
      "4\n"
     ]
    }
   ],
   "source": [
    "result = sub(a=7,b=3) # a에 7, b에 3을 전달\n",
    "print(result)"
   ]
  },
  {
   "cell_type": "code",
   "execution_count": 17,
   "id": "800c6980",
   "metadata": {},
   "outputs": [
    {
     "name": "stdout",
     "output_type": "stream",
     "text": [
      "-2\n"
     ]
    }
   ],
   "source": [
    "result = sub(b=5, a=3) #b에 5, a에 3을 전달\n",
    "print(result)\n",
    "\n",
    "# 매개변수를 지정하면 순서에 상관없이 사용할 수 있다."
   ]
  },
  {
   "cell_type": "markdown",
   "id": "3c56c764",
   "metadata": {},
   "source": [
    "### 입력값이 몇 개가 될지 모를 때 여러 개의 입력값을 받는 함수 "
   ]
  },
  {
   "cell_type": "code",
   "execution_count": 4,
   "id": "77311d65",
   "metadata": {},
   "outputs": [],
   "source": [
    "def add_many(*args):\n",
    "    result = 0\n",
    "    for i in args:\n",
    "        result += i\n",
    "    return result\n",
    "# *args처럼 매개변수 이름 앞에 *을 붙이면 입력값을 전부 모아서 튜플로 만들어 준다.\n",
    "# *args는 임의로 정한 변수 이름 *python처럼 아무 이름이나 써도 됨"
   ]
  },
  {
   "cell_type": "code",
   "execution_count": 5,
   "id": "d5aa4626",
   "metadata": {},
   "outputs": [
    {
     "name": "stdout",
     "output_type": "stream",
     "text": [
      "6\n"
     ]
    }
   ],
   "source": [
    "result = add_many(1,2,3)\n",
    "print(result)"
   ]
  },
  {
   "cell_type": "code",
   "execution_count": 8,
   "id": "d671a5fb",
   "metadata": {},
   "outputs": [
    {
     "name": "stdout",
     "output_type": "stream",
     "text": [
      "55\n"
     ]
    }
   ],
   "source": [
    "result = add_many(1,2,3,4,5,6,7,8,9,10)\n",
    "print(result)"
   ]
  },
  {
   "cell_type": "code",
   "execution_count": 9,
   "id": "f00eb34a",
   "metadata": {},
   "outputs": [],
   "source": [
    "def add_mul(choice, *args):\n",
    "    if choice == \"add\":\n",
    "        result = 0\n",
    "        for i in args:\n",
    "            result = result + i\n",
    "    elif choice == \"mul\":\n",
    "        result = 1\n",
    "        for i in args:\n",
    "            result = result * i\n",
    "    return result"
   ]
  },
  {
   "cell_type": "code",
   "execution_count": 11,
   "id": "939cb5bb",
   "metadata": {},
   "outputs": [
    {
     "name": "stdout",
     "output_type": "stream",
     "text": [
      "15\n"
     ]
    }
   ],
   "source": [
    "result = add_mul('add', 1,2,3,4,5)\n",
    "print(result)"
   ]
  },
  {
   "cell_type": "code",
   "execution_count": 13,
   "id": "5bd81bd2",
   "metadata": {},
   "outputs": [
    {
     "name": "stdout",
     "output_type": "stream",
     "text": [
      "120\n"
     ]
    }
   ],
   "source": [
    "result = add_mul(\"mul\",1,2,3,4,5)\n",
    "print(result)"
   ]
  },
  {
   "cell_type": "markdown",
   "id": "b5033e45",
   "metadata": {},
   "source": [
    "### 키워드 매개변수 kwargs"
   ]
  },
  {
   "cell_type": "code",
   "execution_count": 14,
   "id": "8de6588c",
   "metadata": {},
   "outputs": [],
   "source": [
    "def print_kwargs(**kwargs):\n",
    "    print(kwargs)"
   ]
  },
  {
   "cell_type": "code",
   "execution_count": 15,
   "id": "0e29b7ca",
   "metadata": {},
   "outputs": [
    {
     "name": "stdout",
     "output_type": "stream",
     "text": [
      "{'a': 1}\n"
     ]
    }
   ],
   "source": [
    "print_kwargs(a=1)"
   ]
  },
  {
   "cell_type": "code",
   "execution_count": 16,
   "id": "7eae21c6",
   "metadata": {},
   "outputs": [
    {
     "name": "stdout",
     "output_type": "stream",
     "text": [
      "{'name': '가을', 'age': 6}\n"
     ]
    }
   ],
   "source": [
    "print_kwargs(name='가을', age=6)"
   ]
  },
  {
   "cell_type": "markdown",
   "id": "1dff8279",
   "metadata": {},
   "source": [
    "** kwargs 처럼 매개변수 이름 앞에 **를 붙이면 매개변수 kwargs는 딕셔너리가 되고 모든 key=value형태의 입력값이 그 딕셔너리에 저장된다"
   ]
  },
  {
   "cell_type": "markdown",
   "id": "916dbf02",
   "metadata": {},
   "source": [
    "### 함수의 리턴값은 언제나 하나이다"
   ]
  },
  {
   "cell_type": "code",
   "execution_count": 17,
   "id": "3abd3f5b",
   "metadata": {},
   "outputs": [],
   "source": [
    "def add_and_mul(a,b):\n",
    "    return a+b,a*b"
   ]
  },
  {
   "cell_type": "code",
   "execution_count": 19,
   "id": "b69e302d",
   "metadata": {},
   "outputs": [
    {
     "name": "stdout",
     "output_type": "stream",
     "text": [
      "(7, 12)\n"
     ]
    }
   ],
   "source": [
    "result = add_and_mul(3,4)\n",
    "print(result)"
   ]
  },
  {
   "cell_type": "code",
   "execution_count": 20,
   "id": "52b9c7f3",
   "metadata": {},
   "outputs": [],
   "source": [
    "# 하나의 튜플 값 2개의 값으로 분리하여 받고 싶을땐\n",
    "result1, result2 = add_and_mul(3,4)"
   ]
  },
  {
   "cell_type": "code",
   "execution_count": 21,
   "id": "b319bf2d",
   "metadata": {},
   "outputs": [
    {
     "name": "stdout",
     "output_type": "stream",
     "text": [
      "7\n",
      "12\n"
     ]
    }
   ],
   "source": [
    "print(result1)\n",
    "print(result2)"
   ]
  },
  {
   "cell_type": "code",
   "execution_count": 22,
   "id": "84c65566",
   "metadata": {},
   "outputs": [],
   "source": [
    "def add_and_mul(a,b):\n",
    "    return a+b\n",
    "    return a*b"
   ]
  },
  {
   "cell_type": "code",
   "execution_count": 24,
   "id": "763d8dee",
   "metadata": {},
   "outputs": [
    {
     "name": "stdout",
     "output_type": "stream",
     "text": [
      "5\n"
     ]
    }
   ],
   "source": [
    "result = add_and_mul(2,3)\n",
    "print(result)\n",
    "\n",
    "# 즉 함수는 return문을 만나는 순간 리턴값을 돌려준 다음 함수를 빠져나가게 된다."
   ]
  },
  {
   "cell_type": "markdown",
   "id": "5e73cbed",
   "metadata": {},
   "source": [
    "#### return의 또 다른 쓰임새 \n",
    "특별한 상황일 때 함수를 빠져나가고 싶다면 return을 단독으로 써서 함수를 즉시 빠져나갈 수 있다."
   ]
  },
  {
   "cell_type": "code",
   "execution_count": 26,
   "id": "43ec6ce5",
   "metadata": {},
   "outputs": [],
   "source": [
    "def say_nick(nick):\n",
    "    if nick == '바보':\n",
    "        return\n",
    "    print(\"나의 별명은 %s 입니다.\" %nick)"
   ]
  },
  {
   "cell_type": "code",
   "execution_count": 27,
   "id": "784eabcc",
   "metadata": {},
   "outputs": [
    {
     "name": "stdout",
     "output_type": "stream",
     "text": [
      "나의 별명은 갈갈 입니다.\n"
     ]
    }
   ],
   "source": [
    "say_nick('갈갈')"
   ]
  },
  {
   "cell_type": "code",
   "execution_count": 29,
   "id": "d6542639",
   "metadata": {},
   "outputs": [],
   "source": [
    "say_nick('바보')\n",
    "# 입력값으로 '바보'라는 값이 들어오면 문자열을 출력하지 않고 함수를 즉시 빠져나간다."
   ]
  },
  {
   "cell_type": "markdown",
   "id": "347d73bb",
   "metadata": {},
   "source": [
    "### 매개변수에 초깃값 미리 설정하기"
   ]
  },
  {
   "cell_type": "code",
   "execution_count": 30,
   "id": "49d7eec6",
   "metadata": {},
   "outputs": [],
   "source": [
    "def say_myself(name, age, man=True):\n",
    "    print(\"나의 이름은 %s 입니다.\" % name)\n",
    "    print(\"나이는 %d 입니다.\" % age)\n",
    "    if man:\n",
    "        print(\"남자입니다.\")\n",
    "    else:\n",
    "        print(\"여자입니다.\")"
   ]
  },
  {
   "cell_type": "code",
   "execution_count": 34,
   "id": "9e7a3c6b",
   "metadata": {},
   "outputs": [
    {
     "name": "stdout",
     "output_type": "stream",
     "text": [
      "나의 이름은 한가희 입니다.\n",
      "나이는 29 입니다.\n",
      "여자입니다.\n"
     ]
    }
   ],
   "source": [
    "say_myself('한가희',29,False)"
   ]
  },
  {
   "cell_type": "code",
   "execution_count": 37,
   "id": "b8b9e86c",
   "metadata": {},
   "outputs": [
    {
     "ename": "SyntaxError",
     "evalue": "non-default argument follows default argument (846339074.py, line 1)",
     "output_type": "error",
     "traceback": [
      "\u001b[1;36m  Input \u001b[1;32mIn [37]\u001b[1;36m\u001b[0m\n\u001b[1;33m    def say_myself(name, woman=True, age):\u001b[0m\n\u001b[1;37m                                        ^\u001b[0m\n\u001b[1;31mSyntaxError\u001b[0m\u001b[1;31m:\u001b[0m non-default argument follows default argument\n"
     ]
    }
   ],
   "source": [
    "def say_myself(name, woman=True, age):\n",
    "    print(\"나의 이름은 %s 입니다.\" % name)\n",
    "    print(\"나이는 %d살 입니다.\" % age)\n",
    "    if woman:\n",
    "        print(\"여자입니다.\")\n",
    "    else:\n",
    "        print(\"남자입니다.\")\n",
    "        \n",
    "# 위 오류 메시지는 초깃값이 없는 매개변수 (age) 는 초깃값이 있는 매개변수 (man) 뒤에 사용할 수 없다는 뜻\n",
    "# 초기화 시키고 싶은 매개변수는 항상 뒤쪽에 놓아야 함"
   ]
  },
  {
   "cell_type": "markdown",
   "id": "7b285465",
   "metadata": {},
   "source": [
    "### 함수 안에서 선언한 변수의 효력 범위\n",
    "함수 안에서 사용할 변수의 이름을 함수 밖에서도 동일하게 사용한다면 어떻게 될까?"
   ]
  },
  {
   "cell_type": "code",
   "execution_count": 41,
   "id": "b7184c02",
   "metadata": {},
   "outputs": [
    {
     "name": "stdout",
     "output_type": "stream",
     "text": [
      "1\n"
     ]
    }
   ],
   "source": [
    "a = 1\n",
    "def vartest(a):\n",
    "    a = a+1\n",
    "\n",
    "vartest(a)\n",
    "print(a)\n",
    "\n",
    "# 함수 안에서 사용하는 매개변수는 함수 안에서만 사용하는 \"함수만의 변수\"이다.\n",
    "# def vartest(a)에서 입력값을 전달받는 매개변수 a는 함수 안에서만 사용하는 변수이지 함수 밖의 변수 a와는 전혀 상관없다는 뜻이다.'''"
   ]
  },
  {
   "cell_type": "code",
   "execution_count": 43,
   "id": "9c46bd47",
   "metadata": {},
   "outputs": [
    {
     "name": "stdout",
     "output_type": "stream",
     "text": [
      "1\n"
     ]
    }
   ],
   "source": [
    "a = 1\n",
    "def vartest(a):\n",
    "    a = a+1\n",
    "\n",
    "vartest(3)\n",
    "print(a)"
   ]
  },
  {
   "cell_type": "markdown",
   "id": "fa5470b5",
   "metadata": {},
   "source": [
    "### 함수 안에서 함수 밖의 변수를 변경하는 방법\n",
    "\n",
    "vartest라는 함수르 사용해서 함수 밖의 변수 a를 1만큼 증가시키는 방법"
   ]
  },
  {
   "cell_type": "markdown",
   "id": "a3249338",
   "metadata": {},
   "source": [
    "#### 1. return 사용하기 "
   ]
  },
  {
   "cell_type": "code",
   "execution_count": 44,
   "id": "593d1460",
   "metadata": {},
   "outputs": [
    {
     "name": "stdout",
     "output_type": "stream",
     "text": [
      "2\n"
     ]
    }
   ],
   "source": [
    "a = 1\n",
    "def vartest(a):\n",
    "    a = a+1\n",
    "    return a\n",
    "a = vartest(a)\n",
    "print(a)"
   ]
  },
  {
   "cell_type": "markdown",
   "id": "022a716a",
   "metadata": {},
   "source": [
    "#### 2. global 명령어 사용하기 "
   ]
  },
  {
   "cell_type": "code",
   "execution_count": 45,
   "id": "5c96123a",
   "metadata": {},
   "outputs": [
    {
     "name": "stdout",
     "output_type": "stream",
     "text": [
      "2\n"
     ]
    }
   ],
   "source": [
    "a = 1\n",
    "def vartest():\n",
    "    global a\n",
    "    a = a+1\n",
    "    \n",
    "vartest()\n",
    "print(a)\n",
    "\n",
    "# vartest함수 안의 global a 문장은 함수 안에서 함수 밖의 a 변수를 직접 사용하겠다는 뜻이다."
   ]
  },
  {
   "cell_type": "markdown",
   "id": "515ed177",
   "metadata": {},
   "source": [
    "### lambda\n",
    "\n",
    "lambda는 함수를 생성할 때 사용하는 예약어로 def와 동일한 역할을 한다. 보통 함수를 한줄로 간결하게 만들 때 사용"
   ]
  },
  {
   "cell_type": "code",
   "execution_count": 46,
   "id": "644dcedf",
   "metadata": {},
   "outputs": [
    {
     "name": "stdout",
     "output_type": "stream",
     "text": [
      "7\n"
     ]
    }
   ],
   "source": [
    "add = lambda a,b: a+b\n",
    "result = add(3,4)\n",
    "print(result)"
   ]
  },
  {
   "cell_type": "code",
   "execution_count": 47,
   "id": "089047e2",
   "metadata": {},
   "outputs": [
    {
     "name": "stdout",
     "output_type": "stream",
     "text": [
      "7\n"
     ]
    }
   ],
   "source": [
    "def add(a,b):\n",
    "    return a+b\n",
    "\n",
    "result = add(3,4)\n",
    "print(result)"
   ]
  },
  {
   "cell_type": "code",
   "execution_count": 48,
   "id": "a2064534",
   "metadata": {},
   "outputs": [
    {
     "name": "stdout",
     "output_type": "stream",
     "text": [
      "6\n"
     ]
    }
   ],
   "source": [
    "mul = lambda a,b: a*b\n",
    "result = mul(2,3)\n",
    "print(result)"
   ]
  },
  {
   "cell_type": "code",
   "execution_count": null,
   "id": "f1198d9e",
   "metadata": {},
   "outputs": [],
   "source": []
  }
 ],
 "metadata": {
  "kernelspec": {
   "display_name": "Python 3 (ipykernel)",
   "language": "python",
   "name": "python3"
  },
  "language_info": {
   "codemirror_mode": {
    "name": "ipython",
    "version": 3
   },
   "file_extension": ".py",
   "mimetype": "text/x-python",
   "name": "python",
   "nbconvert_exporter": "python",
   "pygments_lexer": "ipython3",
   "version": "3.9.12"
  }
 },
 "nbformat": 4,
 "nbformat_minor": 5
}
