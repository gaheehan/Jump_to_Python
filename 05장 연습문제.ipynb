{
 "cells": [
  {
   "cell_type": "markdown",
   "id": "f5a61683",
   "metadata": {},
   "source": [
    "## Q1. UpgradeCalculator\n",
    "\n",
    "minus 메서드 추가"
   ]
  },
  {
   "cell_type": "code",
   "execution_count": 1,
   "id": "e79d73d7",
   "metadata": {},
   "outputs": [],
   "source": [
    "class UpgradeCalculator:\n",
    "    def __init__(self):\n",
    "        self.value = 0\n",
    "        \n",
    "    def add(self,val):\n",
    "        self.value += val\n",
    "        \n",
    "    def minus(self,val):\n",
    "        self.value -= val"
   ]
  },
  {
   "cell_type": "code",
   "execution_count": 2,
   "id": "cec7f426",
   "metadata": {},
   "outputs": [],
   "source": [
    "cal = UpgradeCalculator()\n",
    "cal.add(10)\n",
    "cal.minus(7)"
   ]
  },
  {
   "cell_type": "code",
   "execution_count": 3,
   "id": "4e9d3d33",
   "metadata": {},
   "outputs": [
    {
     "name": "stdout",
     "output_type": "stream",
     "text": [
      "3\n"
     ]
    }
   ],
   "source": [
    "print(cal.value)"
   ]
  },
  {
   "cell_type": "markdown",
   "id": "0e3607fe",
   "metadata": {},
   "source": [
    "## Q2. MaxLimitCalculator\n",
    "\n",
    "객체변수 value 가 100 이상의 값은 가질 수 없도록 제한하는 MaxLimitCalculator 클래스를 만들어 보자."
   ]
  },
  {
   "cell_type": "code",
   "execution_count": 2,
   "id": "b87b6128",
   "metadata": {},
   "outputs": [],
   "source": [
    "class MaxLimitCalculator:\n",
    "    def __init__(self):\n",
    "        self.value = 0\n",
    "        \n",
    "    def add(self,val):\n",
    "        self.value += val\n",
    "        if self.value > 100:\n",
    "            self.value = 100"
   ]
  },
  {
   "cell_type": "code",
   "execution_count": 3,
   "id": "fd01ff67",
   "metadata": {},
   "outputs": [
    {
     "name": "stdout",
     "output_type": "stream",
     "text": [
      "100\n"
     ]
    }
   ],
   "source": [
    "cal = MaxLimitCalculator()\n",
    "cal.add(60)\n",
    "cal.add(50)\n",
    "\n",
    "print(cal.value)"
   ]
  },
  {
   "cell_type": "markdown",
   "id": "96814527",
   "metadata": {},
   "source": [
    "## Q3. 참과 거짓 예측하기"
   ]
  },
  {
   "cell_type": "code",
   "execution_count": 2,
   "id": "ceb0ff58",
   "metadata": {},
   "outputs": [
    {
     "data": {
      "text/plain": [
       "False"
      ]
     },
     "execution_count": 2,
     "metadata": {},
     "output_type": "execute_result"
    }
   ],
   "source": [
    "# 거짓 0은 거짓이므로 하나라도 거짓이면 False 출력\n",
    "\n",
    "all([1,2, abs(-3)-3])"
   ]
  },
  {
   "cell_type": "code",
   "execution_count": 3,
   "id": "efc43779",
   "metadata": {},
   "outputs": [
    {
     "data": {
      "text/plain": [
       "True"
      ]
     },
     "execution_count": 3,
     "metadata": {},
     "output_type": "execute_result"
    }
   ],
   "source": [
    "# ord는 유니코드 출력. 그러므로 True 출력\n",
    "\n",
    "chr(ord('a')) == 'a'"
   ]
  },
  {
   "cell_type": "code",
   "execution_count": 4,
   "id": "23718be5",
   "metadata": {},
   "outputs": [
    {
     "data": {
      "text/plain": [
       "97"
      ]
     },
     "execution_count": 4,
     "metadata": {},
     "output_type": "execute_result"
    }
   ],
   "source": [
    "ord('a')"
   ]
  },
  {
   "cell_type": "markdown",
   "id": "2a8ce448",
   "metadata": {},
   "source": [
    "## Q4. 음수 제거하기\n",
    "\n",
    "filter 와 lambda 를 사용하여 리스트 [1, ‑2, 3, ‑5, 8, ‑3] 에서 음수를 모두 제거해 보자"
   ]
  },
  {
   "cell_type": "code",
   "execution_count": 7,
   "id": "d4225ecc",
   "metadata": {},
   "outputs": [
    {
     "data": {
      "text/plain": [
       "[1, 3, 8]"
      ]
     },
     "execution_count": 7,
     "metadata": {},
     "output_type": "execute_result"
    }
   ],
   "source": [
    "list(filter(lambda x: x>0,[1,-2,3,-5,8,-3]))"
   ]
  },
  {
   "cell_type": "markdown",
   "id": "c9fa3e96",
   "metadata": {},
   "source": [
    "## Q5. 16진수를 10진수로 변경하기"
   ]
  },
  {
   "cell_type": "code",
   "execution_count": 8,
   "id": "f58c1235",
   "metadata": {},
   "outputs": [
    {
     "data": {
      "text/plain": [
       "'0xea'"
      ]
     },
     "execution_count": 8,
     "metadata": {},
     "output_type": "execute_result"
    }
   ],
   "source": [
    "hex(234)"
   ]
  },
  {
   "cell_type": "code",
   "execution_count": 9,
   "id": "19e11dc1",
   "metadata": {},
   "outputs": [
    {
     "data": {
      "text/plain": [
       "234"
      ]
     },
     "execution_count": 9,
     "metadata": {},
     "output_type": "execute_result"
    }
   ],
   "source": [
    "int(0Xea)"
   ]
  },
  {
   "cell_type": "markdown",
   "id": "27f5d174",
   "metadata": {},
   "source": [
    "## Q6. 리스트 항목마다 3 곱하여 리턴하기 \n",
    "map 과 lambda 를 사용하여 [1, 2, 3, 4] 리스트의 각 요솟값에 3 이 곱해진 리스트 [3, 6, 9, 12] 를 만들어\n",
    "보자"
   ]
  },
  {
   "cell_type": "code",
   "execution_count": 1,
   "id": "ed1c3567",
   "metadata": {},
   "outputs": [
    {
     "data": {
      "text/plain": [
       "[3, 6, 9, 12]"
      ]
     },
     "execution_count": 1,
     "metadata": {},
     "output_type": "execute_result"
    }
   ],
   "source": [
    "list(map(lambda a: a*3, [1,2,3,4]))"
   ]
  },
  {
   "cell_type": "markdown",
   "id": "852bee29",
   "metadata": {},
   "source": [
    "## Q7. 최댓값과 최솟값의 합"
   ]
  },
  {
   "cell_type": "code",
   "execution_count": 2,
   "id": "c3415df9",
   "metadata": {},
   "outputs": [
    {
     "data": {
      "text/plain": [
       "-1"
      ]
     },
     "execution_count": 2,
     "metadata": {},
     "output_type": "execute_result"
    }
   ],
   "source": [
    "a = [-8,2,7,5,-3,5,0,1]\n",
    "\n",
    "max(a)+min(a)"
   ]
  },
  {
   "cell_type": "markdown",
   "id": "38a3ce6d",
   "metadata": {},
   "source": [
    "## Q8. 소수점 반올림하기\n",
    "\n",
    "17/3을 소숫점 4자리까지만 반올림하여 표시해 보자\n"
   ]
  },
  {
   "cell_type": "code",
   "execution_count": 3,
   "id": "330a6b15",
   "metadata": {},
   "outputs": [
    {
     "data": {
      "text/plain": [
       "5.6667"
      ]
     },
     "execution_count": 3,
     "metadata": {},
     "output_type": "execute_result"
    }
   ],
   "source": [
    "round(17/3, 4)"
   ]
  },
  {
   "cell_type": "markdown",
   "id": "ee9cb9a6",
   "metadata": {},
   "source": [
    "## Q9. 디렉터리 이동하고 파일 목록 출력하기\n",
    "os 모듈을 사용하여 다음과 같이 동작하도록 코드를 작성해 보자.\n",
    "1. C:\\doit 디렉터리로 이동한다.\n",
    "2. dir 명령을 실행하고 그 결과를 변수에 담는다.\n",
    "3. dir 명령의 결과를 출력한다.\n"
   ]
  },
  {
   "cell_type": "code",
   "execution_count": 4,
   "id": "07a59418",
   "metadata": {},
   "outputs": [],
   "source": [
    "import os\n",
    "os.chdir(\"C:/doit\")"
   ]
  },
  {
   "cell_type": "code",
   "execution_count": 5,
   "id": "63f1d93b",
   "metadata": {},
   "outputs": [],
   "source": [
    "result = os.popen(\"dir\")"
   ]
  },
  {
   "cell_type": "code",
   "execution_count": 6,
   "id": "32122b67",
   "metadata": {},
   "outputs": [
    {
     "name": "stdout",
     "output_type": "stream",
     "text": [
      " C 드라이브의 볼륨에는 이름이 없습니다.\n",
      " 볼륨 일련 번호: FEF4-DFE1\n",
      "\n",
      " C:\\doit 디렉터리\n",
      "\n",
      "2023-03-06  오후 10:20    <DIR>          .\n",
      "2023-03-03  오후 12:41    <DIR>          .ipynb_checkpoints\n",
      "2023-02-14  오후 08:22             9,716 02장 연습문제.ipynb\n",
      "2023-02-15  오후 11:31             6,753 03장 연습문제.ipynb\n",
      "2023-02-16  오후 11:05            18,794 04-1 함수.ipynb\n",
      "2023-02-17  오후 08:42            45,162 04-2,3,4 파이썬의 입력과 출력.ipynb\n",
      "2023-02-17  오후 09:35            17,127 04장 연습문제.ipynb\n",
      "2023-03-06  오후 08:46            71,930 05-1 클래스.ipynb\n",
      "2023-03-06  오후 08:46           142,687 05-2 모듈.ipynb\n",
      "2023-03-06  오후 08:46            58,302 05-3 패키지.ipynb\n",
      "2023-03-06  오후 08:46            12,655 05-4 예외 처리.ipynb\n",
      "2023-03-06  오후 10:15            39,429 05-5 내장함수.ipynb\n",
      "2023-03-06  오후 08:46        33,030,619 05-6 표준 라이브러리.ipynb\n",
      "2023-03-02  오후 09:01            17,494 05-7 외부 라이브러리.ipynb\n",
      "2023-03-06  오후 10:20             7,541 05장 연습문제.ipynb\n",
      "2023-02-14  오후 08:05           124,739 2.자료형.ipynb\n",
      "2023-02-15  오후 11:06        49,063,643 3. 제어문.ipynb\n",
      "2023-03-01  오후 06:57                16 a.txt\n",
      "2023-03-01  오후 07:56                30 b.txt\n",
      "2023-03-01  오후 07:56                29 c.txt\n",
      "2023-02-17  오후 08:28                30 cat.txt\n",
      "2023-02-15  오후 10:31               550 coffee.py\n",
      "2023-03-01  오후 07:56                28 d.txt\n",
      "2023-02-21  오후 08:12    <DIR>          game\n",
      "2023-01-19  오후 04:27                33 hello.py\n",
      "2023-01-19  오후 04:03         3,022,208 jump2python.pdf\n",
      "2023-02-15  오후 10:46               235 marks1.py\n",
      "2023-02-15  오후 10:49               331 marks2.py\n",
      "2023-02-21  오후 03:52               151 mod1.py\n",
      "2023-02-21  오후 04:06                68 modtest.py\n",
      "2023-02-17  오후 09:32               130 myargv.py\n",
      "2023-03-01  오후 08:47                58 myinfo.json\n",
      "2023-02-21  오후 04:09    <DIR>          mymod\n",
      "2023-03-01  오후 08:00               429 mytext.zip\n",
      "2023-02-17  오후 08:35                71 sys1.py\n",
      "2023-02-17  오후 08:39                88 sys2.py\n",
      "2023-02-28  오후 09:34                 0 test\n",
      "2023-03-01  오후 07:09                40 test.txt\n",
      "2023-02-21  오후 04:06    <DIR>          __pycache__\n",
      "2023-02-17  오후 08:25               343 새파일.txt\n",
      "              35개 파일          85,691,459 바이트\n",
      "               5개 디렉터리  125,094,555,648 바이트 남음\n",
      "\n"
     ]
    }
   ],
   "source": [
    "print(result.read())"
   ]
  },
  {
   "cell_type": "markdown",
   "id": "07d59b63",
   "metadata": {},
   "source": [
    "## Q10. 파일 확장자가.py 인 파일만 찾기"
   ]
  },
  {
   "cell_type": "code",
   "execution_count": 8,
   "id": "e9bf8c45",
   "metadata": {
    "scrolled": true
   },
   "outputs": [
    {
     "data": {
      "text/plain": [
       "['C:/doit\\\\coffee.py',\n",
       " 'C:/doit\\\\hello.py',\n",
       " 'C:/doit\\\\marks1.py',\n",
       " 'C:/doit\\\\marks2.py',\n",
       " 'C:/doit\\\\mod1.py',\n",
       " 'C:/doit\\\\modtest.py',\n",
       " 'C:/doit\\\\myargv.py',\n",
       " 'C:/doit\\\\sys1.py',\n",
       " 'C:/doit\\\\sys2.py']"
      ]
     },
     "execution_count": 8,
     "metadata": {},
     "output_type": "execute_result"
    }
   ],
   "source": [
    "import glob\n",
    "glob.glob(\"C:/doit/*.py\")"
   ]
  },
  {
   "cell_type": "markdown",
   "id": "aa84352c",
   "metadata": {},
   "source": [
    "## Q11. 날짜 표시하기"
   ]
  },
  {
   "cell_type": "code",
   "execution_count": 11,
   "id": "6c717025",
   "metadata": {},
   "outputs": [
    {
     "data": {
      "text/plain": [
       "'2023/03/06 22:33:31'"
      ]
     },
     "execution_count": 11,
     "metadata": {},
     "output_type": "execute_result"
    }
   ],
   "source": [
    "import time\n",
    "\n",
    "time.strftime(\"%Y/%m/%d %H:%M:%S\")"
   ]
  },
  {
   "cell_type": "markdown",
   "id": "bfef3783",
   "metadata": {},
   "source": [
    "## Q12. 로또 번호 생성하기\n",
    "\n",
    "random 모듈을 사용하여 로또 번호 (1~45 사이의 숫자 6 개) 를 생성해 보자 (단 중복된 숫자가 있으면 안\n",
    "됨)"
   ]
  },
  {
   "cell_type": "code",
   "execution_count": 20,
   "id": "f6f04c72",
   "metadata": {},
   "outputs": [
    {
     "data": {
      "text/plain": [
       "[14, 13, 40, 20, 2, 33]"
      ]
     },
     "execution_count": 20,
     "metadata": {},
     "output_type": "execute_result"
    }
   ],
   "source": [
    "import random\n",
    "\n",
    "lotto = range(1,46)\n",
    "random.sample(lotto, 6)"
   ]
  },
  {
   "cell_type": "code",
   "execution_count": 14,
   "id": "abc6ec58",
   "metadata": {},
   "outputs": [
    {
     "name": "stdout",
     "output_type": "stream",
     "text": [
      "[9, 38, 36, 29, 34, 27]\n"
     ]
    }
   ],
   "source": [
    "import random\n",
    "\n",
    "result = []\n",
    "while len(result) < 6:\n",
    "    num = random.randint(1,45)\n",
    "    if num not in result:\n",
    "        result.append(num)\n",
    "        \n",
    "print(result)"
   ]
  },
  {
   "cell_type": "markdown",
   "id": "466c620f",
   "metadata": {},
   "source": [
    "## Q13. 누나는 영철이보다 며칠 더 먼저 태어났을까?\n",
    "영철이 누나의 생일은 1995 년 11 월 20 일이고 영철이의 생일은 1998 년 10 월 6 일이다. 영철이 누나는\n",
    "영철이보다 며칠 더 먼저 태어났을까?\n"
   ]
  },
  {
   "cell_type": "code",
   "execution_count": 24,
   "id": "52f98e0a",
   "metadata": {},
   "outputs": [
    {
     "name": "stdout",
     "output_type": "stream",
     "text": [
      "1051\n"
     ]
    }
   ],
   "source": [
    "import datetime\n",
    "\n",
    "sister = datetime.date(1995, 11, 20)\n",
    "yc = datetime.date(1998, 10, 6)\n",
    "\n",
    "diff = yc - sister\n",
    "print(diff.days)"
   ]
  },
  {
   "cell_type": "markdown",
   "id": "c5b7013e",
   "metadata": {},
   "source": [
    "## Q14. 기록순으로 정렬하기\n"
   ]
  },
  {
   "cell_type": "code",
   "execution_count": 25,
   "id": "8dd15776",
   "metadata": {},
   "outputs": [],
   "source": [
    "data = [('윤 서 현', 15.25),\n",
    "        ('김 예 지', 13.31),\n",
    "        ('박 예 원', 15.34),\n",
    "        ('송 순 자', 15.57),\n",
    "        ('김 시 우', 15.48),\n",
    "        ('배 숙 자', 17.9),\n",
    "        ('전 정 웅', 13.39),\n",
    "        ('김 혜 진', 16.63),\n",
    "        ('최 보 람', 17.14),\n",
    "        ('한 지 영', 14.83),\n",
    "        ('이 성 호', 17.7),\n",
    "        ('김 옥 순', 16.71),\n",
    "        ('황 민 지', 17.65),\n",
    "        ('김 영 철', 16.7),\n",
    "        ('주 병 철', 15.67),\n",
    "        ('박 상 현', 14.16),\n",
    "        ('김 영 순', 14.81),\n",
    "        ('오 지 아', 15.13),\n",
    "        ('윤 지 은', 16.93),\n",
    "        ('문 재 호', 16.39)]\n"
   ]
  },
  {
   "cell_type": "code",
   "execution_count": 26,
   "id": "325b9bc6",
   "metadata": {},
   "outputs": [
    {
     "data": {
      "text/plain": [
       "[('김 예 지', 13.31),\n",
       " ('전 정 웅', 13.39),\n",
       " ('박 상 현', 14.16),\n",
       " ('김 영 순', 14.81),\n",
       " ('한 지 영', 14.83),\n",
       " ('오 지 아', 15.13),\n",
       " ('윤 서 현', 15.25),\n",
       " ('박 예 원', 15.34),\n",
       " ('김 시 우', 15.48),\n",
       " ('송 순 자', 15.57),\n",
       " ('주 병 철', 15.67),\n",
       " ('문 재 호', 16.39),\n",
       " ('김 혜 진', 16.63),\n",
       " ('김 영 철', 16.7),\n",
       " ('김 옥 순', 16.71),\n",
       " ('윤 지 은', 16.93),\n",
       " ('최 보 람', 17.14),\n",
       " ('황 민 지', 17.65),\n",
       " ('이 성 호', 17.7),\n",
       " ('배 숙 자', 17.9)]"
      ]
     },
     "execution_count": 26,
     "metadata": {},
     "output_type": "execute_result"
    }
   ],
   "source": [
    "from operator import itemgetter\n",
    "\n",
    "sorted(data, key=itemgetter(1))"
   ]
  },
  {
   "cell_type": "markdown",
   "id": "4dd66ccb",
   "metadata": {},
   "source": [
    "## Q15. 청소 당번 2 명 뽑기\n",
    "다음 4 명의 학생 중 청소 당번 2 명을 뽑을수 있는 경우의 수를 모두 나열하시오.\n"
   ]
  },
  {
   "cell_type": "code",
   "execution_count": 27,
   "id": "886d3d66",
   "metadata": {},
   "outputs": [
    {
     "data": {
      "text/plain": [
       "[('강백호', '송태섭'),\n",
       " ('강백호', '정대만'),\n",
       " ('강백호', '서태웅'),\n",
       " ('송태섭', '정대만'),\n",
       " ('송태섭', '서태웅'),\n",
       " ('정대만', '서태웅')]"
      ]
     },
     "execution_count": 27,
     "metadata": {},
     "output_type": "execute_result"
    }
   ],
   "source": [
    "students = ['강백호', '송태섭', '정대만','서태웅']\n",
    "\n",
    "import itertools\n",
    "\n",
    "list(itertools.combinations(students,2))"
   ]
  },
  {
   "cell_type": "markdown",
   "id": "d60bdbd5",
   "metadata": {},
   "source": [
    "## Q16. 문자열 나열하기\n",
    "\n",
    "\"abcd\"문자열을 나열하는 경우의 수를 모두 출력하시오."
   ]
  },
  {
   "cell_type": "code",
   "execution_count": 30,
   "id": "9474c17c",
   "metadata": {},
   "outputs": [
    {
     "name": "stdout",
     "output_type": "stream",
     "text": [
      "abcd\n",
      "abdc\n",
      "acbd\n",
      "acdb\n",
      "adbc\n",
      "adcb\n",
      "bacd\n",
      "badc\n",
      "bcad\n",
      "bcda\n",
      "bdac\n",
      "bdca\n",
      "cabd\n",
      "cadb\n",
      "cbad\n",
      "cbda\n",
      "cdab\n",
      "cdba\n",
      "dabc\n",
      "dacb\n",
      "dbac\n",
      "dbca\n",
      "dcab\n",
      "dcba\n"
     ]
    }
   ],
   "source": [
    "import itertools\n",
    "\n",
    "for a,b,c,d in itertools.permutations(['a','b','c','d'],4):\n",
    "    print(a+b+c+d)"
   ]
  },
  {
   "cell_type": "markdown",
   "id": "9760b1e8",
   "metadata": {},
   "source": [
    "## Q17. 5명에게 할일 부여하기"
   ]
  },
  {
   "cell_type": "markdown",
   "id": "c7072b62",
   "metadata": {},
   "source": [
    "다음 5명이 있다.\n",
    "\n",
    "['채치수','정대만','송태섭','서태웅','강백호']\n",
    "\n",
    "그리고 해야 할 일은 3가지가 있다.\n",
    "['청소','공닦기','빨래']\n",
    "\n",
    "5 명을 무작위로 섞어 앞의 3 명에게 차례로 해야할 일인 [\"청소\", \"빨래\", \"공닦기\"]를 지정하고\n",
    "나머지 2 명에게는 “휴식” 을 지정할 수 있는 프로그램을 작성하시오."
   ]
  },
  {
   "cell_type": "code",
   "execution_count": 47,
   "id": "071911bc",
   "metadata": {},
   "outputs": [
    {
     "name": "stdout",
     "output_type": "stream",
     "text": [
      "('송태섭', '청소')\n",
      "('채치수', '빨래')\n",
      "('강백호', '공닦기')\n",
      "('서태웅', '휴식')\n",
      "('정대만', '휴식')\n"
     ]
    }
   ],
   "source": [
    "import random \n",
    "import itertools\n",
    "\n",
    "students = [\"채치수\",\"정대만\",\"송태섭\",\"서태웅\",\"강백호\"]\n",
    "do = [\"청소\",\"빨래\",\"공닦기\"]\n",
    "\n",
    "random.shuffle(students) # 무작위로 섞는다.\n",
    "\n",
    "result = itertools.zip_longest(students,do, fillvalue = \"휴식\")\n",
    "for r in result:\n",
    "    print(r)"
   ]
  },
  {
   "cell_type": "markdown",
   "id": "dcb4328c",
   "metadata": {},
   "source": [
    "## Q18. 벽에 타일 붙이기 \n",
    "\n",
    "가로의 길이는 200cm 이고 세로의 길이는 80cm 인 벽이 있다. 이 벽에 가능한 한 큰 정사각형 모양\n",
    "의 타일을 붙이려고 한다. 이때 붙이려는 타일 한 선의 길이와, 붙이는데 필요한 타일의 개수를 구하시오.\n"
   ]
  },
  {
   "cell_type": "code",
   "execution_count": 48,
   "id": "1b74792e",
   "metadata": {},
   "outputs": [
    {
     "data": {
      "text/plain": [
       "40"
      ]
     },
     "execution_count": 48,
     "metadata": {},
     "output_type": "execute_result"
    }
   ],
   "source": [
    "import math\n",
    "\n",
    "math.gcd(200,80)"
   ]
  },
  {
   "cell_type": "code",
   "execution_count": 50,
   "id": "00ec284d",
   "metadata": {},
   "outputs": [
    {
     "name": "stdout",
     "output_type": "stream",
     "text": [
      "10.0\n"
     ]
    }
   ],
   "source": [
    "num = (200/40)*(80/40)\n",
    "print(num)"
   ]
  },
  {
   "cell_type": "code",
   "execution_count": 54,
   "id": "72cbe5f9",
   "metadata": {},
   "outputs": [
    {
     "name": "stdout",
     "output_type": "stream",
     "text": [
      "타일 한 선의 길이: 40cm\n",
      "필요한 타일의 갯수: 10개\n"
     ]
    }
   ],
   "source": [
    "import math\n",
    "\n",
    "width = 200\n",
    "height = 80\n",
    "\n",
    "square_size = math.gcd(200, 80)\n",
    "print(\"타일 한 선의 길이: {}cm\".format(square_size))\n",
    "\n",
    "width_count = width/square_size\n",
    "height_count = height/square_size\n",
    "\n",
    "print(\"필요한 타일의 갯수: {}개\".format(int(width_count*height_count)))"
   ]
  },
  {
   "cell_type": "code",
   "execution_count": null,
   "id": "e3fce61e",
   "metadata": {},
   "outputs": [],
   "source": []
  }
 ],
 "metadata": {
  "kernelspec": {
   "display_name": "Python 3 (ipykernel)",
   "language": "python",
   "name": "python3"
  },
  "language_info": {
   "codemirror_mode": {
    "name": "ipython",
    "version": 3
   },
   "file_extension": ".py",
   "mimetype": "text/x-python",
   "name": "python",
   "nbconvert_exporter": "python",
   "pygments_lexer": "ipython3",
   "version": "3.11.1"
  }
 },
 "nbformat": 4,
 "nbformat_minor": 5
}
