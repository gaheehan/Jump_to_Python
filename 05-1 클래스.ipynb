{
 "cells": [
  {
   "cell_type": "markdown",
   "id": "078d105b",
   "metadata": {},
   "source": [
    "c언어에는 클래스가 없다. 클래스가 없어도 프로그램을 충분히 만들 수 있다. 하지만 프로그램을 작성할 때 클래스를 적재적소에 사용한다면 편리하게 프로그래밍을 할 수 있다."
   ]
  },
  {
   "cell_type": "markdown",
   "id": "9e150551",
   "metadata": {},
   "source": [
    "#### 계산기 예시\n",
    "\n",
    "계산기는 이전에 계산한 결괏값을 항상 메모리 어딘가에 저장하고 있어야 한다."
   ]
  },
  {
   "cell_type": "code",
   "execution_count": 2,
   "id": "760ee6c8",
   "metadata": {},
   "outputs": [
    {
     "name": "stdout",
     "output_type": "stream",
     "text": [
      "3\n",
      "7\n"
     ]
    }
   ],
   "source": [
    "# 계산기의 \"더하기\"기능\n",
    "\n",
    "result = 0\n",
    "\n",
    "def add(num):\n",
    "    global result\n",
    "    result += num\n",
    "    return result\n",
    "\n",
    "print(add(3))\n",
    "print(add(4))\n",
    "\n",
    "# 이전에 계산한 결괏값을 유지하기 위해 result 전역변수(global)사용"
   ]
  },
  {
   "cell_type": "code",
   "execution_count": 3,
   "id": "64f977c5",
   "metadata": {},
   "outputs": [
    {
     "name": "stdout",
     "output_type": "stream",
     "text": [
      "3\n",
      "7\n",
      "3\n",
      "10\n"
     ]
    }
   ],
   "source": [
    "# 한 프로그램에서 2대의 계산기가 필요한 상황\n",
    "\n",
    "result1 = 0\n",
    "result2 = 0\n",
    "\n",
    "def add1(num):\n",
    "    global result1\n",
    "    result1 += num\n",
    "    return result1\n",
    "\n",
    "def add2(num):\n",
    "    global result2\n",
    "    result2 += num\n",
    "    return result2\n",
    "\n",
    "print(add1(3))\n",
    "print(add1(4))\n",
    "print(add2(3))\n",
    "print(add2(7))"
   ]
  },
  {
   "cell_type": "code",
   "execution_count": 4,
   "id": "24005c4f",
   "metadata": {},
   "outputs": [
    {
     "name": "stdout",
     "output_type": "stream",
     "text": [
      "3\n",
      "7\n",
      "3\n",
      "10\n"
     ]
    }
   ],
   "source": [
    "# 계산기가 점점 더 많이 필요해지고, 다양한 연산을 해야한다면 어떻게 구현할 것인가.\n",
    "\n",
    "# 클래스 사용!\n",
    "\n",
    "class Calculator:\n",
    "    def __init__(self):\n",
    "        self.result = 0\n",
    "        \n",
    "    def add(self, num):\n",
    "        self.result += num\n",
    "        return self.result\n",
    "    \n",
    "cal1 = Calculator()   # Calculator 클래스로 만든 별개의 계산기: 객체\n",
    "cal2 = Calculator()   # 객체\n",
    "\n",
    "print(cal1.add(3))\n",
    "print(cal1.add(4))\n",
    "print(cal2.add(3))\n",
    "print(cal2.add(7))"
   ]
  },
  {
   "cell_type": "code",
   "execution_count": 6,
   "id": "2842c967",
   "metadata": {},
   "outputs": [],
   "source": [
    "# 계산기 빼기 추가\n",
    "\n",
    "class Calculator:\n",
    "    def __init__(self):\n",
    "        self.result = 0\n",
    "        \n",
    "    def add(self, num):\n",
    "        self.result += num\n",
    "        return self.result\n",
    "    \n",
    "    def sub(self, num):\n",
    "        self.result -= num\n",
    "        return self.result\n",
    "    "
   ]
  },
  {
   "attachments": {
    "image.png": {
     "image/png": "[encoded data removed]"
    }
   },
   "cell_type": "markdown",
   "id": "d1cd4dc9",
   "metadata": {},
   "source": [
    "## 클래스와 객체\n",
    "\n",
    "![image.png](attachment:image.png)\n",
    "\n",
    "- 과자 틀 : 클래스\n",
    "- 과자틀에 의해 만들어진 과자: 객체\n",
    "\n",
    "클래스(class)란 똑같은 무엇인가를 계속해서 만들어 낼 수 있는 설계 도면이고, 객체(object)란 클래스로 만든 피조물을 뜻한다.\n",
    "\n",
    "클래스로 만든 객체는 객체마다 고유한 성격을 가진다.\n",
    "과자 틀로 만든 과자에 구멍을 뚫거나 조금 베어 먹더라도 다른 과자에는 아무 영향이 없는것과 마찬가지로 동일한 클래스로 만든 객체들은 서로 전혀 영향을 주지 않는다.\n"
   ]
  },
  {
   "cell_type": "code",
   "execution_count": 7,
   "id": "62e63781",
   "metadata": {},
   "outputs": [],
   "source": [
    "# 파이썬 클래스 예\n",
    "\n",
    "class Cookie:\n",
    "    pass\n",
    "\n",
    "# 아무 기능을 갖고 있지 않은 껍질뿐인 클래스 but 객체를 생성하는 기능이 있음"
   ]
  },
  {
   "cell_type": "code",
   "execution_count": 8,
   "id": "e2a0f728",
   "metadata": {},
   "outputs": [],
   "source": [
    "# 객체는 클래스로 만들며 1개의 클래스는 무수히 많은 객체를 만들어 낼 수 있다.\n",
    "\n",
    "a = Cookie()\n",
    "b = Cookie()\n",
    "\n",
    "# Cookie의 결괏값을 돌려받은 a와 b가 객체이다."
   ]
  },
  {
   "cell_type": "markdown",
   "id": "2e56718f",
   "metadata": {},
   "source": [
    "#### 객체와 인스턴스의 차이\n",
    "\n",
    "클래스로 만든 객체를 인스턴스라고도 한다. 객체와 인스턴스의 차이는 무엇인가 <br\n",
    "                                             >\n",
    "a = Cookie() 에서 a는 객체이다. 그리고 a객체는 Cookie의 인스턴스이다. \n"
   ]
  },
  {
   "cell_type": "markdown",
   "id": "5354fd0b",
   "metadata": {},
   "source": [
    "### 사칙연산 클래스 만들기"
   ]
  },
  {
   "cell_type": "markdown",
   "id": "186ad294",
   "metadata": {},
   "source": [
    "#### 클래스를 어떻게 만들지 먼저 구상하기\n",
    "\n",
    "Fourcal 클래스가 다음처럼 동작한다고 가정해보자.\n",
    "\n",
    "1. 먼저 a = FourCal()을 입력해서 a라는 객체를 만든다.\n",
    "2. a.setdata(4,2)처럼 입력해서 숫자를 a에 지정해주고\n",
    "3. a.add()를 수행하면 두 수를 합한 결과를 리턴\n",
    "4. a.mul()를 수행하면 두 수를 곱한 결과를 리턴\n",
    "5. a.sub()를 수행하면 두 수를 뺀 결과 리턴\n",
    "6. a.div()를 수행하면 두 수를 나눈 결과 리턴"
   ]
  },
  {
   "cell_type": "markdown",
   "id": "54a2fc2a",
   "metadata": {},
   "source": [
    "#### 클래스 구조 만들기 "
   ]
  },
  {
   "cell_type": "code",
   "execution_count": 11,
   "id": "8529bef5",
   "metadata": {},
   "outputs": [],
   "source": [
    "class FourCal:\n",
    "    pass\n",
    "\n",
    "# pass는 아무것도 수행하지 않는 문법으로 임시로 코드를 작성할 때 주로 사용한다.\n"
   ]
  },
  {
   "cell_type": "code",
   "execution_count": 12,
   "id": "e83c076e",
   "metadata": {},
   "outputs": [
    {
     "data": {
      "text/plain": [
       "__main__.FourCal"
      ]
     },
     "execution_count": 12,
     "metadata": {},
     "output_type": "execute_result"
    }
   ],
   "source": [
    "a = FourCal()\n",
    "type(a)\n",
    "\n",
    "# 객체 a가 FourCal 클래스의 인스턴스임을 알 수 있다."
   ]
  },
  {
   "cell_type": "markdown",
   "id": "d230b045",
   "metadata": {},
   "source": [
    "#### 객체에 숫자 지정할 수 있게 만들기"
   ]
  },
  {
   "cell_type": "code",
   "execution_count": 13,
   "id": "5f4fb6e4",
   "metadata": {},
   "outputs": [],
   "source": [
    "class FourCal:\n",
    "    def setdata(self, first, second):\n",
    "        self.first = first\n",
    "        self.second = second\n",
    "        \n",
    "        \n",
    "# 클래스 안에 구현된 함수는 메서드(Method)라고 부른다. setdata는 메서드이다."
   ]
  },
  {
   "cell_type": "markdown",
   "id": "2b9ee1ba",
   "metadata": {},
   "source": [
    "#### setdata 메서드의 매개변수\n",
    "setdata에서는 매개변수로 self,first,second 3개의 입력값을 받는다. 메서드의 첫 번째 매개변수 self는 특별한 의미를 가진다."
   ]
  },
  {
   "cell_type": "code",
   "execution_count": 14,
   "id": "936ec38b",
   "metadata": {},
   "outputs": [],
   "source": [
    "a = FourCal()\n",
    "a.setdata(4,2)"
   ]
  },
  {
   "attachments": {
    "image.png": {
     "image/png": "[encoded data removed]"
    }
   },
   "cell_type": "markdown",
   "id": "d7c99a23",
   "metadata": {},
   "source": [
    "setdata메서드 에서는 self,first,second 총 3개의 매개변수가 필요한데 실제로는 a.setdata(4,2)처럼 2개 값만 전달했다.\n",
    "\n",
    "그 이유는 setdata메서드의 첫 번째 매개변서 self에는 setdata 메서드를 호출한 객체a 가 자동으로 전달되기 때문! \n",
    "\n",
    "![image.png](attachment:image.png)"
   ]
  },
  {
   "cell_type": "markdown",
   "id": "2da713f5",
   "metadata": {},
   "source": [
    "#### 메서드의 또 다른 호출 방법\n",
    "(잘 사용하지 않음) 클래스를 통해 메서드 호출하는 것도 가능"
   ]
  },
  {
   "cell_type": "code",
   "execution_count": 17,
   "id": "ad9c03f5",
   "metadata": {},
   "outputs": [],
   "source": [
    "a = FourCal()\n",
    "FourCal.setdata(a, 4, 2)\n",
    "\n",
    "# 클래스이름.메서드 형태로 호출할 땐 객체 a를 첫 번째 매개변수 self에 꼭 전달해 주어야한다.\n",
    "# 반면에 객체.메서드 형태로 호출할 땐 self를 반드시 생략해서 호출해야한다."
   ]
  },
  {
   "cell_type": "markdown",
   "id": "badd4f72",
   "metadata": {},
   "source": [
    "#### setdata 메서드의 수행문"
   ]
  },
  {
   "cell_type": "code",
   "execution_count": 18,
   "id": "b1baddec",
   "metadata": {},
   "outputs": [
    {
     "name": "stdout",
     "output_type": "stream",
     "text": [
      "4\n",
      "2\n"
     ]
    }
   ],
   "source": [
    "a = FourCal()\n",
    "a.setdata(4,2)\n",
    "print(a.first)\n",
    "print(a.second)"
   ]
  },
  {
   "cell_type": "code",
   "execution_count": 19,
   "id": "f232d48f",
   "metadata": {},
   "outputs": [
    {
     "name": "stdout",
     "output_type": "stream",
     "text": [
      "3\n"
     ]
    }
   ],
   "source": [
    "b = FourCal()\n",
    "b.setdata(3,7)\n",
    "print(b.first)"
   ]
  },
  {
   "cell_type": "code",
   "execution_count": 20,
   "id": "ff44d15f",
   "metadata": {},
   "outputs": [
    {
     "name": "stdout",
     "output_type": "stream",
     "text": [
      "4\n"
     ]
    }
   ],
   "source": [
    "print(a.first)"
   ]
  },
  {
   "cell_type": "markdown",
   "id": "9c73098d",
   "metadata": {},
   "source": [
    "#### 더하기 기능 만들기"
   ]
  },
  {
   "cell_type": "code",
   "execution_count": 30,
   "id": "e875e036",
   "metadata": {},
   "outputs": [],
   "source": [
    "class FourCal:\n",
    "    def setdata(self, first, second):\n",
    "        self.first = first\n",
    "        self.second = second\n",
    "    def add(self):\n",
    "        result = self.first + self.second\n",
    "        return result\n",
    "    def mul(self):\n",
    "        result = self.first * self.second\n",
    "        return result\n",
    "    def sub(self):\n",
    "        result = self.first - self.second\n",
    "        return result\n",
    "    def div(self):\n",
    "        result = self.first / self.second\n",
    "        return result"
   ]
  },
  {
   "cell_type": "code",
   "execution_count": 32,
   "id": "1977f9ce",
   "metadata": {},
   "outputs": [
    {
     "name": "stdout",
     "output_type": "stream",
     "text": [
      "6\n"
     ]
    }
   ],
   "source": [
    "a = FourCal()\n",
    "a.setdata(4,2)\n",
    "print(a.add())"
   ]
  },
  {
   "cell_type": "code",
   "execution_count": 33,
   "id": "0a4f58df",
   "metadata": {},
   "outputs": [],
   "source": [
    "a = FourCal()\n",
    "b = FourCal()\n",
    "a.setdata(4,2)\n",
    "b.setdata(3,8)"
   ]
  },
  {
   "cell_type": "code",
   "execution_count": 34,
   "id": "40c63283",
   "metadata": {},
   "outputs": [
    {
     "data": {
      "text/plain": [
       "6"
      ]
     },
     "execution_count": 34,
     "metadata": {},
     "output_type": "execute_result"
    }
   ],
   "source": [
    "a.add()"
   ]
  },
  {
   "cell_type": "code",
   "execution_count": 35,
   "id": "fa310b00",
   "metadata": {},
   "outputs": [
    {
     "data": {
      "text/plain": [
       "8"
      ]
     },
     "execution_count": 35,
     "metadata": {},
     "output_type": "execute_result"
    }
   ],
   "source": [
    "a.mul()"
   ]
  },
  {
   "cell_type": "code",
   "execution_count": 36,
   "id": "6d0ca999",
   "metadata": {},
   "outputs": [
    {
     "data": {
      "text/plain": [
       "2"
      ]
     },
     "execution_count": 36,
     "metadata": {},
     "output_type": "execute_result"
    }
   ],
   "source": [
    "a.sub()"
   ]
  },
  {
   "cell_type": "code",
   "execution_count": 37,
   "id": "02956ffb",
   "metadata": {},
   "outputs": [
    {
     "data": {
      "text/plain": [
       "2.0"
      ]
     },
     "execution_count": 37,
     "metadata": {},
     "output_type": "execute_result"
    }
   ],
   "source": [
    "a.div()"
   ]
  },
  {
   "cell_type": "code",
   "execution_count": 38,
   "id": "44807ba8",
   "metadata": {},
   "outputs": [
    {
     "data": {
      "text/plain": [
       "11"
      ]
     },
     "execution_count": 38,
     "metadata": {},
     "output_type": "execute_result"
    }
   ],
   "source": [
    "b.add()"
   ]
  },
  {
   "cell_type": "code",
   "execution_count": 40,
   "id": "d67933f1",
   "metadata": {},
   "outputs": [
    {
     "data": {
      "text/plain": [
       "24"
      ]
     },
     "execution_count": 40,
     "metadata": {},
     "output_type": "execute_result"
    }
   ],
   "source": [
    "b.mul()"
   ]
  },
  {
   "cell_type": "code",
   "execution_count": 41,
   "id": "88ddb342",
   "metadata": {},
   "outputs": [
    {
     "data": {
      "text/plain": [
       "-5"
      ]
     },
     "execution_count": 41,
     "metadata": {},
     "output_type": "execute_result"
    }
   ],
   "source": [
    "b.sub()"
   ]
  },
  {
   "cell_type": "code",
   "execution_count": 42,
   "id": "a7e351a8",
   "metadata": {},
   "outputs": [
    {
     "data": {
      "text/plain": [
       "0.375"
      ]
     },
     "execution_count": 42,
     "metadata": {},
     "output_type": "execute_result"
    }
   ],
   "source": [
    "b.div()"
   ]
  },
  {
   "cell_type": "markdown",
   "id": "95f00bfb",
   "metadata": {},
   "source": [
    "### 생성자 (Constructor)"
   ]
  },
  {
   "cell_type": "code",
   "execution_count": 45,
   "id": "2aace154",
   "metadata": {},
   "outputs": [
    {
     "ename": "AttributeError",
     "evalue": "'FourCal' object has no attribute 'first'",
     "output_type": "error",
     "traceback": [
      "\u001b[1;31m---------------------------------------------------------------------------\u001b[0m",
      "\u001b[1;31mAttributeError\u001b[0m                            Traceback (most recent call last)",
      "Input \u001b[1;32mIn [45]\u001b[0m, in \u001b[0;36m<cell line: 2>\u001b[1;34m()\u001b[0m\n\u001b[0;32m      1\u001b[0m a \u001b[38;5;241m=\u001b[39m FourCal()\n\u001b[1;32m----> 2\u001b[0m \u001b[43ma\u001b[49m\u001b[38;5;241;43m.\u001b[39;49m\u001b[43madd\u001b[49m\u001b[43m(\u001b[49m\u001b[43m)\u001b[49m\n\u001b[0;32m      4\u001b[0m \u001b[38;5;124;03m\"\"\"FourCal클래스의 인스턴스 a에 setdata메서드를 수행하지 않고 add 메서드를 먼저 수행하면 오류가 발생\u001b[39;00m\n\u001b[0;32m      5\u001b[0m \u001b[38;5;124;03msetdata 메서드를 수행해야 객체 a의 객체변수 first와 second가 생성되기 때문이다.\u001b[39;00m\n\u001b[0;32m      6\u001b[0m \n\u001b[1;32m   (...)\u001b[0m\n\u001b[0;32m      9\u001b[0m \n\u001b[0;32m     10\u001b[0m \u001b[38;5;124;03m파이썬 메서드 이름으로 __init__ 를 사용하면 이 메서드는 생성자가 된다.\"\"\"\u001b[39;00m\n",
      "Input \u001b[1;32mIn [30]\u001b[0m, in \u001b[0;36mFourCal.add\u001b[1;34m(self)\u001b[0m\n\u001b[0;32m      5\u001b[0m \u001b[38;5;28;01mdef\u001b[39;00m \u001b[38;5;21madd\u001b[39m(\u001b[38;5;28mself\u001b[39m):\n\u001b[1;32m----> 6\u001b[0m     result \u001b[38;5;241m=\u001b[39m \u001b[38;5;28;43mself\u001b[39;49m\u001b[38;5;241;43m.\u001b[39;49m\u001b[43mfirst\u001b[49m \u001b[38;5;241m+\u001b[39m \u001b[38;5;28mself\u001b[39m\u001b[38;5;241m.\u001b[39msecond\n\u001b[0;32m      7\u001b[0m     \u001b[38;5;28;01mreturn\u001b[39;00m result\n",
      "\u001b[1;31mAttributeError\u001b[0m: 'FourCal' object has no attribute 'first'"
     ]
    }
   ],
   "source": [
    "a = FourCal()\n",
    "a.add()\n"
   ]
  },
  {
   "cell_type": "markdown",
   "id": "66cfbbe6",
   "metadata": {},
   "source": [
    "FourCal클래스의 인스턴스 a에 setdata메서드를 수행하지 않고 add 메서드를 먼저 수행하면 오류가 발생\n",
    "setdata 메서드를 수행해야 객체 a의 객체변수 first와 second가 생성되기 때문이다.\n",
    "\n",
    "객체에 first,second와 같은 초깃값을 설정해야 할 필요가 있을 때는 setdata와 같은 메서드를 호출하여 초깃값을 설정하기 보다는 생성자를 구현하는 것이 가장 안전한 방법이다.\n",
    "생성자(Counstructor)란 객체가 생성될 때 자동으로 호출되는 메서드를 의미한다.\n",
    "\n",
    "파이썬 메서드 이름으로 \"__init__\" 를 사용하면 이 메서드는 생성자가 된다.\n",
    "\n",
    "(언더바 언더바 init 언더바 언더바)"
   ]
  },
  {
   "cell_type": "code",
   "execution_count": 52,
   "id": "9d91c993",
   "metadata": {},
   "outputs": [],
   "source": [
    "class FourCal:\n",
    "    def __init__(self, first, second):\n",
    "        self.first = first\n",
    "        self.second = second\n",
    "    def setdata(self, first, second):\n",
    "        self.first = first\n",
    "        self.second = second\n",
    "    def add(self):\n",
    "        result = self.first + self.second\n",
    "        return result\n",
    "    def mul(self):\n",
    "        result = self.first * self.second\n",
    "        return result\n",
    "    def sub(self):\n",
    "        result = self.first - self.second\n",
    "        return result\n",
    "    def div(self):\n",
    "        result = self.first / self.second\n",
    "        return result\n",
    "        "
   ]
  },
  {
   "cell_type": "code",
   "execution_count": 47,
   "id": "1b5f48ec",
   "metadata": {},
   "outputs": [],
   "source": [
    "# __init__ 메서드는 setdata메서드와 이름만 다르고 모든게 동일. 단 메서드 이름을 __init__으로 했기 때문에 생성자로 인식되어 객체가 생성되는 시점에 자동으로 호출되는 차이가 있다."
   ]
  },
  {
   "cell_type": "code",
   "execution_count": 48,
   "id": "d700fbab",
   "metadata": {},
   "outputs": [
    {
     "ename": "TypeError",
     "evalue": "__init__() missing 2 required positional arguments: 'first' and 'second'",
     "output_type": "error",
     "traceback": [
      "\u001b[1;31m---------------------------------------------------------------------------\u001b[0m",
      "\u001b[1;31mTypeError\u001b[0m                                 Traceback (most recent call last)",
      "Input \u001b[1;32mIn [48]\u001b[0m, in \u001b[0;36m<cell line: 1>\u001b[1;34m()\u001b[0m\n\u001b[1;32m----> 1\u001b[0m a \u001b[38;5;241m=\u001b[39m \u001b[43mFourCal\u001b[49m\u001b[43m(\u001b[49m\u001b[43m)\u001b[49m\n",
      "\u001b[1;31mTypeError\u001b[0m: __init__() missing 2 required positional arguments: 'first' and 'second'"
     ]
    }
   ],
   "source": [
    "a = FourCal()\n"
   ]
  },
  {
   "cell_type": "code",
   "execution_count": 50,
   "id": "12ddbc33",
   "metadata": {},
   "outputs": [],
   "source": [
    "a = FourCal(4,2)\n",
    "\n",
    "# __init__ 메서드가 호출되면 setdata 메서드를 호출했을 때와 마찬가지로 first와 second라는 객체변수가 생성된다.\n"
   ]
  },
  {
   "cell_type": "code",
   "execution_count": 54,
   "id": "69e3e864",
   "metadata": {},
   "outputs": [
    {
     "name": "stdout",
     "output_type": "stream",
     "text": [
      "4\n",
      "2\n"
     ]
    }
   ],
   "source": [
    "a = FourCal(4,2)\n",
    "print(a.first)\n",
    "print(a.second)"
   ]
  },
  {
   "cell_type": "code",
   "execution_count": 55,
   "id": "2acd0227",
   "metadata": {},
   "outputs": [
    {
     "name": "stdout",
     "output_type": "stream",
     "text": [
      "6\n",
      "2.0\n"
     ]
    }
   ],
   "source": [
    "print(a.add())\n",
    "print(a.div())"
   ]
  },
  {
   "cell_type": "markdown",
   "id": "55991d8d",
   "metadata": {},
   "source": [
    "### 클래스의 상속\n",
    "\n",
    "어떤 클래스를 만들 때 다른 클래스의 기능을 물려받을 수 있게 만드는 것.<br>\n",
    "\n",
    "상속 개념을 사용하여 우리가 만든 FourCal클래스에 a^b(a의 b제곱)구할 수 있는 기능을 추가해보자."
   ]
  },
  {
   "cell_type": "code",
   "execution_count": 56,
   "id": "2729703b",
   "metadata": {},
   "outputs": [],
   "source": [
    "class MoreFourCal(FourCal):\n",
    "    pass\n",
    "\n",
    "# 클래스를 상속하기 위해서는 클래스 이름 뒤 괄호 안에 상속할 클래스 이름을 넣어주면 된다."
   ]
  },
  {
   "cell_type": "code",
   "execution_count": 58,
   "id": "d570291a",
   "metadata": {},
   "outputs": [
    {
     "name": "stdout",
     "output_type": "stream",
     "text": [
      "6\n",
      "8\n",
      "2\n",
      "2.0\n"
     ]
    }
   ],
   "source": [
    "a = MoreFourCal(4,2)\n",
    "\n",
    "print(a.add())\n",
    "print(a.mul())\n",
    "print(a.sub())\n",
    "print(a.div())"
   ]
  },
  {
   "cell_type": "code",
   "execution_count": 59,
   "id": "babd6462",
   "metadata": {},
   "outputs": [],
   "source": [
    "class MoreFourCal(FourCal):\n",
    "    def pow(self):\n",
    "        result = self.first ** self.second\n",
    "        return result"
   ]
  },
  {
   "cell_type": "code",
   "execution_count": 61,
   "id": "f4637506",
   "metadata": {},
   "outputs": [
    {
     "name": "stdout",
     "output_type": "stream",
     "text": [
      "16\n"
     ]
    }
   ],
   "source": [
    "a = MoreFourCal(4,2)\n",
    "\n",
    "print(a.pow())\n",
    "\n",
    "# 상속은 MoreFourCal 클래스처럼 기존 클래스 (FourCal) 는 그대로 놔둔 채 클래스의 기능을 확장시킬 때 주로 사용\n"
   ]
  },
  {
   "cell_type": "markdown",
   "id": "e410b675",
   "metadata": {},
   "source": [
    "### 메서드 오버라이딩"
   ]
  },
  {
   "cell_type": "code",
   "execution_count": 62,
   "id": "9d9a0a3a",
   "metadata": {},
   "outputs": [
    {
     "ename": "ZeroDivisionError",
     "evalue": "division by zero",
     "output_type": "error",
     "traceback": [
      "\u001b[1;31m---------------------------------------------------------------------------\u001b[0m",
      "\u001b[1;31mZeroDivisionError\u001b[0m                         Traceback (most recent call last)",
      "Input \u001b[1;32mIn [62]\u001b[0m, in \u001b[0;36m<cell line: 2>\u001b[1;34m()\u001b[0m\n\u001b[0;32m      1\u001b[0m a \u001b[38;5;241m=\u001b[39m FourCal(\u001b[38;5;241m4\u001b[39m, \u001b[38;5;241m0\u001b[39m)\n\u001b[1;32m----> 2\u001b[0m \u001b[43ma\u001b[49m\u001b[38;5;241;43m.\u001b[39;49m\u001b[43mdiv\u001b[49m\u001b[43m(\u001b[49m\u001b[43m)\u001b[49m\n",
      "Input \u001b[1;32mIn [52]\u001b[0m, in \u001b[0;36mFourCal.div\u001b[1;34m(self)\u001b[0m\n\u001b[0;32m     17\u001b[0m \u001b[38;5;28;01mdef\u001b[39;00m \u001b[38;5;21mdiv\u001b[39m(\u001b[38;5;28mself\u001b[39m):\n\u001b[1;32m---> 18\u001b[0m     result \u001b[38;5;241m=\u001b[39m \u001b[38;5;28;43mself\u001b[39;49m\u001b[38;5;241;43m.\u001b[39;49m\u001b[43mfirst\u001b[49m\u001b[43m \u001b[49m\u001b[38;5;241;43m/\u001b[39;49m\u001b[43m \u001b[49m\u001b[38;5;28;43mself\u001b[39;49m\u001b[38;5;241;43m.\u001b[39;49m\u001b[43msecond\u001b[49m\n\u001b[0;32m     19\u001b[0m     \u001b[38;5;28;01mreturn\u001b[39;00m result\n",
      "\u001b[1;31mZeroDivisionError\u001b[0m: division by zero"
     ]
    }
   ],
   "source": [
    "a = FourCal(4, 0)\n",
    "a.div()"
   ]
  },
  {
   "cell_type": "markdown",
   "id": "41a175ea",
   "metadata": {},
   "source": [
    "ZeroDivisionError 발생. 하지만 0으로 나눌 때 오류가 아닌 0을 리턴하도록 만들고 싶다면?????"
   ]
  },
  {
   "cell_type": "code",
   "execution_count": 63,
   "id": "15ff32ee",
   "metadata": {},
   "outputs": [],
   "source": [
    "class SafeFourCal(FourCal):\n",
    "    def div(self):\n",
    "        if self.second == 0:\n",
    "            return 0\n",
    "        else:\n",
    "            return self.first / self.second"
   ]
  },
  {
   "cell_type": "code",
   "execution_count": 67,
   "id": "78474c81",
   "metadata": {},
   "outputs": [
    {
     "name": "stdout",
     "output_type": "stream",
     "text": [
      "0\n"
     ]
    }
   ],
   "source": [
    "a = SafeFourCal(4,0)\n",
    "\n",
    "print(a.div())\n",
    "\n",
    "# FourCal 클래스 와는 달리 ZeroDivisionError가 발생되지 않고 의도한 대로 0이 리턴됨 "
   ]
  },
  {
   "cell_type": "markdown",
   "id": "3cd909b3",
   "metadata": {},
   "source": [
    "SafeFourCal 클래스는 FourCal클래스에 있는 div메서드를 동일한 이름으로 다시 작성했다. 이렇게 부모 클래스(상속한 클래스)에 있는 메서드를 동일한 이름으로 다시 만드는 것을 **메서드 오버라이딩**(Overriding,덮어쓰기)이라고 한다. "
   ]
  },
  {
   "cell_type": "markdown",
   "id": "f42a4668",
   "metadata": {},
   "source": [
    "### 클래스 변수\n",
    "\n",
    "객체변수는 다른 객체들의 영향을 받지 않고 독립적으로 그 값을 유지한다. 이번에는 객체변수와는 성격이 다른 클래스 변수에 대해 알아보자."
   ]
  },
  {
   "cell_type": "code",
   "execution_count": 68,
   "id": "de2009ee",
   "metadata": {},
   "outputs": [],
   "source": [
    "class Family:\n",
    "    lastname = \"한\"\n",
    "    \n",
    "# Family 클래스에 선언한 lastname이 클래스 변수이다. "
   ]
  },
  {
   "cell_type": "code",
   "execution_count": 69,
   "id": "33898b31",
   "metadata": {},
   "outputs": [
    {
     "name": "stdout",
     "output_type": "stream",
     "text": [
      "한\n"
     ]
    }
   ],
   "source": [
    "print(Family.lastname)"
   ]
  },
  {
   "cell_type": "code",
   "execution_count": 70,
   "id": "d3e0100b",
   "metadata": {},
   "outputs": [
    {
     "name": "stdout",
     "output_type": "stream",
     "text": [
      "한\n",
      "한\n"
     ]
    }
   ],
   "source": [
    "a = Family()\n",
    "b = Family()\n",
    "\n",
    "print(a.lastname)\n",
    "print(b.lastname)"
   ]
  },
  {
   "cell_type": "code",
   "execution_count": 71,
   "id": "d05edbc0",
   "metadata": {},
   "outputs": [],
   "source": [
    "Family.lastname = \"김\""
   ]
  },
  {
   "cell_type": "code",
   "execution_count": 73,
   "id": "4cc8d3bf",
   "metadata": {},
   "outputs": [
    {
     "name": "stdout",
     "output_type": "stream",
     "text": [
      "김\n",
      "김\n"
     ]
    }
   ],
   "source": [
    "print(a.lastname)\n",
    "print(b.lastname)\n",
    "\n",
    "\n",
    "# 클래스 값을 변경했더니 클래스로 만든 객체의 lastname값도 모두 변경된다는 것을 확인할 수 있다.\n",
    "# 즉, 클래스 변수는 클래스로 만든 모든 객체에 공유된다!"
   ]
  },
  {
   "cell_type": "markdown",
   "id": "bc0962f1",
   "metadata": {},
   "source": [
    "#### 클래스 변수와 동일한 이름의 객체 변수를 생성하면?\n"
   ]
  },
  {
   "cell_type": "code",
   "execution_count": 74,
   "id": "e2d0dc9b",
   "metadata": {},
   "outputs": [
    {
     "name": "stdout",
     "output_type": "stream",
     "text": [
      "육\n"
     ]
    }
   ],
   "source": [
    "a.lastname = \"육\"\n",
    "print(a.lastname)"
   ]
  },
  {
   "cell_type": "code",
   "execution_count": 75,
   "id": "c14fe2b3",
   "metadata": {},
   "outputs": [
    {
     "name": "stdout",
     "output_type": "stream",
     "text": [
      "김\n",
      "김\n"
     ]
    }
   ],
   "source": [
    "print(Family.lastname)\n",
    "print(b.lastname)"
   ]
  }
 ],
 "metadata": {
  "kernelspec": {
   "display_name": "Python 3 (ipykernel)",
   "language": "python",
   "name": "python3"
  },
  "language_info": {
   "codemirror_mode": {
    "name": "ipython",
    "version": 3
   },
   "file_extension": ".py",
   "mimetype": "text/x-python",
   "name": "python",
   "nbconvert_exporter": "python",
   "pygments_lexer": "ipython3",
   "version": "3.9.12"
  }
 },
 "nbformat": 4,
 "nbformat_minor": 5
}
